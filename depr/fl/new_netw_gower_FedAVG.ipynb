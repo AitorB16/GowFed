{
 "cells": [
  {
   "cell_type": "code",
   "execution_count": 1,
   "metadata": {},
   "outputs": [
    {
     "name": "stderr",
     "output_type": "stream",
     "text": [
      "2022-07-01 11:11:58.551110: W tensorflow/stream_executor/platform/default/dso_loader.cc:64] Could not load dynamic library 'libcudart.so.11.0'; dlerror: libcudart.so.11.0: cannot open shared object file: No such file or directory\n",
      "2022-07-01 11:11:58.551146: I tensorflow/stream_executor/cuda/cudart_stub.cc:29] Ignore above cudart dlerror if you do not have a GPU set up on your machine.\n"
     ]
    },
    {
     "name": "stdout",
     "output_type": "stream",
     "text": [
      "['/home/tester/Desktop/TF/TFF', '/usr/lib/python39.zip', '/usr/lib/python3.9', '/usr/lib/python3.9/lib-dynload', '', '/home/tester/venv/lib/python3.9/site-packages', '/home/tester/Desktop/TF/federated/tensorflow_federated/examples/simple_fedavg', '/home/tester/Desktop/TF/gower/gower', '/home/tester/Desktop/TF/federated/tensorflow_federated/examples/simple_fedavg']\n"
     ]
    }
   ],
   "source": [
    "import matplotlib.pyplot as plt\n",
    "import numpy as np\n",
    "import pandas as pd\n",
    "import tensorflow as tf\n",
    "import tensorflow_federated as tff\n",
    "\n",
    "import collections\n",
    "\n",
    "from absl import app\n",
    "\n",
    "import nest_asyncio\n",
    "nest_asyncio.apply()\n",
    "\n",
    "from sklearn.model_selection import train_test_split\n",
    "\n",
    "from sklearn.metrics import accuracy_score, precision_score, recall_score, f1_score, roc_auc_score\n",
    "\n",
    "from sklearn.preprocessing import MinMaxScaler, StandardScaler, OneHotEncoder\n",
    "\n",
    "from keras.backend import print_tensor\n",
    "\n",
    "#import gower\n",
    "\n",
    "import sys\n",
    "sys.path.append(\"/home/tester/Desktop/TF/federated/tensorflow_federated/examples/simple_fedavg\")\n",
    "sys.path.append(\"/home/tester/Desktop/TF/gower/gower\")\n",
    "#print(sys.path)\n",
    "import simple_fedavg_tff\n",
    "import gower_dist as gd\n"
   ]
  },
  {
   "cell_type": "code",
   "execution_count": 2,
   "metadata": {},
   "outputs": [],
   "source": [
    "# Training hyperparameters\n",
    "RUN_NAME = 'F2'\n",
    "TOTAL_ROUNDS = 600 #NUMBER OF TOTAL TRAINING ROUNDS\n",
    "ROUNDS_PER_EVAL = 1 #HOW OFTEN TO EVALUATE\n",
    "TRAIN_CLIENTS_PER_ROUND = 4 #HOW MANY CLIENTS TO SAMPLE PER ROUND\n",
    "CLIENT_EPOCHS_PER_ROUND = 2 #NUMBER OF EPOCHS IN THE CLIENT TO TAKE PER ROUND\n",
    "BATCH_SIZE = 32 #BATCH SIZE USED ON THE CLIENT\n",
    "TEST_BATCH_SIZE = 16 #MINIBATCH SIZE OF TEST DATA\n",
    "SERVER_LEARNING_RATE = 0.0001 #SERVER LEARNING RATE\n",
    "CLIENT_LEARNING_RATE = 0.00001 #CLIENT LEARNING RATE\n",
    "NUM_CLIENTS = 20\n",
    "\n",
    "TRAIN_SIZE = 40000\n",
    "TEST_SIZE = 4000\n",
    "\n",
    "BALANCE_DATA = True\n",
    "PRINT_SCR = True"
   ]
  },
  {
   "cell_type": "code",
   "execution_count": 3,
   "metadata": {},
   "outputs": [],
   "source": [
    "#Save cofiguration\n",
    "CONFIG_STR = 'TOTAL_ROUNDS: ' + str(TOTAL_ROUNDS) + '\\nROUNDS_PER_EVAL: ' + str(ROUNDS_PER_EVAL) + '\\nTRAIN_CLIENTS_PER_ROUND: ' + str(TRAIN_CLIENTS_PER_ROUND) + '\\nCLIENT_EPOCHS_PER_ROUND: ' + str(CLIENT_EPOCHS_PER_ROUND) + '\\nBATCH_SIZE: ' + str(BATCH_SIZE) + '\\nTEST_BATCH_SIZE: ' + str(TEST_BATCH_SIZE) + '\\nSERVER_LEARNING_RATE: ' + str(SERVER_LEARNING_RATE) + '\\nCLIENT_LEARNING_RATE: '+ str(CLIENT_LEARNING_RATE) + '\\nNUM_CLIENTS: ' + str(NUM_CLIENTS) + '\\nTRAIN_SIZE: ' + str(TRAIN_SIZE) + '\\nTEST_SIZE: ' + str(TEST_SIZE) + '\\nBALANCE_DATA: ' + str(BALANCE_DATA) + '\\n'\n",
    "with open('./experiments/' + RUN_NAME + 'conf.txt', 'w') as f: #Should be XML?\n",
    "    f.write(CONFIG_STR)"
   ]
  },
  {
   "cell_type": "code",
   "execution_count": 4,
   "metadata": {},
   "outputs": [
    {
     "data": {
      "text/html": [
       "<div>\n",
       "<style scoped>\n",
       "    .dataframe tbody tr th:only-of-type {\n",
       "        vertical-align: middle;\n",
       "    }\n",
       "\n",
       "    .dataframe tbody tr th {\n",
       "        vertical-align: top;\n",
       "    }\n",
       "\n",
       "    .dataframe thead th {\n",
       "        text-align: right;\n",
       "    }\n",
       "</style>\n",
       "<table border=\"1\" class=\"dataframe\">\n",
       "  <thead>\n",
       "    <tr style=\"text-align: right;\">\n",
       "      <th></th>\n",
       "      <th>src_ip</th>\n",
       "      <th>src_port</th>\n",
       "      <th>dst_ip</th>\n",
       "      <th>dst_port</th>\n",
       "      <th>proto</th>\n",
       "      <th>service</th>\n",
       "      <th>duration</th>\n",
       "      <th>src_bytes</th>\n",
       "      <th>dst_bytes</th>\n",
       "      <th>conn_state</th>\n",
       "      <th>...</th>\n",
       "      <th>http_request_body_len</th>\n",
       "      <th>http_response_body_len</th>\n",
       "      <th>http_status_code</th>\n",
       "      <th>http_user_agent</th>\n",
       "      <th>http_orig_mime_types</th>\n",
       "      <th>http_resp_mime_types</th>\n",
       "      <th>weird_name</th>\n",
       "      <th>weird_addl</th>\n",
       "      <th>weird_notice</th>\n",
       "      <th>label</th>\n",
       "    </tr>\n",
       "  </thead>\n",
       "  <tbody>\n",
       "    <tr>\n",
       "      <th>0</th>\n",
       "      <td>3.122.49.24</td>\n",
       "      <td>1883</td>\n",
       "      <td>192.168.1.152</td>\n",
       "      <td>52976</td>\n",
       "      <td>tcp</td>\n",
       "      <td>-</td>\n",
       "      <td>80549.530260</td>\n",
       "      <td>1762852</td>\n",
       "      <td>41933215</td>\n",
       "      <td>OTH</td>\n",
       "      <td>...</td>\n",
       "      <td>0</td>\n",
       "      <td>0</td>\n",
       "      <td>0</td>\n",
       "      <td>-</td>\n",
       "      <td>-</td>\n",
       "      <td>-</td>\n",
       "      <td>bad_TCP_checksum</td>\n",
       "      <td>-</td>\n",
       "      <td>F</td>\n",
       "      <td>0</td>\n",
       "    </tr>\n",
       "    <tr>\n",
       "      <th>1</th>\n",
       "      <td>192.168.1.79</td>\n",
       "      <td>47260</td>\n",
       "      <td>192.168.1.255</td>\n",
       "      <td>15600</td>\n",
       "      <td>udp</td>\n",
       "      <td>-</td>\n",
       "      <td>0.000000</td>\n",
       "      <td>0</td>\n",
       "      <td>0</td>\n",
       "      <td>S0</td>\n",
       "      <td>...</td>\n",
       "      <td>0</td>\n",
       "      <td>0</td>\n",
       "      <td>0</td>\n",
       "      <td>-</td>\n",
       "      <td>-</td>\n",
       "      <td>-</td>\n",
       "      <td>-</td>\n",
       "      <td>-</td>\n",
       "      <td>-</td>\n",
       "      <td>0</td>\n",
       "    </tr>\n",
       "    <tr>\n",
       "      <th>2</th>\n",
       "      <td>192.168.1.152</td>\n",
       "      <td>1880</td>\n",
       "      <td>192.168.1.152</td>\n",
       "      <td>51782</td>\n",
       "      <td>tcp</td>\n",
       "      <td>-</td>\n",
       "      <td>0.000000</td>\n",
       "      <td>0</td>\n",
       "      <td>0</td>\n",
       "      <td>OTH</td>\n",
       "      <td>...</td>\n",
       "      <td>0</td>\n",
       "      <td>0</td>\n",
       "      <td>0</td>\n",
       "      <td>-</td>\n",
       "      <td>-</td>\n",
       "      <td>-</td>\n",
       "      <td>bad_TCP_checksum</td>\n",
       "      <td>-</td>\n",
       "      <td>F</td>\n",
       "      <td>0</td>\n",
       "    </tr>\n",
       "    <tr>\n",
       "      <th>3</th>\n",
       "      <td>192.168.1.152</td>\n",
       "      <td>34296</td>\n",
       "      <td>192.168.1.152</td>\n",
       "      <td>10502</td>\n",
       "      <td>tcp</td>\n",
       "      <td>-</td>\n",
       "      <td>0.000000</td>\n",
       "      <td>0</td>\n",
       "      <td>0</td>\n",
       "      <td>OTH</td>\n",
       "      <td>...</td>\n",
       "      <td>0</td>\n",
       "      <td>0</td>\n",
       "      <td>0</td>\n",
       "      <td>-</td>\n",
       "      <td>-</td>\n",
       "      <td>-</td>\n",
       "      <td>-</td>\n",
       "      <td>-</td>\n",
       "      <td>-</td>\n",
       "      <td>0</td>\n",
       "    </tr>\n",
       "    <tr>\n",
       "      <th>4</th>\n",
       "      <td>192.168.1.152</td>\n",
       "      <td>46608</td>\n",
       "      <td>192.168.1.190</td>\n",
       "      <td>53</td>\n",
       "      <td>udp</td>\n",
       "      <td>dns</td>\n",
       "      <td>0.000549</td>\n",
       "      <td>0</td>\n",
       "      <td>298</td>\n",
       "      <td>SHR</td>\n",
       "      <td>...</td>\n",
       "      <td>0</td>\n",
       "      <td>0</td>\n",
       "      <td>0</td>\n",
       "      <td>-</td>\n",
       "      <td>-</td>\n",
       "      <td>-</td>\n",
       "      <td>bad_UDP_checksum</td>\n",
       "      <td>-</td>\n",
       "      <td>F</td>\n",
       "      <td>0</td>\n",
       "    </tr>\n",
       "  </tbody>\n",
       "</table>\n",
       "<p>5 rows × 43 columns</p>\n",
       "</div>"
      ],
      "text/plain": [
       "          src_ip  src_port         dst_ip  dst_port proto service  \\\n",
       "0    3.122.49.24      1883  192.168.1.152     52976   tcp       -   \n",
       "1   192.168.1.79     47260  192.168.1.255     15600   udp       -   \n",
       "2  192.168.1.152      1880  192.168.1.152     51782   tcp       -   \n",
       "3  192.168.1.152     34296  192.168.1.152     10502   tcp       -   \n",
       "4  192.168.1.152     46608  192.168.1.190        53   udp     dns   \n",
       "\n",
       "       duration  src_bytes  dst_bytes conn_state  ...  http_request_body_len  \\\n",
       "0  80549.530260    1762852   41933215        OTH  ...                      0   \n",
       "1      0.000000          0          0         S0  ...                      0   \n",
       "2      0.000000          0          0        OTH  ...                      0   \n",
       "3      0.000000          0          0        OTH  ...                      0   \n",
       "4      0.000549          0        298        SHR  ...                      0   \n",
       "\n",
       "   http_response_body_len  http_status_code  http_user_agent  \\\n",
       "0                       0                 0                -   \n",
       "1                       0                 0                -   \n",
       "2                       0                 0                -   \n",
       "3                       0                 0                -   \n",
       "4                       0                 0                -   \n",
       "\n",
       "   http_orig_mime_types http_resp_mime_types        weird_name  weird_addl  \\\n",
       "0                     -                    -  bad_TCP_checksum           -   \n",
       "1                     -                    -                 -           -   \n",
       "2                     -                    -  bad_TCP_checksum           -   \n",
       "3                     -                    -                 -           -   \n",
       "4                     -                    -  bad_UDP_checksum           -   \n",
       "\n",
       "   weird_notice label  \n",
       "0             F     0  \n",
       "1             -     0  \n",
       "2             F     0  \n",
       "3             -     0  \n",
       "4             F     0  \n",
       "\n",
       "[5 rows x 43 columns]"
      ]
     },
     "execution_count": 4,
     "metadata": {},
     "output_type": "execute_result"
    }
   ],
   "source": [
    "df = pd.read_csv(\"../datasets/TON_IoT-Datasets/Train_Test_datasets/Train_Test_Network_dataset/Train_Test_Network.csv\")\n",
    "df.pop('type')\n",
    "df.pop('ts')\n",
    "df.head()"
   ]
  },
  {
   "cell_type": "code",
   "execution_count": 5,
   "metadata": {},
   "outputs": [],
   "source": [
    "cat_indexs = [0, 1, 2, 3, 4, 5, 9, 15, 16, 17, 18, 19, 20, 21, 22, 23, 24, 25, 26, 27, 28, 29, 30, 31, 32, 35, 36, 37, 38, 39, 40, 41]\n",
    "num_indexs = [6, 7, 8, 10, 11, 12, 13, 14, 33, 34]\n",
    "#bool_indexs = []\n"
   ]
  },
  {
   "cell_type": "code",
   "execution_count": 6,
   "metadata": {},
   "outputs": [],
   "source": [
    "# Which cols are categorical\n",
    "cat_index_bool = [False] * 42\n",
    "for e in cat_indexs:\n",
    "    cat_index_bool[e] = True"
   ]
  },
  {
   "cell_type": "code",
   "execution_count": 7,
   "metadata": {},
   "outputs": [
    {
     "name": "stdout",
     "output_type": "stream",
     "text": [
      "0.34930147513355586\n"
     ]
    }
   ],
   "source": [
    "# # Percentage malware\n",
    "perc = len(df.loc[df['label']==1])/len(df)\n",
    "if PRINT_SCR:\n",
    "    print(perc)\n",
    "\n",
    "# Balance dataset\n",
    "if(BALANCE_DATA):\n",
    "    num_anom = len(df.loc[df['label']==1])\n",
    "    df_anom = df.loc[df['label']==1]\n",
    "    df_balance = df.loc[df['label']==0]\n",
    "    df_balance = df_balance.sample(num_anom, replace=False)\n",
    "    df_concated = pd.concat([df_balance, df_anom])\n",
    "    balanced_data = df_concated\n",
    "    df = balanced_data\n"
   ]
  },
  {
   "cell_type": "code",
   "execution_count": 8,
   "metadata": {},
   "outputs": [],
   "source": [
    "data = df.sample(TRAIN_SIZE + TEST_SIZE, random_state=16)\n",
    "\n",
    "train_data = data.head(TRAIN_SIZE)\n",
    "train_labels = train_data.pop('label')\n",
    "test_data = data.tail(TEST_SIZE)\n",
    "test_labels = test_data.pop('label')\n",
    "\n",
    "labels = data.pop('label')\n"
   ]
  },
  {
   "cell_type": "code",
   "execution_count": 9,
   "metadata": {},
   "outputs": [],
   "source": [
    "\n",
    "#IID or NOIID? SPLIT DATA AMONG CLIENTS\n",
    "client_id_train = np.random.choice(range(NUM_CLIENTS), size=TRAIN_SIZE, replace=True)\n",
    "client_id_test = np.random.choice(range(NUM_CLIENTS), size=TEST_SIZE, replace=True)\n"
   ]
  },
  {
   "cell_type": "code",
   "execution_count": 10,
   "metadata": {},
   "outputs": [],
   "source": [
    "#Determine max_client_ds_size and min_client_ds_size\n",
    "max_client_ds_size = -1\n",
    "min_client_ds_size = len(train_data.loc[client_id_train == 0])\n",
    "for id in range(0,NUM_CLIENTS):\n",
    "    tmp_len = len(train_data.loc[client_id_train == id])\n",
    "    if(tmp_len > max_client_ds_size):\n",
    "        max_client_ds_size = tmp_len\n",
    "    if(tmp_len < min_client_ds_size):\n",
    "        min_client_ds_size = tmp_len"
   ]
  },
  {
   "cell_type": "code",
   "execution_count": 11,
   "metadata": {},
   "outputs": [],
   "source": [
    "#TRAIN: Create a dict where keys are client ids format for tff.simulation.datasets.TestClientData\n",
    "# Create distance matrix with each client data min_client_ds_size rows\n",
    "\n",
    "train_cl_dict = {}\n",
    "for id in range(0,NUM_CLIENTS):\n",
    "    tmp_train_df = pd.DataFrame()\n",
    "    \n",
    "    tmp_features = train_data.loc[client_id_train == id]\n",
    "    tmp_labels = train_labels.loc[client_id_train == id]\n",
    "\n",
    "    tmp_gower_mat = gd.gower_matrix_limit_cols(tmp_features,min_client_ds_size,cat_features=cat_index_bool)\n",
    "    \n",
    "    for i in range(0,min_client_ds_size):\n",
    "        tmp_train_df[str(i)] = tmp_gower_mat[:,i]\n",
    "    \n",
    "    tmp_train_df['label'] = tmp_labels.values\n",
    "\n",
    "    tmp_train_dict = {name: np.array(value) \n",
    "                         for name, value in tmp_train_df.items()}\n",
    "    \n",
    "    train_cl_dict[str(id)]=tmp_train_dict.copy()\n",
    "    "
   ]
  },
  {
   "cell_type": "code",
   "execution_count": 12,
   "metadata": {},
   "outputs": [],
   "source": [
    "#TEST SPLITED\n",
    "\n",
    "test_cl_dict = {}\n",
    "for id in range(0,NUM_CLIENTS):\n",
    "    tmp_test_df = pd.DataFrame()\n",
    "    \n",
    "    train_instances = train_data.loc[client_id_train == id]\n",
    "    test_instances = test_data.loc[client_id_test == id]\n",
    "\n",
    "    tmp_features = pd.concat([train_instances, test_instances])\n",
    "    \n",
    "    tmp_labels = test_labels.loc[client_id_test == id]\n",
    "\n",
    "    tmp_gower_mat = gd.gower_matrix_limit_cols(tmp_features,min_client_ds_size,cat_features=cat_index_bool)\n",
    "    \n",
    "    for i in range(0,min_client_ds_size):\n",
    "        tmp_test_df[str(i)] = tmp_gower_mat[len(train_instances):,i]\n",
    "    \n",
    "    tmp_test_df['label'] = tmp_labels.values\n",
    "\n",
    "    tmp_test_dict = {name: np.array(value) \n",
    "                         for name, value in tmp_test_df.items()}\n",
    "    test_cl_dict[str(id)]=tmp_test_dict.copy()"
   ]
  },
  {
   "cell_type": "code",
   "execution_count": 13,
   "metadata": {},
   "outputs": [
    {
     "name": "stderr",
     "output_type": "stream",
     "text": [
      "2022-07-01 11:19:25.268611: W tensorflow/stream_executor/platform/default/dso_loader.cc:64] Could not load dynamic library 'libcuda.so.1'; dlerror: libcuda.so.1: cannot open shared object file: No such file or directory\n",
      "2022-07-01 11:19:25.268660: W tensorflow/stream_executor/cuda/cuda_driver.cc:269] failed call to cuInit: UNKNOWN ERROR (303)\n",
      "2022-07-01 11:19:25.268680: I tensorflow/stream_executor/cuda/cuda_diagnostics.cc:156] kernel driver does not appear to be running on this host (debian): /proc/driver/nvidia/version does not exist\n",
      "2022-07-01 11:19:25.268962: I tensorflow/core/platform/cpu_feature_guard.cc:151] This TensorFlow binary is optimized with oneAPI Deep Neural Network Library (oneDNN) to use the following CPU instructions in performance-critical operations:  AVX2 FMA\n",
      "To enable them in other operations, rebuild TensorFlow with the appropriate compiler flags.\n"
     ]
    }
   ],
   "source": [
    "#CONVERT TO TFF DATASET\n",
    "#netw_ds = tf.data.Dataset.from_tensor_slices((netw_features_dict, netw_labels))\n",
    "#netw_ds = tf.data.Dataset.from_tensor_slices(netw_features_dict)\n",
    "train_fd_ds = tff.simulation.datasets.TestClientData(train_cl_dict)\n",
    "test_fd_ds = tff.simulation.datasets.TestClientData(test_cl_dict)\n",
    "\n",
    "\n"
   ]
  },
  {
   "cell_type": "markdown",
   "metadata": {},
   "source": [
    "## Test FedAVG"
   ]
  },
  {
   "cell_type": "code",
   "execution_count": 14,
   "metadata": {},
   "outputs": [],
   "source": [
    "def evaluate(keras_model, test_dataset):\n",
    "  \"\"\"Evaluate the acurracy of a keras model on a test dataset.\"\"\"\n",
    "  #metric = tf.keras.metrics.SparseCategoricalAccuracy(name='test_accuracy')\n",
    "  metric = tf.keras.metrics.SparseCategoricalCrossentropy()\n",
    "  for batch in test_dataset:\n",
    "    predictions = keras_model(batch['x'])\n",
    "    metric.update_state(y_true=batch['y'], y_pred=predictions)\n",
    "  return metric.result()\n",
    "\n",
    "def get_custom_dataset():\n",
    "  def element_fn(element):\n",
    "    tmp_features = []\n",
    "    for i in range(0,min_client_ds_size):\n",
    "      tmp_features.append(element[str(i)])\n",
    "    features = tf.convert_to_tensor(tmp_features, dtype=tf.float32)\n",
    "    \n",
    "    return collections.OrderedDict(\n",
    "      # tf.expand_dims? ADD MORE COLUMNS\n",
    "        x=features, y=element['label'])\n",
    "\n",
    "  def preprocess_train_dataset(dataset):\n",
    "    # Use buffer_size same as the maximum client dataset size,\n",
    "    return dataset.map(element_fn).shuffle(buffer_size=max_client_ds_size).repeat(\n",
    "        count=CLIENT_EPOCHS_PER_ROUND).batch(\n",
    "            BATCH_SIZE, drop_remainder=False)\n",
    "   \n",
    "  \n",
    "  def preprocess_test_dataset(dataset):\n",
    "    return dataset.map(element_fn).batch(\n",
    "        TEST_BATCH_SIZE, drop_remainder=False)\n",
    "  \n",
    "  netw_train = train_fd_ds.preprocess(preprocess_train_dataset)\n",
    "  \n",
    "  netw_test = preprocess_test_dataset(\n",
    "    test_fd_ds.create_tf_dataset_from_all_clients())\n",
    "  \n",
    "  return netw_train, netw_test\n",
    "\n",
    "\n",
    "def create_fedavg_model(only_digits=True):\n",
    "  \"\"\"The CNN model used in https://arxiv.org/abs/1602.05629.\n",
    "\n",
    "  Args:\n",
    "    only_digits: If True, uses a final layer with 10 outputs, for use with the\n",
    "      digits only EMNIST dataset. If False, uses 62 outputs for the larger\n",
    "      dataset.\n",
    "\n",
    "  Returns:\n",
    "    An uncompiled `tf.keras.Model`.\n",
    "  \"\"\"\n",
    "  initializer = tf.keras.initializers.GlorotNormal(seed=5)\n",
    "  return tf.keras.models.Sequential([\n",
    "    tf.keras.layers.Input(shape=(min_client_ds_size,)),\n",
    "    #tf.keras.layers.Flatten(),\n",
    "    tf.keras.layers.Dense(66, activation=\"relu\", kernel_initializer=initializer),\n",
    "    tf.keras.layers.Dense(69, activation=\"relu\"),\n",
    "    tf.keras.layers.Dropout(0.1),\n",
    "    tf.keras.layers.Dense(69, activation=\"relu\"),\n",
    "    #tf.keras.layers.Dense(256, activation=\"relu\"),\n",
    "    #tf.keras.layers.Dense(256, activation=\"relu\"),\n",
    "    #tf.keras.layers.Dense(512, activation=\"relu\"),\n",
    "    tf.keras.layers.Dense(11, activation=\"relu\"),\n",
    "    tf.keras.layers.Dense(85, activation=\"relu\"),\n",
    "    #tf.keras.layers.Dense(256, activation=\"relu\"),\n",
    "    #tf.keras.layers.Dense(128, activation=\"relu\"),\n",
    "    tf.keras.layers.Dense(2),\n",
    "    #tf.keras.layers.Dropout(0.1)\n",
    "    #tf.keras.layers.Dense(2, activation=\"relu\"),\n",
    "    #tf.keras.layers.Dense(32, activation=\"relu\"),\n",
    "    #tf.keras.layers.Dense(4, activation=\"relu\"),\n",
    "    #tf.keras.layers.Dense(1, activation=\"sigmoid\"),\n",
    "    tf.keras.layers.Softmax()\n",
    "    ])\n",
    "\n",
    "\n",
    "def server_optimizer_fn():\n",
    "  return tf.keras.optimizers.Adam(learning_rate=SERVER_LEARNING_RATE)\n",
    "\n",
    "\n",
    "def client_optimizer_fn():\n",
    "  return tf.keras.optimizers.Adam(learning_rate=CLIENT_LEARNING_RATE)"
   ]
  },
  {
   "cell_type": "code",
   "execution_count": 15,
   "metadata": {},
   "outputs": [
    {
     "name": "stdout",
     "output_type": "stream",
     "text": [
      "Round 0\n",
      "\tTraining metrics: OrderedDict([('sparse_categorical_accuracy', 0.5600372), ('loss', 0.6870988), ('num_examples', 16140), ('num_batches', 506)])\n",
      "\tValidation loss:  0.6955254\n",
      "Round 1\n",
      "\tTraining metrics: OrderedDict([('sparse_categorical_accuracy', 0.5753057), ('loss', 0.68578464), ('num_examples', 16028), ('num_batches', 503)])\n",
      "\tValidation loss:  0.6940363\n",
      "Round 2\n",
      "\tTraining metrics: OrderedDict([('sparse_categorical_accuracy', 0.59768635), ('loss', 0.6854875), ('num_examples', 16338), ('num_batches', 513)])\n",
      "\tValidation loss:  0.6923825\n",
      "Round 3\n",
      "\tTraining metrics: OrderedDict([('sparse_categorical_accuracy', 0.6191503), ('loss', 0.6865191), ('num_examples', 15770), ('num_batches', 494)])\n",
      "\tValidation loss:  0.6911713\n",
      "Round 4\n",
      "\tTraining metrics: OrderedDict([('sparse_categorical_accuracy', 0.6280128), ('loss', 0.6843006), ('num_examples', 16264), ('num_batches', 511)])\n",
      "\tValidation loss:  0.6903927\n",
      "Round 5\n",
      "\tTraining metrics: OrderedDict([('sparse_categorical_accuracy', 0.64994305), ('loss', 0.6853649), ('num_examples', 15806), ('num_batches', 496)])\n",
      "\tValidation loss:  0.6899107\n",
      "Round 6\n",
      "\tTraining metrics: OrderedDict([('sparse_categorical_accuracy', 0.6486772), ('loss', 0.6826043), ('num_examples', 16102), ('num_batches', 506)])\n",
      "\tValidation loss:  0.6895054\n",
      "Round 7\n",
      "\tTraining metrics: OrderedDict([('sparse_categorical_accuracy', 0.65004367), ('loss', 0.6833664), ('num_examples', 16022), ('num_batches', 503)])\n",
      "\tValidation loss:  0.6892304\n",
      "Round 8\n",
      "\tTraining metrics: OrderedDict([('sparse_categorical_accuracy', 0.63495547), ('loss', 0.6855173), ('num_examples', 15946), ('num_batches', 501)])\n",
      "\tValidation loss:  0.6890370\n",
      "Round 9\n",
      "\tTraining metrics: OrderedDict([('sparse_categorical_accuracy', 0.6537503), ('loss', 0.6827375), ('num_examples', 16052), ('num_batches', 504)])\n",
      "\tValidation loss:  0.6888098\n",
      "Round 10\n",
      "\tTraining metrics: OrderedDict([('sparse_categorical_accuracy', 0.6786871), ('loss', 0.6811445), ('num_examples', 16056), ('num_batches', 504)])\n",
      "\tValidation loss:  0.6885412\n",
      "Round 11\n",
      "\tTraining metrics: OrderedDict([('sparse_categorical_accuracy', 0.6705955), ('loss', 0.6807645), ('num_examples', 16120), ('num_batches', 506)])\n",
      "\tValidation loss:  0.6882517\n",
      "Round 12\n",
      "\tTraining metrics: OrderedDict([('sparse_categorical_accuracy', 0.6687831), ('loss', 0.68133974), ('num_examples', 16222), ('num_batches', 509)])\n",
      "\tValidation loss:  0.6879148\n",
      "Round 13\n",
      "\tTraining metrics: OrderedDict([('sparse_categorical_accuracy', 0.66794515), ('loss', 0.68122804), ('num_examples', 15904), ('num_batches', 499)])\n",
      "\tValidation loss:  0.6875135\n",
      "Round 14\n",
      "\tTraining metrics: OrderedDict([('sparse_categorical_accuracy', 0.650309), ('loss', 0.6798356), ('num_examples', 16180), ('num_batches', 508)])\n",
      "\tValidation loss:  0.6870241\n",
      "Round 15\n",
      "\tTraining metrics: OrderedDict([('sparse_categorical_accuracy', 0.63118654), ('loss', 0.6804666), ('num_examples', 15962), ('num_batches', 501)])\n",
      "\tValidation loss:  0.6865391\n",
      "Round 16\n",
      "\tTraining metrics: OrderedDict([('sparse_categorical_accuracy', 0.67724997), ('loss', 0.676106), ('num_examples', 16378), ('num_batches', 514)])\n",
      "\tValidation loss:  0.6860403\n",
      "Round 17\n",
      "\tTraining metrics: OrderedDict([('sparse_categorical_accuracy', 0.6558571), ('loss', 0.6772788), ('num_examples', 16066), ('num_batches', 504)])\n",
      "\tValidation loss:  0.6856054\n",
      "Round 18\n",
      "\tTraining metrics: OrderedDict([('sparse_categorical_accuracy', 0.66338754), ('loss', 0.67650086), ('num_examples', 15858), ('num_batches', 497)])\n",
      "\tValidation loss:  0.6851647\n",
      "Round 19\n",
      "\tTraining metrics: OrderedDict([('sparse_categorical_accuracy', 0.6335019), ('loss', 0.6782645), ('num_examples', 15820), ('num_batches', 496)])\n",
      "\tValidation loss:  0.6847450\n",
      "Round 20\n",
      "\tTraining metrics: OrderedDict([('sparse_categorical_accuracy', 0.6403916), ('loss', 0.6763261), ('num_examples', 15934), ('num_batches', 500)])\n",
      "\tValidation loss:  0.6843398\n",
      "Round 21\n",
      "\tTraining metrics: OrderedDict([('sparse_categorical_accuracy', 0.6557295), ('loss', 0.675069), ('num_examples', 15970), ('num_batches', 501)])\n"
     ]
    },
    {
     "ename": "",
     "evalue": "",
     "output_type": "error",
     "traceback": [
      "\u001b[1;31mCanceled future for execute_request message before replies were done"
     ]
    },
    {
     "ename": "",
     "evalue": "",
     "output_type": "error",
     "traceback": [
      "\u001b[1;31mThe Kernel crashed while executing code in the the current cell or a previous cell. Please review the code in the cell(s) to identify a possible cause of the failure. Click <a href='https://aka.ms/vscodeJupyterKernelCrash'>here</a> for more info. View Jupyter <a href='command:jupyter.viewOutput'>log</a> for further details."
     ]
    }
   ],
   "source": [
    "#WITH VALIDATION\n",
    "\n",
    "# If GPU is provided, TFF will by default use the first GPU like TF. The\n",
    "# following lines will configure TFF to use multi-GPUs and distribute client\n",
    "# computation on the GPUs. Note that we put server computatoin on CPU to avoid\n",
    "# potential out of memory issue when a large number of clients is sampled per\n",
    "# round. The client devices below can be an empty list when no GPU could be\n",
    "# detected by TF.\n",
    "\n",
    "train_loss_list = []\n",
    "val_loss_list = []\n",
    "\n",
    "client_devices = tf.config.list_logical_devices('GPU')\n",
    "server_device = tf.config.list_logical_devices('CPU')[0]\n",
    "tff.backends.native.set_local_python_execution_context(\n",
    "    server_tf_device=server_device, client_tf_devices=client_devices)\n",
    "train_data, valid_data = get_custom_dataset()\n",
    "def tff_model_fn():\n",
    "  \"\"\"Constructs a fully initialized model for use in federated averaging.\"\"\"\n",
    "  keras_model = create_fedavg_model(only_digits=True)\n",
    "  loss = tf.keras.losses.SparseCategoricalCrossentropy()\n",
    "  metrics = [tf.keras.metrics.SparseCategoricalAccuracy()]\n",
    "  return tff.learning.from_keras_model(\n",
    "      keras_model,\n",
    "      loss=loss,\n",
    "      metrics=metrics,\n",
    "      input_spec=train_data.element_type_structure)\n",
    "\n",
    "iterative_process = simple_fedavg_tff.build_federated_averaging_process(\n",
    "    tff_model_fn, server_optimizer_fn, client_optimizer_fn)\n",
    "server_state = iterative_process.initialize()\n",
    "# Keras model that represents the global model we'll evaluate test data on.\n",
    "keras_model = create_fedavg_model(only_digits=True)\n",
    "for round_num in range(TOTAL_ROUNDS):\n",
    "    sampled_clients = np.random.choice(\n",
    "        train_data.client_ids,\n",
    "        size=TRAIN_CLIENTS_PER_ROUND,\n",
    "        replace=False)\n",
    "    sampled_train_data = [\n",
    "        train_data.create_tf_dataset_for_client(client)\n",
    "        for client in sampled_clients\n",
    "    ]\n",
    "    server_state, train_metrics = iterative_process.next(\n",
    "        server_state, sampled_train_data)\n",
    "    if (PRINT_SCR):  \n",
    "      print(f'Round {round_num}')\n",
    "      print(f'\\tTraining metrics: {train_metrics}')\n",
    "    train_loss_list.append(train_metrics.get('loss'))   \n",
    "    if round_num % ROUNDS_PER_EVAL == 0:\n",
    "      server_state.model.assign_weights_to(keras_model)\n",
    "      val_loss = evaluate(keras_model, valid_data)\n",
    "      val_loss_list.append(val_loss)\n",
    "      if PRINT_SCR:\n",
    "          print(f'\\tValidation loss: {val_loss: .7f}')"
   ]
  },
  {
   "cell_type": "code",
   "execution_count": null,
   "metadata": {},
   "outputs": [
    {
     "data": {
      "text/plain": [
       "<matplotlib.legend.Legend at 0x7fca7f0fab50>"
      ]
     },
     "execution_count": 16,
     "metadata": {},
     "output_type": "execute_result"
    },
    {
     "data": {
      "image/png": "[encoded data removed]",
      "text/plain": [
       "<Figure size 432x288 with 1 Axes>"
      ]
     },
     "metadata": {
      "needs_background": "light"
     },
     "output_type": "display_data"
    }
   ],
   "source": [
    "plt.plot(train_loss_list, label=\"Training Loss\")\n",
    "plt.plot(val_loss_list, label=\"Validation Loss\")\n",
    "plt.yscale('log')\n",
    "plt.legend()"
   ]
  },
  {
   "cell_type": "code",
   "execution_count": null,
   "metadata": {},
   "outputs": [],
   "source": [
    "def predict(model, data):\n",
    "  reconstructions = model(data)\n",
    "  return reconstructions\n",
    "\n",
    "def get_accuracy_list(dict):\n",
    "  acc_list = []\n",
    "  for i in range(0,NUM_CLIENTS):\n",
    "    df_cl = pd.DataFrame.from_dict(dict[str(i)]).copy()\n",
    "    tmp_labels = df_cl.pop('label')\n",
    "    preds = predict(keras_model, np.array(df_cl))\n",
    "    acc_list.append(accuracy_score(tmp_labels.astype(int), np.round(preds[:,1], decimals=0)))\n",
    "  return acc_list\n",
    "    \n",
    "\n",
    "def save_stats(predictions, labels, print_scr=True):\n",
    "\n",
    "  acc = \"{:.4f}\".format(accuracy_score(labels, predictions))\n",
    "  prec = \"{:.4f}\".format(precision_score(labels, predictions, zero_division=0))\n",
    "  rcl = \"{:.4f}\".format(recall_score(labels, predictions, zero_division=0))\n",
    "  f1 = \"{:.4f}\".format(f1_score(labels, predictions, zero_division=0))\n",
    "  roc = \"{:.4f}\".format(roc_auc_score(labels, predictions))\n",
    "\n",
    "  if print_scr:\n",
    "    print(\"Accuracy = \" + acc)\n",
    "    print(\"Precision = \" + prec)\n",
    "    print(\"Recall = \" + rcl) #sensitivity\n",
    "    print(\"F1 = \" + f1)\n",
    "    print(\"ROC_AUC = \" + roc)\n",
    "\n",
    "  return (acc + \" \" + prec + \" \" + rcl + \" \" + f1 + \" \" + roc)\n"
   ]
  },
  {
   "cell_type": "code",
   "execution_count": null,
   "metadata": {},
   "outputs": [
    {
     "name": "stdout",
     "output_type": "stream",
     "text": [
      "Accuracy = 0.5556\n",
      "Precision = 0.5833\n",
      "Recall = 0.7000\n",
      "F1 = 0.6364\n",
      "ROC_AUC = 0.5375\n"
     ]
    }
   ],
   "source": [
    "test = pd.DataFrame.from_dict(test_cl_dict[str(np.random.randint(0,NUM_CLIENTS-1))]).copy()\n",
    "labs = test.pop('label')\n",
    "preds = predict(keras_model, np.array(test))\n",
    "a = save_stats(np.round(preds[:,1], decimals=0), labs.astype(int), PRINT_SCR)"
   ]
  },
  {
   "cell_type": "code",
   "execution_count": null,
   "metadata": {},
   "outputs": [],
   "source": [
    "# Save result in txt\n",
    "with open('./experiments/' + RUN_NAME + '.txt', 'w') as f:\n",
    "    f.write('CL_ID TRAIN_DS_SIZE ACC PREC RCL F1 ROC \\n')\n",
    "\n",
    "for i in range(0, NUM_CLIENTS):\n",
    "    test = pd.DataFrame.from_dict(test_cl_dict[str(i)]).copy()\n",
    "    labs = test.pop('label')\n",
    "    preds = predict(keras_model, np.array(test))\n",
    "    results = save_stats(np.round(preds[:,1], decimals=0), labs.astype(int), False)\n",
    "    out = str(i) + ' ' + str(len(client_id_train[client_id_train==i])) + ' ' + results\n",
    "    with open('./experiments/'+ RUN_NAME + '.txt', 'a') as f:\n",
    "        f.write(out + \" \\n\")"
   ]
  },
  {
   "cell_type": "code",
   "execution_count": null,
   "metadata": {},
   "outputs": [
    {
     "name": "stdout",
     "output_type": "stream",
     "text": [
      "WARNING:tensorflow:Compiled the loaded model, but the compiled metrics have yet to be built. `model.compile_metrics` will be empty until you train or evaluate the model.\n"
     ]
    },
    {
     "name": "stderr",
     "output_type": "stream",
     "text": [
      "WARNING:tensorflow:Compiled the loaded model, but the compiled metrics have yet to be built. `model.compile_metrics` will be empty until you train or evaluate the model.\n"
     ]
    }
   ],
   "source": [
    "# save model\n",
    "keras_model.save('./experiments/' + RUN_NAME + '.h5')\n",
    "#model = tf.keras.models.load_model(\"./experiments/e3.h5\")"
   ]
  },
  {
   "cell_type": "code",
   "execution_count": null,
   "metadata": {},
   "outputs": [
    {
     "data": {
      "image/png": "[encoded data removed]",
      "text/plain": [
       "<Figure size 432x288 with 1 Axes>"
      ]
     },
     "metadata": {
      "needs_background": "light"
     },
     "output_type": "display_data"
    }
   ],
   "source": [
    "#Print accuracies\n",
    "\n",
    "acc_list = get_accuracy_list(test_cl_dict)\n",
    "\n",
    "plt.hist(acc_list, bins=30)\n",
    "plt.xlabel(\"Accuracy\")\n",
    "plt.ylabel(\"No of examples\")\n",
    "plt.show()"
   ]
  },
  {
   "cell_type": "code",
   "execution_count": null,
   "metadata": {},
   "outputs": [],
   "source": []
  }
 ],
 "metadata": {
  "interpreter": {
   "hash": "a71c52cf81b3ce176a2dee7a24d4a513c23ffb6ff815f0de53fd7e035b7d8234"
  },
  "kernelspec": {
   "display_name": "Python 3.9.2 ('venv')",
   "language": "python",
   "name": "python3"
  },
  "language_info": {
   "codemirror_mode": {
    "name": "ipython",
    "version": 3
   },
   "file_extension": ".py",
   "mimetype": "text/x-python",
   "name": "python",
   "nbconvert_exporter": "python",
   "pygments_lexer": "ipython3",
   "version": "3.9.2"
  },
  "orig_nbformat": 4
 },
 "nbformat": 4,
 "nbformat_minor": 2
}
