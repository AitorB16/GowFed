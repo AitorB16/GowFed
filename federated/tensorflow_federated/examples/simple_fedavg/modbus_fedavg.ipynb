{
 "cells": [
  {
   "cell_type": "code",
   "execution_count": 1,
   "metadata": {},
   "outputs": [
    {
     "name": "stderr",
     "output_type": "stream",
     "text": [
      "2022-06-07 12:22:49.498391: W tensorflow/stream_executor/platform/default/dso_loader.cc:64] Could not load dynamic library 'libcudart.so.11.0'; dlerror: libcudart.so.11.0: cannot open shared object file: No such file or directory\n",
      "2022-06-07 12:22:49.498419: I tensorflow/stream_executor/cuda/cudart_stub.cc:29] Ignore above cudart dlerror if you do not have a GPU set up on your machine.\n"
     ]
    },
    {
     "name": "stdout",
     "output_type": "stream",
     "text": [
      "['/home/tester/Desktop/federated/tensorflow_federated/examples/simple_fedavg', '/usr/lib/python39.zip', '/usr/lib/python3.9', '/usr/lib/python3.9/lib-dynload', '', '/home/tester/venv/lib/python3.9/site-packages', '/home/tester/Desktop/federated/tensorflow_federated/examples/simple_fedavg']\n",
      "['/home/tester/Desktop/federated/tensorflow_federated/examples/simple_fedavg', '/usr/lib/python39.zip', '/usr/lib/python3.9', '/usr/lib/python3.9/lib-dynload', '', '/home/tester/venv/lib/python3.9/site-packages', '/home/tester/Desktop/federated/tensorflow_federated/examples/simple_fedavg', '/home/tester/Desktop/federated/tensorflow_federated/examples/simple_fedavg']\n"
     ]
    }
   ],
   "source": [
    "import collections\n",
    "import functools\n",
    "\n",
    "from absl import app\n",
    "\n",
    "import pandas as pd\n",
    "\n",
    "\n",
    "import numpy as np\n",
    "import tensorflow as tf\n",
    "import tensorflow_federated as tff\n",
    "\n",
    "from sklearn.metrics import accuracy_score, precision_score, recall_score, roc_auc_score\n",
    "from sklearn.model_selection import train_test_split\n",
    "import sys\n",
    "\n",
    "sys.path.append(\"/home/tester/Desktop/federated/tensorflow_federated/examples/simple_fedavg\")\n",
    "print(sys.path)\n",
    "\n",
    "import simple_fedavg_tff"
   ]
  },
  {
   "cell_type": "code",
   "execution_count": 2,
   "metadata": {},
   "outputs": [],
   "source": [
    "# Training hyperparameters\n",
    "TOTAL_ROUNDS = 50 #NUMBER OF TOTAL TRAINING ROUNDS\n",
    "ROUNDS_PER_EVAL = 1 #HOW OFTEN TO EVALUATE\n",
    "TRAIN_CLIENTS_PER_ROUND = 2 #HOW MANY CLIENTS TO SAMPLE PER ROUND\n",
    "CLIENT_EPOCHS_PER_ROUND = 1 #NUMBER OF EPOCHS IN THE CLIENT TO TAKE PER ROUND\n",
    "BATCH_SIZE = 16 #BATCH SIZE USED ON THE CLIENT\n",
    "TEST_BATCH_SIZE = 128 #MINIBATCH SIZE OF TEST DATA\n",
    "SERVER_LEARNING_RATE = 1.0 #SERVER LEARNING RATE\n",
    "CLIENT_LEARNING_RATE = 0.1 #CLIENT LEARNING RATE"
   ]
  },
  {
   "cell_type": "code",
   "execution_count": 3,
   "metadata": {},
   "outputs": [],
   "source": [
    "NUM_CLIENTS = 10\n",
    "#BATCH_SIZE = 1"
   ]
  },
  {
   "cell_type": "code",
   "execution_count": 4,
   "metadata": {},
   "outputs": [],
   "source": [
    "dataframe = pd.read_csv(\"/home/tester/Desktop/TF/datasets/TON_IoT-Datasets/Train_Test_datasets/Train_Test_IoT_dataset/Train_Test_IoT_Modbus.csv\")\n",
    "columns = range(3,8)\n",
    "df = dataframe.iloc[:, columns]\n"
   ]
  },
  {
   "cell_type": "code",
   "execution_count": 5,
   "metadata": {},
   "outputs": [],
   "source": [
    "#NOT REAL, USING ALL THE DATASET - NORMALIZATION MUST BE DONE LOCALLY OR TAKING INTO ACCOUNT CLIENT ROW\n",
    "df_norm = df.copy()\n",
    "df_norm = df_norm.iloc[:, range(4)]\n",
    "for cl in df_norm.columns:\n",
    "    df_norm[cl].astype('float32')\n",
    "    min = np.min(df_norm[cl])\n",
    "    max = np.max(df_norm[cl])\n",
    "    df_norm[cl] = (df_norm[cl] - min) / (max - min)\n",
    "\n",
    "df_norm = pd.concat([df_norm, df.iloc[:,-1]], axis=1)\n"
   ]
  },
  {
   "cell_type": "code",
   "execution_count": 6,
   "metadata": {},
   "outputs": [],
   "source": [
    "client_id_colname = 'clis'\n",
    "\n",
    "#IID or NOIID?\n",
    "choices = np.random.choice(range(NUM_CLIENTS), size=len(df_norm), replace=True)\n",
    "\n",
    "dcli = {client_id_colname: choices}\n",
    "dfcli = pd.DataFrame(data=dcli)\n",
    "\n",
    "df = pd.concat([df_norm, dfcli], axis=1)"
   ]
  },
  {
   "cell_type": "code",
   "execution_count": 7,
   "metadata": {},
   "outputs": [
    {
     "name": "stdout",
     "output_type": "stream",
     "text": [
      "<class 'tensorflow.python.data.ops.dataset_ops.RepeatDataset'>\n",
      "{'FC1_Read_Input_Register': <tf.Tensor: shape=(16,), dtype=float32, numpy=\n",
      "array([0.002457  , 0.68028444, 0.8921666 , 0.21311826, 0.24531873,\n",
      "       0.581165  , 0.5106292 , 0.367711  , 0.9392464 , 0.8189754 ,\n",
      "       0.06577441, 0.02347124, 0.40429136, 0.94177973, 0.8336106 ,\n",
      "       0.3244922 ], dtype=float32)>, 'FC2_Read_Discrete_Value': <tf.Tensor: shape=(16,), dtype=float32, numpy=\n",
      "array([0.33917755, 0.6746624 , 0.22465858, 0.6243839 , 0.13745327,\n",
      "       0.09192035, 0.19319448, 0.50479895, 0.7345083 , 0.4886244 ,\n",
      "       0.93846035, 0.41162738, 0.06213474, 0.8530251 , 0.24805066,\n",
      "       0.46640727], dtype=float32)>, 'FC3_Read_Holding_Register': <tf.Tensor: shape=(16,), dtype=float32, numpy=\n",
      "array([0.57153755, 0.34205264, 0.7459901 , 0.29558185, 0.86257154,\n",
      "       0.3044029 , 0.779794  , 0.8117207 , 0.17210226, 0.155971  ,\n",
      "       0.6734987 , 0.15325448, 0.02519649, 0.5322091 , 0.38866082,\n",
      "       0.11296452], dtype=float32)>, 'FC4_Read_Coil': <tf.Tensor: shape=(16,), dtype=float32, numpy=\n",
      "array([0.46751305, 0.12753685, 0.11940367, 0.8342692 , 0.95783865,\n",
      "       0.93670464, 0.9288919 , 0.65303504, 0.08595538, 0.93990904,\n",
      "       0.07574694, 0.13179418, 0.14700766, 0.16608173, 0.3992279 ,\n",
      "       0.21988586], dtype=float32)>, 'label': <tf.Tensor: shape=(16,), dtype=int32, numpy=array([1, 1, 1, 1, 0, 1, 1, 0, 1, 1, 0, 1, 0, 1, 0, 0], dtype=int32)>, 'clis': <tf.Tensor: shape=(16,), dtype=int32, numpy=array([7, 7, 7, 7, 7, 7, 7, 7, 7, 7, 7, 7, 7, 7, 7, 7], dtype=int32)>}\n"
     ]
    },
    {
     "name": "stderr",
     "output_type": "stream",
     "text": [
      "2022-06-07 12:22:51.820986: W tensorflow/stream_executor/platform/default/dso_loader.cc:64] Could not load dynamic library 'libcuda.so.1'; dlerror: libcuda.so.1: cannot open shared object file: No such file or directory\n",
      "2022-06-07 12:22:51.821024: W tensorflow/stream_executor/cuda/cuda_driver.cc:269] failed call to cuInit: UNKNOWN ERROR (303)\n",
      "2022-06-07 12:22:51.821041: I tensorflow/stream_executor/cuda/cuda_diagnostics.cc:156] kernel driver does not appear to be running on this host (debian): /proc/driver/nvidia/version does not exist\n",
      "2022-06-07 12:22:51.821393: I tensorflow/core/platform/cpu_feature_guard.cc:151] This TensorFlow binary is optimized with oneAPI Deep Neural Network Library (oneDNN) to use the following CPU instructions in performance-critical operations:  AVX2 FMA\n",
      "To enable them in other operations, rebuild TensorFlow with the appropriate compiler flags.\n"
     ]
    }
   ],
   "source": [
    "\n",
    "#df = pd.read_csv(csv_url, na_values=(\"?\",))\n",
    "\n",
    "SHUFFLE_BUFFER = 1000\n",
    "NUM_EPOCHS = 1\n",
    "# split client id into train and test clients\n",
    "client_ids = df[client_id_colname].unique()\n",
    "train_client_ids = pd.DataFrame(client_ids).sample(frac=0.8).values.tolist()\n",
    "test_client_ids = [[x] for x in client_ids if x not in train_client_ids]\n",
    "\n",
    "def create_tf_dataset_for_client_fn(client_id):\n",
    "  # a function which takes a client_id and returns a\n",
    "  # tf.data.Dataset for that client\n",
    "  client_data = df[df[client_id_colname] == client_id[0]]\n",
    "  dataset = tf.data.Dataset.from_tensor_slices(client_data.fillna('').to_dict(\"list\"))\n",
    "  dataset = dataset.shuffle(SHUFFLE_BUFFER).batch(BATCH_SIZE).repeat(NUM_EPOCHS)\n",
    "  return dataset\n",
    "\n",
    "train_data = tff.simulation.datasets.ClientData.from_clients_and_tf_fn(\n",
    "        client_ids=train_client_ids,\n",
    "        serializable_dataset_fn = create_tf_dataset_for_client_fn\n",
    "        #create_tf_dataset_for_client_fn=create_tf_dataset_for_client_fn\n",
    "    )\n",
    "\n",
    "test_data = tff.simulation.datasets.ClientData.from_clients_and_tf_fn(\n",
    "         client_ids=test_client_ids,\n",
    "         serializable_dataset_fn = create_tf_dataset_for_client_fn\n",
    "         #create_tf_dataset_for_client_fn=create_tf_dataset_for_client_fn\n",
    "     )\n",
    "\n",
    "example_dataset = train_data.create_tf_dataset_for_client(\n",
    "        train_data.client_ids[0]\n",
    "    )\n",
    "\n",
    "print(type(example_dataset))\n",
    "example_element = iter(example_dataset).next()\n",
    "print(example_element)\n"
   ]
  },
  {
   "cell_type": "code",
   "execution_count": 8,
   "metadata": {},
   "outputs": [],
   "source": [
    "def preprocess(dataset):\n",
    "  def batch_format_fn(element):\n",
    "    \"\"\"Flatten a batch of EMNIST data and return a (features, label) tuple.\"\"\"\n",
    "    return (tf.reshape([element['FC1_Read_Input_Register'], element['FC2_Read_Discrete_Value'], element['FC3_Read_Holding_Register'], element['FC4_Read_Coil']], [-1, 4]),\n",
    "            tf.reshape(element['label'], [-1, 1]))\n",
    "  return dataset.batch(BATCH_SIZE).map(batch_format_fn)"
   ]
  },
  {
   "cell_type": "code",
   "execution_count": 9,
   "metadata": {},
   "outputs": [],
   "source": [
    "client_ids = sorted(train_data.client_ids)[:NUM_CLIENTS]\n",
    "federated_train_data = [preprocess(train_data.create_tf_dataset_for_client(x))\n",
    "  for x in client_ids\n",
    "]"
   ]
  },
  {
   "cell_type": "code",
   "execution_count": 10,
   "metadata": {},
   "outputs": [],
   "source": [
    "client_ids = sorted(test_data.client_ids)[:NUM_CLIENTS]\n",
    "federated_test_data = [preprocess(test_data.create_tf_dataset_for_client(x))\n",
    "  for x in client_ids\n",
    "]"
   ]
  },
  {
   "cell_type": "code",
   "execution_count": null,
   "metadata": {},
   "outputs": [],
   "source": [
    "def get_subset_of_dataset (data, client_ids):\n",
    "    data[0]"
   ]
  },
  {
   "cell_type": "code",
   "execution_count": 11,
   "metadata": {},
   "outputs": [],
   "source": [
    "def evaluate(keras_model, test_dataset):\n",
    "  \"\"\"Evaluate the acurracy of a keras model on a test dataset.\"\"\"\n",
    "  metric = tf.keras.metrics.SparseCategoricalAccuracy(name='test_accuracy')\n",
    "  for batch in test_dataset:\n",
    "    predictions = keras_model(batch['x'])\n",
    "    metric.update_state(y_true=batch['y'], y_pred=predictions)\n",
    "  return metric.result()\n",
    "\n",
    "\n",
    "def get_custom_dataset():\n",
    "  return federated_train_data, federated_test_data\n",
    "\n",
    "\n",
    "def create_fedavg_model():\n",
    "  initializer = tf.keras.initializers.GlorotNormal(seed=0)\n",
    "  return tf.keras.models.Sequential([\n",
    "    tf.keras.layers.Input(shape=(4,)),\n",
    "    tf.keras.layers.Dense(8),\n",
    "    tf.keras.layers.Dense(10),\n",
    "    tf.keras.layers.Dense(8),\n",
    "    #tf.keras.layers.Dense(10, kernel_initializer=initializer),\n",
    "    tf.keras.layers.Softmax()\n",
    "    ])\n",
    "\n",
    "\n",
    "def server_optimizer_fn():\n",
    "  return tf.keras.optimizers.SGD(learning_rate=SERVER_LEARNING_RATE)\n",
    "\n",
    "\n",
    "def client_optimizer_fn():\n",
    "  return tf.keras.optimizers.SGD(learning_rate=CLIENT_LEARNING_RATE)"
   ]
  },
  {
   "cell_type": "code",
   "execution_count": 12,
   "metadata": {},
   "outputs": [],
   "source": [
    "def main(argv):\n",
    "  if len(argv) > 1:\n",
    "    raise app.UsageError('Too many command-line arguments.')\n",
    "  # If GPU is provided, TFF will by default use the first GPU like TF. The\n",
    "  # following lines will configure TFF to use multi-GPUs and distribute client\n",
    "  # computation on the GPUs. Note that we put server computatoin on CPU to avoid\n",
    "  # potential out of memory issue when a large number of clients is sampled per\n",
    "  # round. The client devices below can be an empty list when no GPU could be\n",
    "  # detected by TF.\n",
    "  client_devices = tf.config.list_logical_devices('GPU')\n",
    "  server_device = tf.config.list_logical_devices('CPU')[0]\n",
    "  tff.backends.native.set_local_python_execution_context(\n",
    "      server_tf_device=server_device, client_tf_devices=client_devices)\n",
    "  train_data, test_data = get_custom_dataset()\n",
    "\n",
    "  def tff_model_fn():\n",
    "    \"\"\"Constructs a fully initialized model for use in federated averaging.\"\"\"\n",
    "    keras_model = create_fedavg_model()\n",
    "    loss = tf.keras.losses.SparseCategoricalCrossentropy(from_logits=True)\n",
    "    metrics = [tf.keras.metrics.SparseCategoricalAccuracy()]\n",
    "    return tff.learning.from_keras_model(\n",
    "        keras_model,\n",
    "        input_spec=federated_train_data[0].element_spec,\n",
    "        loss=loss,\n",
    "        metrics=metrics)\n",
    "\n",
    "  iterative_process = simple_fedavg_tff.build_federated_averaging_process(\n",
    "      tff_model_fn, server_optimizer_fn, client_optimizer_fn)\n",
    "  server_state = iterative_process.initialize()\n",
    "  # Keras model that represents the global model we'll evaluate test data on.\n",
    "  keras_model = create_fedavg_model()\n",
    "  for round_num in range(TOTAL_ROUNDS):\n",
    "    sampled_clients = np.random.choice(\n",
    "        range(NUM_CLIENTS),\n",
    "        size=TRAIN_CLIENTS_PER_ROUND,\n",
    "        replace=False)\n",
    "    \n",
    "    sampled_train_data = create_tf_dataset_for_client_fn()\n",
    "    tff.simulation.datasets.ClientData.from_clients_and_tf_fn(\n",
    "        client_ids=sampled_clients,\n",
    "        serializable_dataset_fn = create_tf_dataset_for_client_fn\n",
    "        #create_tf_dataset_for_client_fn=create_tf_dataset_for_client_fn\n",
    "    )\n",
    "    \n",
    "    sampled_train_data = [\n",
    "        federated_train_data.create_tf_dataset_for_client(client)\n",
    "        for client in sampled_clients\n",
    "    ]\n",
    "    server_state, train_metrics = iterative_process.next(\n",
    "        server_state, sampled_train_data)\n",
    "    print(f'Round {round_num}')\n",
    "    print(f'\\tTraining metrics: {train_metrics}')\n",
    "    if round_num % ROUNDS_PER_EVAL == 0:\n",
    "      server_state.model.assign_weights_to(keras_model)\n",
    "      accuracy = evaluate(keras_model, test_data)\n",
    "      print(f'\\tValidation accuracy: {accuracy * 100.0:.2f}%')"
   ]
  },
  {
   "cell_type": "markdown",
   "metadata": {},
   "source": [
    "Patch asyncio to allow nested event loops. If not used, runtime error in Jupyter NB"
   ]
  },
  {
   "cell_type": "code",
   "execution_count": 13,
   "metadata": {},
   "outputs": [],
   "source": [
    "import nest_asyncio\n",
    "nest_asyncio.apply()"
   ]
  },
  {
   "cell_type": "code",
   "execution_count": 14,
   "metadata": {},
   "outputs": [
    {
     "ename": "ValueError",
     "evalue": "The truth value of an array with more than one element is ambiguous. Use a.any() or a.all()",
     "output_type": "error",
     "traceback": [
      "\u001b[0;31m---------------------------------------------------------------------------\u001b[0m",
      "\u001b[0;31mValueError\u001b[0m                                Traceback (most recent call last)",
      "\u001b[1;32m/home/tester/Desktop/federated/tensorflow_federated/examples/simple_fedavg/modbus_fedavg.ipynb Cell 15'\u001b[0m in \u001b[0;36m<cell line: 1>\u001b[0;34m()\u001b[0m\n\u001b[0;32m----> <a href='vscode-notebook-cell:/home/tester/Desktop/federated/tensorflow_federated/examples/simple_fedavg/modbus_fedavg.ipynb#ch0000016?line=0'>1</a>\u001b[0m app\u001b[39m.\u001b[39mrun(main([\u001b[39mNone\u001b[39;49;00m]))\n",
      "\u001b[1;32m/home/tester/Desktop/federated/tensorflow_federated/examples/simple_fedavg/modbus_fedavg.ipynb Cell 12'\u001b[0m in \u001b[0;36mmain\u001b[0;34m(argv)\u001b[0m\n\u001b[1;32m     <a href='vscode-notebook-cell:/home/tester/Desktop/federated/tensorflow_federated/examples/simple_fedavg/modbus_fedavg.ipynb#ch0000003?line=31'>32</a>\u001b[0m \u001b[39mfor\u001b[39;00m round_num \u001b[39min\u001b[39;00m \u001b[39mrange\u001b[39m(TOTAL_ROUNDS):\n\u001b[1;32m     <a href='vscode-notebook-cell:/home/tester/Desktop/federated/tensorflow_federated/examples/simple_fedavg/modbus_fedavg.ipynb#ch0000003?line=32'>33</a>\u001b[0m   sampled_clients \u001b[39m=\u001b[39m np\u001b[39m.\u001b[39mrandom\u001b[39m.\u001b[39mchoice(\n\u001b[1;32m     <a href='vscode-notebook-cell:/home/tester/Desktop/federated/tensorflow_federated/examples/simple_fedavg/modbus_fedavg.ipynb#ch0000003?line=33'>34</a>\u001b[0m       \u001b[39mrange\u001b[39m(NUM_CLIENTS),\n\u001b[1;32m     <a href='vscode-notebook-cell:/home/tester/Desktop/federated/tensorflow_federated/examples/simple_fedavg/modbus_fedavg.ipynb#ch0000003?line=34'>35</a>\u001b[0m       size\u001b[39m=\u001b[39mTRAIN_CLIENTS_PER_ROUND,\n\u001b[1;32m     <a href='vscode-notebook-cell:/home/tester/Desktop/federated/tensorflow_federated/examples/simple_fedavg/modbus_fedavg.ipynb#ch0000003?line=35'>36</a>\u001b[0m       replace\u001b[39m=\u001b[39m\u001b[39mFalse\u001b[39;00m)\n\u001b[0;32m---> <a href='vscode-notebook-cell:/home/tester/Desktop/federated/tensorflow_federated/examples/simple_fedavg/modbus_fedavg.ipynb#ch0000003?line=37'>38</a>\u001b[0m   sampled_train_data \u001b[39m=\u001b[39m tff\u001b[39m.\u001b[39;49msimulation\u001b[39m.\u001b[39;49mdatasets\u001b[39m.\u001b[39;49mClientData\u001b[39m.\u001b[39;49mfrom_clients_and_tf_fn(\n\u001b[1;32m     <a href='vscode-notebook-cell:/home/tester/Desktop/federated/tensorflow_federated/examples/simple_fedavg/modbus_fedavg.ipynb#ch0000003?line=38'>39</a>\u001b[0m       client_ids\u001b[39m=\u001b[39;49msampled_clients,\n\u001b[1;32m     <a href='vscode-notebook-cell:/home/tester/Desktop/federated/tensorflow_federated/examples/simple_fedavg/modbus_fedavg.ipynb#ch0000003?line=39'>40</a>\u001b[0m       serializable_dataset_fn \u001b[39m=\u001b[39;49m create_tf_dataset_for_client_fn\n\u001b[1;32m     <a href='vscode-notebook-cell:/home/tester/Desktop/federated/tensorflow_federated/examples/simple_fedavg/modbus_fedavg.ipynb#ch0000003?line=40'>41</a>\u001b[0m       \u001b[39m#create_tf_dataset_for_client_fn=create_tf_dataset_for_client_fn\u001b[39;49;00m\n\u001b[1;32m     <a href='vscode-notebook-cell:/home/tester/Desktop/federated/tensorflow_federated/examples/simple_fedavg/modbus_fedavg.ipynb#ch0000003?line=41'>42</a>\u001b[0m   )\n\u001b[1;32m     <a href='vscode-notebook-cell:/home/tester/Desktop/federated/tensorflow_federated/examples/simple_fedavg/modbus_fedavg.ipynb#ch0000003?line=43'>44</a>\u001b[0m   server_state, train_metrics \u001b[39m=\u001b[39m iterative_process\u001b[39m.\u001b[39mnext(\n\u001b[1;32m     <a href='vscode-notebook-cell:/home/tester/Desktop/federated/tensorflow_federated/examples/simple_fedavg/modbus_fedavg.ipynb#ch0000003?line=44'>45</a>\u001b[0m       server_state, sampled_train_data)\n\u001b[1;32m     <a href='vscode-notebook-cell:/home/tester/Desktop/federated/tensorflow_federated/examples/simple_fedavg/modbus_fedavg.ipynb#ch0000003?line=45'>46</a>\u001b[0m   \u001b[39mprint\u001b[39m(\u001b[39mf\u001b[39m\u001b[39m'\u001b[39m\u001b[39mRound \u001b[39m\u001b[39m{\u001b[39;00mround_num\u001b[39m}\u001b[39;00m\u001b[39m'\u001b[39m)\n",
      "File \u001b[0;32m~/venv/lib/python3.9/site-packages/tensorflow_federated/python/simulation/datasets/client_data.py:276\u001b[0m, in \u001b[0;36mClientData.from_clients_and_tf_fn\u001b[0;34m(cls, client_ids, serializable_dataset_fn)\u001b[0m\n\u001b[1;32m    <a href='file:///home/tester/venv/lib/python3.9/site-packages/tensorflow_federated/python/simulation/datasets/client_data.py?line=256'>257</a>\u001b[0m \u001b[39m@classmethod\u001b[39m\n\u001b[1;32m    <a href='file:///home/tester/venv/lib/python3.9/site-packages/tensorflow_federated/python/simulation/datasets/client_data.py?line=257'>258</a>\u001b[0m \u001b[39mdef\u001b[39;00m \u001b[39mfrom_clients_and_tf_fn\u001b[39m(\n\u001b[1;32m    <a href='file:///home/tester/venv/lib/python3.9/site-packages/tensorflow_federated/python/simulation/datasets/client_data.py?line=258'>259</a>\u001b[0m     \u001b[39mcls\u001b[39m,\n\u001b[1;32m    <a href='file:///home/tester/venv/lib/python3.9/site-packages/tensorflow_federated/python/simulation/datasets/client_data.py?line=259'>260</a>\u001b[0m     client_ids: Iterable[\u001b[39mstr\u001b[39m],\n\u001b[1;32m    <a href='file:///home/tester/venv/lib/python3.9/site-packages/tensorflow_federated/python/simulation/datasets/client_data.py?line=260'>261</a>\u001b[0m     serializable_dataset_fn: Callable[[\u001b[39mstr\u001b[39m], tf\u001b[39m.\u001b[39mdata\u001b[39m.\u001b[39mDataset],\n\u001b[1;32m    <a href='file:///home/tester/venv/lib/python3.9/site-packages/tensorflow_federated/python/simulation/datasets/client_data.py?line=261'>262</a>\u001b[0m ) \u001b[39m-\u001b[39m\u001b[39m>\u001b[39m \u001b[39m'\u001b[39m\u001b[39mClientData\u001b[39m\u001b[39m'\u001b[39m:\n\u001b[1;32m    <a href='file:///home/tester/venv/lib/python3.9/site-packages/tensorflow_federated/python/simulation/datasets/client_data.py?line=262'>263</a>\u001b[0m   \u001b[39m\"\"\"Constructs a `ClientData` based on the given function.\u001b[39;00m\n\u001b[1;32m    <a href='file:///home/tester/venv/lib/python3.9/site-packages/tensorflow_federated/python/simulation/datasets/client_data.py?line=263'>264</a>\u001b[0m \n\u001b[1;32m    <a href='file:///home/tester/venv/lib/python3.9/site-packages/tensorflow_federated/python/simulation/datasets/client_data.py?line=264'>265</a>\u001b[0m \u001b[39m  Args:\u001b[39;00m\n\u001b[0;32m   (...)\u001b[0m\n\u001b[1;32m    <a href='file:///home/tester/venv/lib/python3.9/site-packages/tensorflow_federated/python/simulation/datasets/client_data.py?line=273'>274</a>\u001b[0m \u001b[39m    A `ClientData` object.\u001b[39;00m\n\u001b[1;32m    <a href='file:///home/tester/venv/lib/python3.9/site-packages/tensorflow_federated/python/simulation/datasets/client_data.py?line=274'>275</a>\u001b[0m \u001b[39m  \"\"\"\u001b[39;00m\n\u001b[0;32m--> <a href='file:///home/tester/venv/lib/python3.9/site-packages/tensorflow_federated/python/simulation/datasets/client_data.py?line=275'>276</a>\u001b[0m   \u001b[39mreturn\u001b[39;00m ConcreteClientData(client_ids, serializable_dataset_fn)\n",
      "File \u001b[0;32m~/venv/lib/python3.9/site-packages/tensorflow_federated/python/simulation/datasets/client_data.py:430\u001b[0m, in \u001b[0;36mConcreteClientData.__init__\u001b[0;34m(self, client_ids, serializable_dataset_fn)\u001b[0m\n\u001b[1;32m    <a href='file:///home/tester/venv/lib/python3.9/site-packages/tensorflow_federated/python/simulation/datasets/client_data.py?line=426'>427</a>\u001b[0m py_typecheck\u001b[39m.\u001b[39mcheck_type(client_ids, collections\u001b[39m.\u001b[39mabc\u001b[39m.\u001b[39mIterable)\n\u001b[1;32m    <a href='file:///home/tester/venv/lib/python3.9/site-packages/tensorflow_federated/python/simulation/datasets/client_data.py?line=427'>428</a>\u001b[0m py_typecheck\u001b[39m.\u001b[39mcheck_callable(serializable_dataset_fn)\n\u001b[0;32m--> <a href='file:///home/tester/venv/lib/python3.9/site-packages/tensorflow_federated/python/simulation/datasets/client_data.py?line=429'>430</a>\u001b[0m \u001b[39mif\u001b[39;00m \u001b[39mnot\u001b[39;00m client_ids:\n\u001b[1;32m    <a href='file:///home/tester/venv/lib/python3.9/site-packages/tensorflow_federated/python/simulation/datasets/client_data.py?line=430'>431</a>\u001b[0m   \u001b[39mraise\u001b[39;00m \u001b[39mValueError\u001b[39;00m(\u001b[39m'\u001b[39m\u001b[39mAt least one client_id is required.\u001b[39m\u001b[39m'\u001b[39m)\n\u001b[1;32m    <a href='file:///home/tester/venv/lib/python3.9/site-packages/tensorflow_federated/python/simulation/datasets/client_data.py?line=432'>433</a>\u001b[0m \u001b[39mself\u001b[39m\u001b[39m.\u001b[39m_client_ids \u001b[39m=\u001b[39m \u001b[39mlist\u001b[39m(client_ids)\n",
      "\u001b[0;31mValueError\u001b[0m: The truth value of an array with more than one element is ambiguous. Use a.any() or a.all()"
     ]
    }
   ],
   "source": [
    "app.run(main([None]))"
   ]
  },
  {
   "cell_type": "code",
   "execution_count": null,
   "metadata": {},
   "outputs": [],
   "source": [
    "try:\n",
    "    app.run(main([None]))\n",
    "except:\n",
    "    print(\"exec end error\")"
   ]
  },
  {
   "cell_type": "code",
   "execution_count": 15,
   "metadata": {},
   "outputs": [
    {
     "ename": "TypeError",
     "evalue": "Expected dict, found list.",
     "output_type": "error",
     "traceback": [
      "\u001b[0;31m---------------------------------------------------------------------------\u001b[0m",
      "\u001b[0;31mTypeError\u001b[0m                                 Traceback (most recent call last)",
      "\u001b[1;32m/home/tester/Desktop/federated/tensorflow_federated/examples/simple_fedavg/modbus_fedavg.ipynb Cell 18'\u001b[0m in \u001b[0;36m<cell line: 1>\u001b[0;34m()\u001b[0m\n\u001b[0;32m----> <a href='vscode-notebook-cell:/home/tester/Desktop/federated/tensorflow_federated/examples/simple_fedavg/modbus_fedavg.ipynb#ch0000007?line=0'>1</a>\u001b[0m tt \u001b[39m=\u001b[39m tff\u001b[39m.\u001b[39;49msimulation\u001b[39m.\u001b[39;49mdatasets\u001b[39m.\u001b[39;49mTestClientData(\n\u001b[1;32m      <a href='vscode-notebook-cell:/home/tester/Desktop/federated/tensorflow_federated/examples/simple_fedavg/modbus_fedavg.ipynb#ch0000007?line=1'>2</a>\u001b[0m     client_ids\n\u001b[1;32m      <a href='vscode-notebook-cell:/home/tester/Desktop/federated/tensorflow_federated/examples/simple_fedavg/modbus_fedavg.ipynb#ch0000007?line=2'>3</a>\u001b[0m )\n",
      "File \u001b[0;32m~/venv/lib/python3.9/site-packages/tensorflow_federated/python/simulation/datasets/from_tensor_slices_client_data.py:60\u001b[0m, in \u001b[0;36mTestClientData.__init__\u001b[0;34m(self, tensor_slices_dict)\u001b[0m\n\u001b[1;32m     <a href='file:///home/tester/venv/lib/python3.9/site-packages/tensorflow_federated/python/simulation/datasets/from_tensor_slices_client_data.py?line=38'>39</a>\u001b[0m \u001b[39mdef\u001b[39;00m \u001b[39m__init__\u001b[39m(\u001b[39mself\u001b[39m, tensor_slices_dict):\n\u001b[1;32m     <a href='file:///home/tester/venv/lib/python3.9/site-packages/tensorflow_federated/python/simulation/datasets/from_tensor_slices_client_data.py?line=39'>40</a>\u001b[0m   \u001b[39m\"\"\"Constructs the object from a dictionary of client data.\u001b[39;00m\n\u001b[1;32m     <a href='file:///home/tester/venv/lib/python3.9/site-packages/tensorflow_federated/python/simulation/datasets/from_tensor_slices_client_data.py?line=40'>41</a>\u001b[0m \n\u001b[1;32m     <a href='file:///home/tester/venv/lib/python3.9/site-packages/tensorflow_federated/python/simulation/datasets/from_tensor_slices_client_data.py?line=41'>42</a>\u001b[0m \u001b[39m  Note: All clients are required to have non-empty data.\u001b[39;00m\n\u001b[0;32m   (...)\u001b[0m\n\u001b[1;32m     <a href='file:///home/tester/venv/lib/python3.9/site-packages/tensorflow_federated/python/simulation/datasets/from_tensor_slices_client_data.py?line=57'>58</a>\u001b[0m \u001b[39m      TensorFlow data types.\u001b[39;00m\n\u001b[1;32m     <a href='file:///home/tester/venv/lib/python3.9/site-packages/tensorflow_federated/python/simulation/datasets/from_tensor_slices_client_data.py?line=58'>59</a>\u001b[0m \u001b[39m  \"\"\"\u001b[39;00m\n\u001b[0;32m---> <a href='file:///home/tester/venv/lib/python3.9/site-packages/tensorflow_federated/python/simulation/datasets/from_tensor_slices_client_data.py?line=59'>60</a>\u001b[0m   py_typecheck\u001b[39m.\u001b[39;49mcheck_type(tensor_slices_dict, \u001b[39mdict\u001b[39;49m)\n\u001b[1;32m     <a href='file:///home/tester/venv/lib/python3.9/site-packages/tensorflow_federated/python/simulation/datasets/from_tensor_slices_client_data.py?line=60'>61</a>\u001b[0m   tensor_slices_dict \u001b[39m=\u001b[39m copy\u001b[39m.\u001b[39mdeepcopy(tensor_slices_dict)\n\u001b[1;32m     <a href='file:///home/tester/venv/lib/python3.9/site-packages/tensorflow_federated/python/simulation/datasets/from_tensor_slices_client_data.py?line=61'>62</a>\u001b[0m   structures \u001b[39m=\u001b[39m \u001b[39mlist\u001b[39m(tensor_slices_dict\u001b[39m.\u001b[39mvalues())\n",
      "File \u001b[0;32m~/venv/lib/python3.9/site-packages/tensorflow_federated/python/common_libs/py_typecheck.py:40\u001b[0m, in \u001b[0;36mcheck_type\u001b[0;34m(target, type_spec, label)\u001b[0m\n\u001b[1;32m     <a href='file:///home/tester/venv/lib/python3.9/site-packages/tensorflow_federated/python/common_libs/py_typecheck.py?line=23'>24</a>\u001b[0m \u001b[39m\"\"\"Checks that `target` is of Python type or types `type_spec`.\u001b[39;00m\n\u001b[1;32m     <a href='file:///home/tester/venv/lib/python3.9/site-packages/tensorflow_federated/python/common_libs/py_typecheck.py?line=24'>25</a>\u001b[0m \n\u001b[1;32m     <a href='file:///home/tester/venv/lib/python3.9/site-packages/tensorflow_federated/python/common_libs/py_typecheck.py?line=25'>26</a>\u001b[0m \u001b[39mArgs:\u001b[39;00m\n\u001b[0;32m   (...)\u001b[0m\n\u001b[1;32m     <a href='file:///home/tester/venv/lib/python3.9/site-packages/tensorflow_federated/python/common_libs/py_typecheck.py?line=36'>37</a>\u001b[0m \u001b[39m  TypeError: when the target is not of one of the types in `type_spec`.\u001b[39;00m\n\u001b[1;32m     <a href='file:///home/tester/venv/lib/python3.9/site-packages/tensorflow_federated/python/common_libs/py_typecheck.py?line=37'>38</a>\u001b[0m \u001b[39m\"\"\"\u001b[39;00m\n\u001b[1;32m     <a href='file:///home/tester/venv/lib/python3.9/site-packages/tensorflow_federated/python/common_libs/py_typecheck.py?line=38'>39</a>\u001b[0m \u001b[39mif\u001b[39;00m \u001b[39mnot\u001b[39;00m \u001b[39misinstance\u001b[39m(target, type_spec):\n\u001b[0;32m---> <a href='file:///home/tester/venv/lib/python3.9/site-packages/tensorflow_federated/python/common_libs/py_typecheck.py?line=39'>40</a>\u001b[0m   \u001b[39mraise\u001b[39;00m \u001b[39mTypeError\u001b[39;00m(\u001b[39m'\u001b[39m\u001b[39mExpected \u001b[39m\u001b[39m{}\u001b[39;00m\u001b[39m{}\u001b[39;00m\u001b[39m, found \u001b[39m\u001b[39m{}\u001b[39;00m\u001b[39m.\u001b[39m\u001b[39m'\u001b[39m\u001b[39m.\u001b[39mformat(\n\u001b[1;32m     <a href='file:///home/tester/venv/lib/python3.9/site-packages/tensorflow_federated/python/common_libs/py_typecheck.py?line=40'>41</a>\u001b[0m       \u001b[39m'\u001b[39m\u001b[39m{}\u001b[39;00m\u001b[39m to be of type \u001b[39m\u001b[39m'\u001b[39m\u001b[39m.\u001b[39mformat(label) \u001b[39mif\u001b[39;00m label \u001b[39mis\u001b[39;00m \u001b[39mnot\u001b[39;00m \u001b[39mNone\u001b[39;00m \u001b[39melse\u001b[39;00m \u001b[39m'\u001b[39m\u001b[39m'\u001b[39m,\n\u001b[1;32m     <a href='file:///home/tester/venv/lib/python3.9/site-packages/tensorflow_federated/python/common_libs/py_typecheck.py?line=41'>42</a>\u001b[0m       type_string(type_spec), type_string(\u001b[39mtype\u001b[39m(target))))\n\u001b[1;32m     <a href='file:///home/tester/venv/lib/python3.9/site-packages/tensorflow_federated/python/common_libs/py_typecheck.py?line=42'>43</a>\u001b[0m \u001b[39mreturn\u001b[39;00m target\n",
      "\u001b[0;31mTypeError\u001b[0m: Expected dict, found list."
     ]
    }
   ],
   "source": [
    "tt = tff.simulation.datasets.TestClientData(\n",
    "    client_ids\n",
    ")\n"
   ]
  },
  {
   "cell_type": "code",
   "execution_count": null,
   "metadata": {},
   "outputs": [],
   "source": []
  }
 ],
 "metadata": {
  "interpreter": {
   "hash": "a71c52cf81b3ce176a2dee7a24d4a513c23ffb6ff815f0de53fd7e035b7d8234"
  },
  "kernelspec": {
   "display_name": "Python 3.9.2 ('venv')",
   "language": "python",
   "name": "python3"
  },
  "language_info": {
   "codemirror_mode": {
    "name": "ipython",
    "version": 3
   },
   "file_extension": ".py",
   "mimetype": "text/x-python",
   "name": "python",
   "nbconvert_exporter": "python",
   "pygments_lexer": "ipython3",
   "version": "3.9.2"
  },
  "orig_nbformat": 4
 },
 "nbformat": 4,
 "nbformat_minor": 2
}
