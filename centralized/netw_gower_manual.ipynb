{
 "cells": [
  {
   "cell_type": "code",
   "execution_count": 1,
   "metadata": {},
   "outputs": [
    {
     "name": "stderr",
     "output_type": "stream",
     "text": [
      "2022-06-29 11:43:57.055017: W tensorflow/stream_executor/platform/default/dso_loader.cc:64] Could not load dynamic library 'libcudart.so.11.0'; dlerror: libcudart.so.11.0: cannot open shared object file: No such file or directory\n",
      "2022-06-29 11:43:57.055049: I tensorflow/stream_executor/cuda/cudart_stub.cc:29] Ignore above cudart dlerror if you do not have a GPU set up on your machine.\n"
     ]
    }
   ],
   "source": [
    "import matplotlib.pyplot as plt\n",
    "import numpy as np\n",
    "import pandas as pd\n",
    "import tensorflow as tf\n",
    "\n",
    "from sklearn.metrics import accuracy_score, precision_score, recall_score, f1_score, roc_auc_score\n",
    "from sklearn.model_selection import train_test_split\n",
    "from tensorflow.keras import layers, losses\n",
    "#from tensorflow.keras.datasets import fashion_mnist\n",
    "from tensorflow.keras.models import Model\n",
    "from sklearn.preprocessing import MinMaxScaler, StandardScaler, OneHotEncoder\n",
    "from sklearn.compose import make_column_transformer\n",
    "\n",
    "import sys\n",
    "sys.path.append(\"/home/tester/Desktop/TF/gower/gower\")\n",
    "import gower_dist as gd\n",
    "\n",
    "#import gower\n"
   ]
  },
  {
   "cell_type": "code",
   "execution_count": 2,
   "metadata": {},
   "outputs": [
    {
     "data": {
      "text/html": [
       "<div>\n",
       "<style scoped>\n",
       "    .dataframe tbody tr th:only-of-type {\n",
       "        vertical-align: middle;\n",
       "    }\n",
       "\n",
       "    .dataframe tbody tr th {\n",
       "        vertical-align: top;\n",
       "    }\n",
       "\n",
       "    .dataframe thead th {\n",
       "        text-align: right;\n",
       "    }\n",
       "</style>\n",
       "<table border=\"1\" class=\"dataframe\">\n",
       "  <thead>\n",
       "    <tr style=\"text-align: right;\">\n",
       "      <th></th>\n",
       "      <th>src_ip</th>\n",
       "      <th>src_port</th>\n",
       "      <th>dst_ip</th>\n",
       "      <th>dst_port</th>\n",
       "      <th>proto</th>\n",
       "      <th>service</th>\n",
       "      <th>duration</th>\n",
       "      <th>src_bytes</th>\n",
       "      <th>dst_bytes</th>\n",
       "      <th>conn_state</th>\n",
       "      <th>...</th>\n",
       "      <th>http_request_body_len</th>\n",
       "      <th>http_response_body_len</th>\n",
       "      <th>http_status_code</th>\n",
       "      <th>http_user_agent</th>\n",
       "      <th>http_orig_mime_types</th>\n",
       "      <th>http_resp_mime_types</th>\n",
       "      <th>weird_name</th>\n",
       "      <th>weird_addl</th>\n",
       "      <th>weird_notice</th>\n",
       "      <th>label</th>\n",
       "    </tr>\n",
       "  </thead>\n",
       "  <tbody>\n",
       "    <tr>\n",
       "      <th>0</th>\n",
       "      <td>3.122.49.24</td>\n",
       "      <td>1883</td>\n",
       "      <td>192.168.1.152</td>\n",
       "      <td>52976</td>\n",
       "      <td>tcp</td>\n",
       "      <td>-</td>\n",
       "      <td>80549.530260</td>\n",
       "      <td>1762852</td>\n",
       "      <td>41933215</td>\n",
       "      <td>OTH</td>\n",
       "      <td>...</td>\n",
       "      <td>0</td>\n",
       "      <td>0</td>\n",
       "      <td>0</td>\n",
       "      <td>-</td>\n",
       "      <td>-</td>\n",
       "      <td>-</td>\n",
       "      <td>bad_TCP_checksum</td>\n",
       "      <td>-</td>\n",
       "      <td>F</td>\n",
       "      <td>0</td>\n",
       "    </tr>\n",
       "    <tr>\n",
       "      <th>1</th>\n",
       "      <td>192.168.1.79</td>\n",
       "      <td>47260</td>\n",
       "      <td>192.168.1.255</td>\n",
       "      <td>15600</td>\n",
       "      <td>udp</td>\n",
       "      <td>-</td>\n",
       "      <td>0.000000</td>\n",
       "      <td>0</td>\n",
       "      <td>0</td>\n",
       "      <td>S0</td>\n",
       "      <td>...</td>\n",
       "      <td>0</td>\n",
       "      <td>0</td>\n",
       "      <td>0</td>\n",
       "      <td>-</td>\n",
       "      <td>-</td>\n",
       "      <td>-</td>\n",
       "      <td>-</td>\n",
       "      <td>-</td>\n",
       "      <td>-</td>\n",
       "      <td>0</td>\n",
       "    </tr>\n",
       "    <tr>\n",
       "      <th>2</th>\n",
       "      <td>192.168.1.152</td>\n",
       "      <td>1880</td>\n",
       "      <td>192.168.1.152</td>\n",
       "      <td>51782</td>\n",
       "      <td>tcp</td>\n",
       "      <td>-</td>\n",
       "      <td>0.000000</td>\n",
       "      <td>0</td>\n",
       "      <td>0</td>\n",
       "      <td>OTH</td>\n",
       "      <td>...</td>\n",
       "      <td>0</td>\n",
       "      <td>0</td>\n",
       "      <td>0</td>\n",
       "      <td>-</td>\n",
       "      <td>-</td>\n",
       "      <td>-</td>\n",
       "      <td>bad_TCP_checksum</td>\n",
       "      <td>-</td>\n",
       "      <td>F</td>\n",
       "      <td>0</td>\n",
       "    </tr>\n",
       "    <tr>\n",
       "      <th>3</th>\n",
       "      <td>192.168.1.152</td>\n",
       "      <td>34296</td>\n",
       "      <td>192.168.1.152</td>\n",
       "      <td>10502</td>\n",
       "      <td>tcp</td>\n",
       "      <td>-</td>\n",
       "      <td>0.000000</td>\n",
       "      <td>0</td>\n",
       "      <td>0</td>\n",
       "      <td>OTH</td>\n",
       "      <td>...</td>\n",
       "      <td>0</td>\n",
       "      <td>0</td>\n",
       "      <td>0</td>\n",
       "      <td>-</td>\n",
       "      <td>-</td>\n",
       "      <td>-</td>\n",
       "      <td>-</td>\n",
       "      <td>-</td>\n",
       "      <td>-</td>\n",
       "      <td>0</td>\n",
       "    </tr>\n",
       "    <tr>\n",
       "      <th>4</th>\n",
       "      <td>192.168.1.152</td>\n",
       "      <td>46608</td>\n",
       "      <td>192.168.1.190</td>\n",
       "      <td>53</td>\n",
       "      <td>udp</td>\n",
       "      <td>dns</td>\n",
       "      <td>0.000549</td>\n",
       "      <td>0</td>\n",
       "      <td>298</td>\n",
       "      <td>SHR</td>\n",
       "      <td>...</td>\n",
       "      <td>0</td>\n",
       "      <td>0</td>\n",
       "      <td>0</td>\n",
       "      <td>-</td>\n",
       "      <td>-</td>\n",
       "      <td>-</td>\n",
       "      <td>bad_UDP_checksum</td>\n",
       "      <td>-</td>\n",
       "      <td>F</td>\n",
       "      <td>0</td>\n",
       "    </tr>\n",
       "  </tbody>\n",
       "</table>\n",
       "<p>5 rows × 43 columns</p>\n",
       "</div>"
      ],
      "text/plain": [
       "          src_ip  src_port         dst_ip  dst_port proto service  \\\n",
       "0    3.122.49.24      1883  192.168.1.152     52976   tcp       -   \n",
       "1   192.168.1.79     47260  192.168.1.255     15600   udp       -   \n",
       "2  192.168.1.152      1880  192.168.1.152     51782   tcp       -   \n",
       "3  192.168.1.152     34296  192.168.1.152     10502   tcp       -   \n",
       "4  192.168.1.152     46608  192.168.1.190        53   udp     dns   \n",
       "\n",
       "       duration  src_bytes  dst_bytes conn_state  ...  http_request_body_len  \\\n",
       "0  80549.530260    1762852   41933215        OTH  ...                      0   \n",
       "1      0.000000          0          0         S0  ...                      0   \n",
       "2      0.000000          0          0        OTH  ...                      0   \n",
       "3      0.000000          0          0        OTH  ...                      0   \n",
       "4      0.000549          0        298        SHR  ...                      0   \n",
       "\n",
       "   http_response_body_len  http_status_code  http_user_agent  \\\n",
       "0                       0                 0                -   \n",
       "1                       0                 0                -   \n",
       "2                       0                 0                -   \n",
       "3                       0                 0                -   \n",
       "4                       0                 0                -   \n",
       "\n",
       "   http_orig_mime_types http_resp_mime_types        weird_name  weird_addl  \\\n",
       "0                     -                    -  bad_TCP_checksum           -   \n",
       "1                     -                    -                 -           -   \n",
       "2                     -                    -  bad_TCP_checksum           -   \n",
       "3                     -                    -                 -           -   \n",
       "4                     -                    -  bad_UDP_checksum           -   \n",
       "\n",
       "   weird_notice label  \n",
       "0             F     0  \n",
       "1             -     0  \n",
       "2             F     0  \n",
       "3             -     0  \n",
       "4             F     0  \n",
       "\n",
       "[5 rows x 43 columns]"
      ]
     },
     "execution_count": 2,
     "metadata": {},
     "output_type": "execute_result"
    }
   ],
   "source": [
    "df = pd.read_csv(\"../datasets/TON_IoT-Datasets/Train_Test_datasets/Train_Test_Network_dataset/Train_Test_Network.csv\")\n",
    "df.pop('type')\n",
    "df.pop('ts')\n",
    "df.head()\n",
    "\n",
    "#reduced_df = df[[\"src_port\", \"proto\", \"service\", \"dst_port\", \"duration\", \"label\"]]\n",
    "\n",
    "    #'proto', 'service', 'conn_state', 'dns_query', 'ssl_version',\n",
    "    # 'ssl_cipher', 'ssl_subject', 'ssl_issuer', 'http_method', 'http_uri',\n",
    "    # 'http_version', 'http_orig_mime_types', 'http_resp_mime_types',\n",
    "    # 'weird_name', 'weird_addl']]\n",
    "#df = reduced_df"
   ]
  },
  {
   "cell_type": "code",
   "execution_count": 3,
   "metadata": {},
   "outputs": [],
   "source": [
    "\n",
    "# transformer = make_column_transformer(\n",
    "#     (OneHotEncoder(), ['proto', 'service']),\n",
    "#     # 'ssl_cipher', 'ssl_subject', 'ssl_issuer', 'http_method', 'http_uri',\n",
    "#     # 'http_version', 'http_orig_mime_types', 'http_resp_mime_types',\n",
    "#     # 'weird_name', 'weird_addl']),\n",
    "#     remainder='passthrough')\n",
    "# \n",
    "# transformed = transformer.fit_transform(df)\n",
    "# transformed_df = pd.DataFrame(\n",
    "#     transformed, \n",
    "#     columns=transformer.get_feature_names_out()\n",
    "# )"
   ]
  },
  {
   "cell_type": "markdown",
   "metadata": {},
   "source": [
    "## Perform outlier detection"
   ]
  },
  {
   "cell_type": "markdown",
   "metadata": {},
   "source": [
    "## Compute gower dist manually"
   ]
  },
  {
   "cell_type": "code",
   "execution_count": 3,
   "metadata": {},
   "outputs": [],
   "source": [
    "cat_indexs = [0, 1, 2, 3, 4, 5, 9, 15, 16, 17, 18, 19, 20, 21, 22, 23, 24, 25, 26, 27, 28, 29, 30, 31, 32, 35, 36, 37, 38, 39, 40, 41]\n",
    "num_indexs = [6, 7, 8, 10, 11, 12, 13, 14, 33, 34]\n",
    "#bool_indexs = []\n"
   ]
  },
  {
   "cell_type": "code",
   "execution_count": 5,
   "metadata": {},
   "outputs": [],
   "source": [
    "def compute_ranges(data, num_indexs):\n",
    "    ranges = []\n",
    "    for l in num_indexs:\n",
    "        ranges.append(np.max(data.iloc[:,l].values) - np.min(data.iloc[:,l].values))\n",
    "    return ranges\n"
   ]
  },
  {
   "cell_type": "code",
   "execution_count": 6,
   "metadata": {},
   "outputs": [
    {
     "name": "stdout",
     "output_type": "stream",
     "text": [
      "[93516.92917, 3890855126, 3913853482, 1854527046, 252181, 47367248, 313943, 86395523, 2338, 13424384]\n"
     ]
    }
   ],
   "source": [
    "ranges = compute_ranges(df, num_indexs)\n",
    "print(ranges)"
   ]
  },
  {
   "cell_type": "code",
   "execution_count": 7,
   "metadata": {},
   "outputs": [],
   "source": [
    "def gower_distance_i_j(instance_i, instance_j, cat_indexs, num_indexs, ranges):\n",
    "    #Qualitat\n",
    "    cat_len = len(cat_indexs)\n",
    "    alpha = 0.\n",
    "    for l in cat_indexs:\n",
    "        if(instance_i[l] == instance_j[l]):\n",
    "            alpha = alpha + 1.\n",
    "    #Numeric\n",
    "    cnt = 0\n",
    "    num_len = len(num_indexs)\n",
    "    beta = 0.\n",
    "    #eps = 0.000001\n",
    "    for l in num_indexs:\n",
    "        #if ranges[cnt] != 0:\n",
    "        beta = beta + (1-np.abs(instance_i[l]-instance_j[l])/(ranges[cnt]))\n",
    "        #else:\n",
    "        #    num_len = num_len - 1\n",
    "        cnt = cnt + 1\n",
    "    s_i_j = (alpha + beta)/(cat_len+num_len)\n",
    "    return 1.-s_i_j"
   ]
  },
  {
   "cell_type": "code",
   "execution_count": 8,
   "metadata": {},
   "outputs": [],
   "source": [
    "def compute_gower_mat(data, cat_indexs, num_indexs, ranges):\n",
    "    mat = []\n",
    "    #feature_num = len(cat_indexs)+len(num_indexs)\n",
    "    for i in range(0,len(data)):\n",
    "        row = []\n",
    "        for j in range(0,len(data)):\n",
    "            row.append(gower_distance_i_j(df.loc[i].values, df.loc[j].values, cat_indexs, num_indexs, ranges))\n",
    "        mat.append(row)\n",
    "    return mat\n",
    "\n",
    "#for index, row in df.iterrows():\n",
    "#    print(row.values)"
   ]
  },
  {
   "cell_type": "markdown",
   "metadata": {},
   "source": [
    "## Single func when new data arrives"
   ]
  },
  {
   "cell_type": "code",
   "execution_count": 4,
   "metadata": {},
   "outputs": [],
   "source": [
    "# Which cols are categorical\n",
    "cat_index_bool = [False] * 42\n",
    "for e in cat_indexs:\n",
    "    cat_index_bool[e] = True"
   ]
  },
  {
   "cell_type": "code",
   "execution_count": 10,
   "metadata": {},
   "outputs": [],
   "source": [
    "TRAIN_SIZE = 10000\n",
    "TEST_SIZE = 20000"
   ]
  },
  {
   "cell_type": "code",
   "execution_count": 11,
   "metadata": {},
   "outputs": [],
   "source": [
    "data = df.sample(TRAIN_SIZE+TEST_SIZE, random_state=21)\n",
    "\n",
    "train_data = data.head(TRAIN_SIZE)\n",
    "train_labels = train_data.pop('label')\n",
    "test_data = data.tail(TEST_SIZE)\n",
    "test_labels = test_data.pop('label')\n",
    "\n",
    "labels = data.pop('label')\n"
   ]
  },
  {
   "cell_type": "code",
   "execution_count": 12,
   "metadata": {},
   "outputs": [
    {
     "name": "stdout",
     "output_type": "stream",
     "text": [
      "(10000, 10000)\n"
     ]
    }
   ],
   "source": [
    "train_gower_mat = gd.gower_matrix_limit_cols(train_data,TRAIN_SIZE,cat_features=cat_index_bool)"
   ]
  },
  {
   "cell_type": "markdown",
   "metadata": {},
   "source": [
    "Compute gower dist per instance in test"
   ]
  },
  {
   "cell_type": "code",
   "execution_count": 13,
   "metadata": {},
   "outputs": [],
   "source": [
    "cat_index_bool = np.array(cat_index_bool)\n",
    "\n",
    "data = np.asarray(data)\n",
    "\n",
    "cat_data = data[:,cat_index_bool]\n",
    "num_data = data[:,np.logical_not(cat_index_bool)]\n",
    "\n",
    "cat_cols = cat_data.shape[1]\n",
    "num_cols = num_data.shape[1]\n",
    "\n",
    "weight = np.ones(42)\n",
    "weight_cat=weight[cat_index_bool]\n",
    "weight_num=weight[np.logical_not(cat_index_bool)]\n",
    "weight_sum = weight.sum()\n",
    "\n",
    "num_ranges = np.zeros(num_cols)\n",
    "num_max = np.zeros(num_cols)\n",
    "\n",
    "for col in range(num_cols):\n",
    "    col_array = num_data[:, col].astype(np.float32) \n",
    "    max = np.nanmax(col_array)\n",
    "    min = np.nanmin(col_array)\n",
    " \n",
    "    if np.isnan(max):\n",
    "        max = 0.0\n",
    "    if np.isnan(min):\n",
    "        min = 0.0\n",
    "    num_max[col] = max\n",
    "    num_ranges[col] = (1 - min / max) if (max != 0) else 0.0\n",
    "\n",
    "num_data = np.divide(num_data ,num_max,out=np.zeros_like(num_data), where=num_max!=0)\n",
    "#print(num_data.shape)"
   ]
  },
  {
   "cell_type": "code",
   "execution_count": 14,
   "metadata": {},
   "outputs": [],
   "source": [
    "test_gower_mat = []\n",
    "for i in range(TRAIN_SIZE, TRAIN_SIZE+TEST_SIZE):\n",
    "    dist = gd.gower_get(cat_data[i,:], num_data[i,:], cat_data[0:TRAIN_SIZE,:], num_data[0:TRAIN_SIZE,:], weight_cat, weight_num, weight_sum, cat_index_bool, num_ranges, num_max)\n",
    "    test_gower_mat.append(np.float32(dist))\n",
    "test_gower_mat = np.array(test_gower_mat)"
   ]
  },
  {
   "cell_type": "code",
   "execution_count": null,
   "metadata": {},
   "outputs": [],
   "source": [
    "#print(gower_distance_i_j(sample1.loc[0].values, sample1.loc[0].values, cat_indexs, num_indexs, ranges))"
   ]
  },
  {
   "cell_type": "code",
   "execution_count": null,
   "metadata": {},
   "outputs": [],
   "source": [
    "#dis = gower_distance_i_j(df.loc[0].values, df.loc[0].values, cat_indexs, num_indexs, ranges)\n",
    "#print(dis)"
   ]
  },
  {
   "cell_type": "code",
   "execution_count": null,
   "metadata": {},
   "outputs": [],
   "source": [
    "# Percentage malware\n",
    "perc = len(df.loc[df['label']==1])/len(df)\n",
    "print(perc)"
   ]
  },
  {
   "cell_type": "code",
   "execution_count": null,
   "metadata": {},
   "outputs": [],
   "source": [
    "# Balance dataset\n",
    "num_anom = len(df.loc[df['label']==1.])\n",
    "df_anom = df.loc[df['label']==1.]\n",
    "df_normal = df.loc[df['label']==0.]\n",
    "df_normal = df_normal.sample(num_anom, replace=False)\n",
    "df_concated = pd.concat([df_normal, df_anom])\n",
    "balanced_data = df_concated"
   ]
  },
  {
   "cell_type": "code",
   "execution_count": null,
   "metadata": {},
   "outputs": [],
   "source": [
    "data = balanced_data.sample(4500, random_state=21)\n",
    "\n",
    "#train_data = data.sample(3000, random_state=21)\n",
    "#test_data = data.sample(1500, random_state=18)\n",
    "\n",
    "#train_data = data[0:3000]\n",
    "#test_data = data[3000:6000]\n",
    "\n",
    "labels = data.pop('label')\n",
    "train_labels = np.array(labels[0:1000])\n",
    "test_labels = np.array(labels[1000:4500])"
   ]
  },
  {
   "cell_type": "code",
   "execution_count": null,
   "metadata": {},
   "outputs": [],
   "source": [
    "gower_mat = gd.gower_matrix(data)\n",
    "train_gower_mat = gower_mat[0:1000,0:1000]\n",
    "test_gower_mat = gower_mat[1000:4500,0:3000]"
   ]
  },
  {
   "cell_type": "code",
   "execution_count": null,
   "metadata": {},
   "outputs": [],
   "source": [
    "print(train_gower_mat.shape)"
   ]
  },
  {
   "cell_type": "code",
   "execution_count": null,
   "metadata": {},
   "outputs": [],
   "source": [
    "print(test_gower_mat.shape)"
   ]
  },
  {
   "cell_type": "code",
   "execution_count": null,
   "metadata": {},
   "outputs": [],
   "source": [
    "# Unbalanced dataset\n",
    "\n",
    "# unbalanced_data = df.copy()\n",
    "# data = unbalanced_data.sample(6000, random_state=21)\n",
    "# train_data = data[0:3000]\n",
    "# test_data = data[3000:6000]\n",
    "# train_data.pop('type')\n",
    "# test_data.pop('type')\n",
    "# train_labels = train_data.pop('label')\n",
    "# test_labels = test_data.pop('label')\n",
    "# \n",
    "# train_gower_mat = gower.gower_dist.gower_matrix(train_data)\n",
    "# test_gower_mat = gower.gower_dist.gower_matrix(test_data)"
   ]
  },
  {
   "cell_type": "code",
   "execution_count": null,
   "metadata": {},
   "outputs": [],
   "source": [
    "# data_scaled = data.copy()\n",
    "# min_max_scaler = MinMaxScaler()\n",
    "# #data_scaled[[\"src_port\", \"dst_port\", \"src_bytes\", \"dst_bytes\", \"missed_bytes\"]] = min_max_scaler.fit_transform(data_scaled[[\"src_port\", \"dst_port\", \"src_bytes\", \"dst_bytes\", \"missed_bytes\"]])\n",
    "# data_scaled[data_scaled.columns] = min_max_scaler.fit_transform(data_scaled[data_scaled.columns])\n",
    "# print(data_scaled.shape)"
   ]
  },
  {
   "cell_type": "code",
   "execution_count": null,
   "metadata": {},
   "outputs": [],
   "source": [
    "# train_data, test_data, train_labels, test_labels = train_test_split(train_gower_mat, unbalanced_labels, test_size=0.33, random_state=21)"
   ]
  },
  {
   "cell_type": "code",
   "execution_count": null,
   "metadata": {},
   "outputs": [],
   "source": [
    "# Separe normal and anomaly classes\n",
    "\n",
    "#train_labels = train_labels.astype(bool)\n",
    "#test_labels = test_labels.astype(bool)\n",
    "\n",
    "# normal_train_data = train_data[~train_labels]\n",
    "# normal_test_data = test_data[~test_labels]\n",
    "# \n",
    "# anomalous_train_data = train_data[train_labels]\n",
    "# anomalous_test_data = test_data[test_labels]"
   ]
  },
  {
   "cell_type": "code",
   "execution_count": null,
   "metadata": {},
   "outputs": [],
   "source": [
    "# print(normal_train_data[0])"
   ]
  },
  {
   "cell_type": "code",
   "execution_count": null,
   "metadata": {},
   "outputs": [],
   "source": [
    "# plt.plot(normal_train_data[0])\n",
    "# #plt.plot(normal_train_data[1])\n",
    "# #plt.plot(normal_train_data[2])\n",
    "# plt.title(\"Normal Data\")\n",
    "# plt.show()"
   ]
  },
  {
   "cell_type": "code",
   "execution_count": null,
   "metadata": {},
   "outputs": [],
   "source": [
    "# plt.plot(anomalous_train_data[0])\n",
    "# #plt.plot(anomalous_train_data[1])\n",
    "# #plt.plot(anomalous_train_data[2])\n",
    "# plt.title(\"Anomaly Data\")\n",
    "# plt.show()"
   ]
  },
  {
   "cell_type": "code",
   "execution_count": null,
   "metadata": {},
   "outputs": [],
   "source": [
    "# train_data = np.array(train_data)\n",
    "# normal_train_data = np.array(normal_train_data)\n",
    "# normal_test_data = np.array(normal_test_data)\n",
    "# anomalous_train_data = np.array(anomalous_train_data)\n",
    "# anomalous_test_data = np.array(anomalous_test_data)"
   ]
  },
  {
   "cell_type": "code",
   "execution_count": null,
   "metadata": {},
   "outputs": [],
   "source": [
    "# class AutoEncoder(Model):\n",
    "#   def __init__(self):\n",
    "#     super(AutoEncoder, self).__init__()\n",
    "#     self.encoder = tf.keras.Sequential([\n",
    "#                   tf.keras.layers.Dense(64, activation=\"relu\"),\n",
    "#                   tf.keras.layers.Dense(32, activation=\"relu\"),\n",
    "#                   tf.keras.layers.Dense(16, activation=\"relu\"),\n",
    "#                   tf.keras.layers.Dense(8, activation=\"relu\")\n",
    "#               ])\n",
    "#     self.decoder = tf.keras.Sequential([\n",
    "#                   tf.keras.layers.Dense(16, activation=\"relu\"),\n",
    "#                   tf.keras.layers.Dense(32, activation=\"relu\"),\n",
    "#                   tf.keras.layers.Dense(64, activation=\"relu\"),\n",
    "#                   tf.keras.layers.Dense(16, activation=\"sigmoid\")\n",
    "#               ])\n",
    "#   def call(self, x):\n",
    "#     encoded = self.encoder(x)\n",
    "#     decoded = self.decoder(encoded)\n",
    "#     return decoded"
   ]
  },
  {
   "cell_type": "code",
   "execution_count": 15,
   "metadata": {},
   "outputs": [],
   "source": [
    "def create_keras_model():\n",
    "  return tf.keras.models.Sequential([\n",
    "      tf.keras.layers.Input(shape=(10000,)),\n",
    "      tf.keras.layers.Dense(1024, activation=\"relu\"),\n",
    "      tf.keras.layers.Dense(512, activation=\"relu\"),\n",
    "      tf.keras.layers.Dense(256, activation=\"relu\"),\n",
    "      tf.keras.layers.Dense(256, activation=\"relu\"),\n",
    "      #tf.keras.layers.Dense(256, activation=\"relu\"),\n",
    "      #tf.keras.layers.Dense(256, activation=\"relu\"),\n",
    "      #tf.keras.layers.Dense(256, activation=\"relu\"),\n",
    "      #tf.keras.layers.Dense(256, activation=\"relu\"),\n",
    "      tf.keras.layers.Dense(128, activation=\"relu\"),\n",
    "      tf.keras.layers.Dense(2),\n",
    "      #tf.keras.layers.Dense(2, activation=\"relu\"),\n",
    "      #tf.keras.layers.Dense(32, activation=\"relu\"),\n",
    "      #tf.keras.layers.Dense(4, activation=\"relu\"),\n",
    "      #tf.keras.layers.Dense(1, activation=\"sigmoid\"),\n",
    "      tf.keras.layers.Softmax()\n",
    "  ])"
   ]
  },
  {
   "cell_type": "code",
   "execution_count": 16,
   "metadata": {},
   "outputs": [],
   "source": [
    "train_data = train_gower_mat"
   ]
  },
  {
   "cell_type": "code",
   "execution_count": 17,
   "metadata": {},
   "outputs": [
    {
     "name": "stderr",
     "output_type": "stream",
     "text": [
      "2022-06-17 06:51:57.320165: W tensorflow/stream_executor/platform/default/dso_loader.cc:64] Could not load dynamic library 'libcuda.so.1'; dlerror: libcuda.so.1: cannot open shared object file: No such file or directory\n",
      "2022-06-17 06:51:57.320225: W tensorflow/stream_executor/cuda/cuda_driver.cc:269] failed call to cuInit: UNKNOWN ERROR (303)\n",
      "2022-06-17 06:51:57.320248: I tensorflow/stream_executor/cuda/cuda_diagnostics.cc:156] kernel driver does not appear to be running on this host (debian): /proc/driver/nvidia/version does not exist\n",
      "2022-06-17 06:51:57.320565: I tensorflow/core/platform/cpu_feature_guard.cc:151] This TensorFlow binary is optimized with oneAPI Deep Neural Network Library (oneDNN) to use the following CPU instructions in performance-critical operations:  AVX2 FMA\n",
      "To enable them in other operations, rebuild TensorFlow with the appropriate compiler flags.\n"
     ]
    }
   ],
   "source": [
    "model = create_keras_model()\n",
    "early_stopping = tf.keras.callbacks.EarlyStopping(monitor=\"val_loss\", patience=2, mode=\"min\")\n",
    "opt = tf.keras.optimizers.Adam(learning_rate=0.00001)\n",
    "metrics = [tf.keras.metrics.SparseCategoricalAccuracy()]\n",
    "loss = [tf.keras.losses.SparseCategoricalCrossentropy()]\n",
    "model.compile(optimizer=opt, loss=loss, metrics = metrics)"
   ]
  },
  {
   "cell_type": "code",
   "execution_count": 18,
   "metadata": {},
   "outputs": [
    {
     "name": "stdout",
     "output_type": "stream",
     "text": [
      "Epoch 1/300\n"
     ]
    },
    {
     "name": "stderr",
     "output_type": "stream",
     "text": [
      "2022-06-17 06:52:01.354566: W tensorflow/core/framework/cpu_allocator_impl.cc:82] Allocation of 400000000 exceeds 10% of free system memory.\n"
     ]
    },
    {
     "name": "stdout",
     "output_type": "stream",
     "text": [
      "312/313 [============================>.] - ETA: 0s - loss: 0.4278 - sparse_categorical_accuracy: 0.8180"
     ]
    },
    {
     "name": "stderr",
     "output_type": "stream",
     "text": [
      "2022-06-17 06:52:13.333594: W tensorflow/core/framework/cpu_allocator_impl.cc:82] Allocation of 400000000 exceeds 10% of free system memory.\n"
     ]
    },
    {
     "name": "stdout",
     "output_type": "stream",
     "text": [
      "313/313 [==============================] - 14s 44ms/step - loss: 0.4277 - sparse_categorical_accuracy: 0.8180 - val_loss: 0.3196 - val_sparse_categorical_accuracy: 0.8687\n",
      "Epoch 2/300\n",
      "313/313 [==============================] - 14s 44ms/step - loss: 0.2344 - sparse_categorical_accuracy: 0.9087 - val_loss: 0.1882 - val_sparse_categorical_accuracy: 0.9366\n",
      "Epoch 3/300\n",
      "313/313 [==============================] - 13s 43ms/step - loss: 0.1736 - sparse_categorical_accuracy: 0.9307 - val_loss: 0.1395 - val_sparse_categorical_accuracy: 0.9487\n",
      "Epoch 4/300\n",
      "313/313 [==============================] - 14s 44ms/step - loss: 0.1284 - sparse_categorical_accuracy: 0.9538 - val_loss: 0.1078 - val_sparse_categorical_accuracy: 0.9628\n",
      "Epoch 5/300\n",
      "313/313 [==============================] - 14s 45ms/step - loss: 0.1008 - sparse_categorical_accuracy: 0.9617 - val_loss: 0.1032 - val_sparse_categorical_accuracy: 0.9695\n",
      "Epoch 6/300\n",
      "313/313 [==============================] - 13s 40ms/step - loss: 0.0874 - sparse_categorical_accuracy: 0.9668 - val_loss: 0.1134 - val_sparse_categorical_accuracy: 0.9589\n",
      "Epoch 7/300\n",
      "313/313 [==============================] - 14s 44ms/step - loss: 0.0669 - sparse_categorical_accuracy: 0.9757 - val_loss: 0.0555 - val_sparse_categorical_accuracy: 0.9733\n",
      "Epoch 8/300\n",
      "313/313 [==============================] - 14s 44ms/step - loss: 0.0644 - sparse_categorical_accuracy: 0.9783 - val_loss: 0.0477 - val_sparse_categorical_accuracy: 0.9863\n",
      "Epoch 9/300\n",
      "313/313 [==============================] - 14s 45ms/step - loss: 0.0484 - sparse_categorical_accuracy: 0.9852 - val_loss: 0.0369 - val_sparse_categorical_accuracy: 0.9938\n",
      "Epoch 10/300\n",
      "313/313 [==============================] - 13s 42ms/step - loss: 0.0420 - sparse_categorical_accuracy: 0.9876 - val_loss: 0.0523 - val_sparse_categorical_accuracy: 0.9678\n",
      "Epoch 11/300\n",
      "313/313 [==============================] - 13s 42ms/step - loss: 0.0418 - sparse_categorical_accuracy: 0.9881 - val_loss: 0.0323 - val_sparse_categorical_accuracy: 0.9940\n",
      "Epoch 12/300\n",
      "313/313 [==============================] - 14s 43ms/step - loss: 0.0398 - sparse_categorical_accuracy: 0.9880 - val_loss: 0.0329 - val_sparse_categorical_accuracy: 0.9912\n",
      "Epoch 13/300\n",
      "313/313 [==============================] - 13s 43ms/step - loss: 0.0333 - sparse_categorical_accuracy: 0.9915 - val_loss: 0.0232 - val_sparse_categorical_accuracy: 0.9952\n",
      "Epoch 14/300\n",
      "313/313 [==============================] - 13s 42ms/step - loss: 0.0299 - sparse_categorical_accuracy: 0.9924 - val_loss: 0.0213 - val_sparse_categorical_accuracy: 0.9944\n",
      "Epoch 15/300\n",
      "313/313 [==============================] - 13s 42ms/step - loss: 0.0310 - sparse_categorical_accuracy: 0.9913 - val_loss: 0.0191 - val_sparse_categorical_accuracy: 0.9965\n",
      "Epoch 16/300\n",
      "313/313 [==============================] - 13s 42ms/step - loss: 0.0246 - sparse_categorical_accuracy: 0.9939 - val_loss: 0.0217 - val_sparse_categorical_accuracy: 0.9944\n",
      "Epoch 17/300\n",
      "313/313 [==============================] - 13s 41ms/step - loss: 0.0236 - sparse_categorical_accuracy: 0.9944 - val_loss: 0.0246 - val_sparse_categorical_accuracy: 0.9956\n"
     ]
    }
   ],
   "source": [
    "history = model.fit(train_data, train_labels, epochs=300, batch_size=32,\n",
    "                    validation_data=(train_data, train_labels),\n",
    "                    shuffle=True,\n",
    "                    callbacks=[early_stopping]\n",
    "                    )"
   ]
  },
  {
   "cell_type": "code",
   "execution_count": 19,
   "metadata": {},
   "outputs": [
    {
     "data": {
      "text/plain": [
       "<matplotlib.legend.Legend at 0x7efbbd595400>"
      ]
     },
     "execution_count": 19,
     "metadata": {},
     "output_type": "execute_result"
    },
    {
     "data": {
      "image/png": "[encoded data removed]",
      "text/plain": [
       "<Figure size 432x288 with 1 Axes>"
      ]
     },
     "metadata": {
      "needs_background": "light"
     },
     "output_type": "display_data"
    }
   ],
   "source": [
    "plt.plot(history.history[\"loss\"], label=\"Training Loss\")\n",
    "plt.plot(history.history[\"val_loss\"], label=\"Validation Loss\")\n",
    "plt.yscale('log')\n",
    "plt.legend()"
   ]
  },
  {
   "cell_type": "code",
   "execution_count": 20,
   "metadata": {},
   "outputs": [
    {
     "name": "stdout",
     "output_type": "stream",
     "text": [
      "  9/625 [..............................] - ETA: 4s - loss: 0.0132 - sparse_categorical_accuracy: 0.9965  "
     ]
    },
    {
     "name": "stderr",
     "output_type": "stream",
     "text": [
      "2022-06-17 06:56:24.072055: W tensorflow/core/framework/cpu_allocator_impl.cc:82] Allocation of 800000000 exceeds 10% of free system memory.\n"
     ]
    },
    {
     "name": "stdout",
     "output_type": "stream",
     "text": [
      "625/625 [==============================] - 4s 6ms/step - loss: 0.0265 - sparse_categorical_accuracy: 0.9949\n",
      "test loss, test acc: [0.0264743585139513, 0.9948999881744385]\n"
     ]
    }
   ],
   "source": [
    "results = model.evaluate(test_gower_mat, test_labels)\n",
    "print(\"test loss, test acc:\", results)"
   ]
  },
  {
   "cell_type": "code",
   "execution_count": 21,
   "metadata": {},
   "outputs": [],
   "source": [
    "def print_stats(predictions, labels):\n",
    "  print(\"Accuracy = {}\".format(accuracy_score(labels, predictions)))\n",
    "  print(\"Precision = {}\".format(precision_score(labels, predictions)))\n",
    "  print(\"Recall = {}\".format(recall_score(labels, predictions))) #sensitivity\n",
    "  print(\"F1 = {}\".format(f1_score(labels, predictions)))\n",
    "  print(\"ROC_AUC = {}\".format(roc_auc_score(labels, predictions)))"
   ]
  },
  {
   "cell_type": "code",
   "execution_count": null,
   "metadata": {},
   "outputs": [],
   "source": [
    "len(test_gower_mat[0])"
   ]
  },
  {
   "cell_type": "code",
   "execution_count": 22,
   "metadata": {},
   "outputs": [
    {
     "name": "stderr",
     "output_type": "stream",
     "text": [
      "2022-06-17 06:56:29.585846: W tensorflow/core/framework/cpu_allocator_impl.cc:82] Allocation of 800000000 exceeds 10% of free system memory.\n"
     ]
    }
   ],
   "source": [
    "# Results dont make sense give more weight to anomaly class in the learning process\n",
    "preds = model.predict(test_gower_mat)\n",
    "#y_classes = preds.argmax(axis=-1)\n",
    "#print_stats(preds, test_labels)"
   ]
  },
  {
   "cell_type": "code",
   "execution_count": 23,
   "metadata": {},
   "outputs": [
    {
     "name": "stdout",
     "output_type": "stream",
     "text": [
      "Accuracy = 0.9949\n",
      "Precision = 0.9988409156766155\n",
      "Recall = 0.9865483686319405\n",
      "F1 = 0.9926565874730023\n",
      "ROC_AUC = 0.9929667757700127\n"
     ]
    }
   ],
   "source": [
    "print_stats(np.round(preds[:,1], decimals=0), test_labels.astype(int))"
   ]
  },
  {
   "cell_type": "code",
   "execution_count": null,
   "metadata": {},
   "outputs": [],
   "source": []
  }
 ],
 "metadata": {
  "interpreter": {
   "hash": "a71c52cf81b3ce176a2dee7a24d4a513c23ffb6ff815f0de53fd7e035b7d8234"
  },
  "kernelspec": {
   "display_name": "Python 3.9.2 ('venv')",
   "language": "python",
   "name": "python3"
  },
  "language_info": {
   "codemirror_mode": {
    "name": "ipython",
    "version": 3
   },
   "file_extension": ".py",
   "mimetype": "text/x-python",
   "name": "python",
   "nbconvert_exporter": "python",
   "pygments_lexer": "ipython3",
   "version": "3.9.2"
  },
  "orig_nbformat": 4
 },
 "nbformat": 4,
 "nbformat_minor": 2
}
