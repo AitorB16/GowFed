{
 "cells": [
  {
   "cell_type": "code",
   "execution_count": 43,
   "metadata": {},
   "outputs": [],
   "source": [
    "import tensorflow as tf\n",
    "import numpy as np\n",
    "import pandas as pd\n",
    "from sklearn import model_selection\n",
    "from matplotlib import pyplot as plt"
   ]
  },
  {
   "cell_type": "code",
   "execution_count": 44,
   "metadata": {},
   "outputs": [],
   "source": [
    "data = pd.read_csv(\"../datasets/TON_IoT-Datasets/Train_Test_datasets/Train_Test_IoT_dataset/Train_Test_IoT_Modbus.csv\")"
   ]
  },
  {
   "cell_type": "code",
   "execution_count": 45,
   "metadata": {},
   "outputs": [
    {
     "data": {
      "text/html": [
       "<div>\n",
       "<style scoped>\n",
       "    .dataframe tbody tr th:only-of-type {\n",
       "        vertical-align: middle;\n",
       "    }\n",
       "\n",
       "    .dataframe tbody tr th {\n",
       "        vertical-align: top;\n",
       "    }\n",
       "\n",
       "    .dataframe thead th {\n",
       "        text-align: right;\n",
       "    }\n",
       "</style>\n",
       "<table border=\"1\" class=\"dataframe\">\n",
       "  <thead>\n",
       "    <tr style=\"text-align: right;\">\n",
       "      <th></th>\n",
       "      <th>FC1_Read_Input_Register</th>\n",
       "      <th>FC2_Read_Discrete_Value</th>\n",
       "      <th>FC3_Read_Holding_Register</th>\n",
       "      <th>FC4_Read_Coil</th>\n",
       "    </tr>\n",
       "  </thead>\n",
       "  <tbody>\n",
       "    <tr>\n",
       "      <th>0</th>\n",
       "      <td>49389</td>\n",
       "      <td>52921</td>\n",
       "      <td>25770</td>\n",
       "      <td>13625</td>\n",
       "    </tr>\n",
       "    <tr>\n",
       "      <th>1</th>\n",
       "      <td>49389</td>\n",
       "      <td>52921</td>\n",
       "      <td>25770</td>\n",
       "      <td>13625</td>\n",
       "    </tr>\n",
       "    <tr>\n",
       "      <th>2</th>\n",
       "      <td>49389</td>\n",
       "      <td>52921</td>\n",
       "      <td>25770</td>\n",
       "      <td>13625</td>\n",
       "    </tr>\n",
       "    <tr>\n",
       "      <th>3</th>\n",
       "      <td>49389</td>\n",
       "      <td>52921</td>\n",
       "      <td>25770</td>\n",
       "      <td>13625</td>\n",
       "    </tr>\n",
       "    <tr>\n",
       "      <th>4</th>\n",
       "      <td>40665</td>\n",
       "      <td>44748</td>\n",
       "      <td>21098</td>\n",
       "      <td>35371</td>\n",
       "    </tr>\n",
       "  </tbody>\n",
       "</table>\n",
       "</div>"
      ],
      "text/plain": [
       "   FC1_Read_Input_Register  FC2_Read_Discrete_Value  \\\n",
       "0                    49389                    52921   \n",
       "1                    49389                    52921   \n",
       "2                    49389                    52921   \n",
       "3                    49389                    52921   \n",
       "4                    40665                    44748   \n",
       "\n",
       "   FC3_Read_Holding_Register  FC4_Read_Coil  \n",
       "0                      25770          13625  \n",
       "1                      25770          13625  \n",
       "2                      25770          13625  \n",
       "3                      25770          13625  \n",
       "4                      21098          35371  "
      ]
     },
     "execution_count": 45,
     "metadata": {},
     "output_type": "execute_result"
    }
   ],
   "source": [
    "data_features = data.iloc[:,[3, 4, 5, 6, 7]]\n",
    "data_labels = data_features.pop('label')\n",
    "data_features.head()"
   ]
  },
  {
   "cell_type": "code",
   "execution_count": 46,
   "metadata": {},
   "outputs": [],
   "source": [
    "X_train, X_test, y_train, y_test = model_selection.train_test_split(data_features, data_labels, test_size=0.33)"
   ]
  },
  {
   "cell_type": "code",
   "execution_count": 47,
   "metadata": {},
   "outputs": [],
   "source": [
    "\n",
    "iot_model = tf.keras.Sequential([\n",
    "  tf.keras.layers.Dense(4),\n",
    "  tf.keras.layers.Dense(8),\n",
    "  tf.keras.layers.Dense(1)\n",
    "])\n",
    "\n",
    "iot_model.compile(loss = tf.keras.losses.MeanSquaredError(),\n",
    "                      optimizer = tf.optimizers.Adam(),\n",
    "                      metrics= ['acc'])\n",
    "\n"
   ]
  },
  {
   "cell_type": "code",
   "execution_count": 48,
   "metadata": {},
   "outputs": [
    {
     "name": "stdout",
     "output_type": "stream",
     "text": [
      "Epoch 1/10\n",
      "3852/3852 [==============================] - 4s 891us/step - loss: 177949616.0000 - acc: 0.5181 - val_loss: 0.3211 - val_acc: 0.5507\n",
      "Epoch 2/10\n",
      "3852/3852 [==============================] - 3s 847us/step - loss: 0.2400 - acc: 0.6364 - val_loss: 0.2194 - val_acc: 0.6867\n",
      "Epoch 3/10\n",
      "3852/3852 [==============================] - 3s 850us/step - loss: 0.4130 - acc: 0.5651 - val_loss: 0.9666 - val_acc: 0.4742\n",
      "Epoch 4/10\n",
      "3852/3852 [==============================] - 3s 860us/step - loss: 1781.9669 - acc: 0.5136 - val_loss: 14.5558 - val_acc: 0.6981\n",
      "Epoch 5/10\n",
      "3852/3852 [==============================] - 3s 859us/step - loss: 1263.3743 - acc: 0.5123 - val_loss: 23.3211 - val_acc: 0.2964\n",
      "Epoch 6/10\n",
      "3852/3852 [==============================] - 3s 856us/step - loss: 982.0460 - acc: 0.5080 - val_loss: 1.8359 - val_acc: 0.4850\n",
      "Epoch 7/10\n",
      "3852/3852 [==============================] - 3s 849us/step - loss: 548.3682 - acc: 0.5299 - val_loss: 22.8238 - val_acc: 0.5118\n",
      "Epoch 8/10\n",
      "3852/3852 [==============================] - 3s 860us/step - loss: 159.4483 - acc: 0.5302 - val_loss: 12.7602 - val_acc: 0.5241\n",
      "Epoch 9/10\n",
      "3852/3852 [==============================] - 3s 849us/step - loss: 36.5216 - acc: 0.5259 - val_loss: 0.3815 - val_acc: 0.5761\n",
      "Epoch 10/10\n",
      "3852/3852 [==============================] - 3s 881us/step - loss: 1.4888 - acc: 0.5588 - val_loss: 0.2154 - val_acc: 0.6984\n"
     ]
    }
   ],
   "source": [
    "history = iot_model.fit(X_train, y_train, validation_split = 0.1, epochs=10, batch_size=8)\n"
   ]
  },
  {
   "cell_type": "code",
   "execution_count": 49,
   "metadata": {},
   "outputs": [
    {
     "name": "stdout",
     "output_type": "stream",
     "text": [
      "528/528 [==============================] - 0s 673us/step - loss: 0.2228 - acc: 0.6772\n",
      "test loss, test acc: [0.22276680171489716, 0.6772013306617737]\n"
     ]
    }
   ],
   "source": [
    "results = iot_model.evaluate(X_test, y_test)\n",
    "print(\"test loss, test acc:\", results)"
   ]
  },
  {
   "cell_type": "code",
   "execution_count": 50,
   "metadata": {},
   "outputs": [
    {
     "data": {
      "image/png": "[encoded data removed]",
      "text/plain": [
       "<Figure size 432x288 with 1 Axes>"
      ]
     },
     "metadata": {
      "needs_background": "light"
     },
     "output_type": "display_data"
    }
   ],
   "source": [
    "plt.plot(history.history['acc'])\n",
    "plt.plot(history.history['val_acc'])\n",
    "plt.title('model accuracy')\n",
    "plt.ylabel('accuracy')\n",
    "plt.xlabel('epoch')\n",
    "plt.legend(['train', 'val'], loc='upper left')\n",
    "plt.show()"
   ]
  },
  {
   "cell_type": "code",
   "execution_count": 51,
   "metadata": {},
   "outputs": [
    {
     "data": {
      "image/png": "[encoded data removed]",
      "text/plain": [
       "<Figure size 432x288 with 1 Axes>"
      ]
     },
     "metadata": {
      "needs_background": "light"
     },
     "output_type": "display_data"
    }
   ],
   "source": [
    "plt.plot(history.history['loss'])\n",
    "plt.plot(history.history['val_loss'])\n",
    "plt.title('model loss')\n",
    "plt.ylabel('loss')\n",
    "plt.xlabel('epoch')\n",
    "plt.legend(['train', 'val'], loc='upper left')\n",
    "plt.show()"
   ]
  },
  {
   "cell_type": "code",
   "execution_count": null,
   "metadata": {},
   "outputs": [],
   "source": []
  },
  {
   "cell_type": "code",
   "execution_count": null,
   "metadata": {},
   "outputs": [],
   "source": []
  }
 ],
 "metadata": {
  "interpreter": {
   "hash": "a71c52cf81b3ce176a2dee7a24d4a513c23ffb6ff815f0de53fd7e035b7d8234"
  },
  "kernelspec": {
   "display_name": "Python 3.9.2 ('venv')",
   "language": "python",
   "name": "python3"
  },
  "language_info": {
   "codemirror_mode": {
    "name": "ipython",
    "version": 3
   },
   "file_extension": ".py",
   "mimetype": "text/x-python",
   "name": "python",
   "nbconvert_exporter": "python",
   "pygments_lexer": "ipython3",
   "version": "3.9.2"
  },
  "orig_nbformat": 4
 },
 "nbformat": 4,
 "nbformat_minor": 2
}
