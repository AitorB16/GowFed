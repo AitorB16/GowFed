{
 "cells": [
  {
   "cell_type": "code",
   "execution_count": 54,
   "metadata": {},
   "outputs": [],
   "source": [
    "import matplotlib.pyplot as plt\n",
    "import numpy as np\n",
    "import pandas as pd\n",
    "import tensorflow as tf\n",
    "\n",
    "from sklearn.metrics import accuracy_score, precision_score, recall_score, f1_score, roc_auc_score\n",
    "from sklearn.model_selection import train_test_split\n",
    "from tensorflow.keras import layers, losses\n",
    "#from tensorflow.keras.datasets import fashion_mnist\n",
    "from tensorflow.keras.models import Model\n",
    "from sklearn.preprocessing import MinMaxScaler, StandardScaler, OneHotEncoder\n",
    "from sklearn.compose import make_column_transformer\n",
    "\n",
    "import gower\n"
   ]
  },
  {
   "cell_type": "code",
   "execution_count": 55,
   "metadata": {},
   "outputs": [
    {
     "data": {
      "text/html": [
       "<div>\n",
       "<style scoped>\n",
       "    .dataframe tbody tr th:only-of-type {\n",
       "        vertical-align: middle;\n",
       "    }\n",
       "\n",
       "    .dataframe tbody tr th {\n",
       "        vertical-align: top;\n",
       "    }\n",
       "\n",
       "    .dataframe thead th {\n",
       "        text-align: right;\n",
       "    }\n",
       "</style>\n",
       "<table border=\"1\" class=\"dataframe\">\n",
       "  <thead>\n",
       "    <tr style=\"text-align: right;\">\n",
       "      <th></th>\n",
       "      <th>ts</th>\n",
       "      <th>src_ip</th>\n",
       "      <th>src_port</th>\n",
       "      <th>dst_ip</th>\n",
       "      <th>dst_port</th>\n",
       "      <th>proto</th>\n",
       "      <th>service</th>\n",
       "      <th>duration</th>\n",
       "      <th>src_bytes</th>\n",
       "      <th>dst_bytes</th>\n",
       "      <th>...</th>\n",
       "      <th>http_request_body_len</th>\n",
       "      <th>http_response_body_len</th>\n",
       "      <th>http_status_code</th>\n",
       "      <th>http_user_agent</th>\n",
       "      <th>http_orig_mime_types</th>\n",
       "      <th>http_resp_mime_types</th>\n",
       "      <th>weird_name</th>\n",
       "      <th>weird_addl</th>\n",
       "      <th>weird_notice</th>\n",
       "      <th>label</th>\n",
       "    </tr>\n",
       "  </thead>\n",
       "  <tbody>\n",
       "    <tr>\n",
       "      <th>0</th>\n",
       "      <td>1554198358</td>\n",
       "      <td>3.122.49.24</td>\n",
       "      <td>1883</td>\n",
       "      <td>192.168.1.152</td>\n",
       "      <td>52976</td>\n",
       "      <td>tcp</td>\n",
       "      <td>-</td>\n",
       "      <td>80549.530260</td>\n",
       "      <td>1762852</td>\n",
       "      <td>41933215</td>\n",
       "      <td>...</td>\n",
       "      <td>0</td>\n",
       "      <td>0</td>\n",
       "      <td>0</td>\n",
       "      <td>-</td>\n",
       "      <td>-</td>\n",
       "      <td>-</td>\n",
       "      <td>bad_TCP_checksum</td>\n",
       "      <td>-</td>\n",
       "      <td>F</td>\n",
       "      <td>0</td>\n",
       "    </tr>\n",
       "    <tr>\n",
       "      <th>1</th>\n",
       "      <td>1554198358</td>\n",
       "      <td>192.168.1.79</td>\n",
       "      <td>47260</td>\n",
       "      <td>192.168.1.255</td>\n",
       "      <td>15600</td>\n",
       "      <td>udp</td>\n",
       "      <td>-</td>\n",
       "      <td>0.000000</td>\n",
       "      <td>0</td>\n",
       "      <td>0</td>\n",
       "      <td>...</td>\n",
       "      <td>0</td>\n",
       "      <td>0</td>\n",
       "      <td>0</td>\n",
       "      <td>-</td>\n",
       "      <td>-</td>\n",
       "      <td>-</td>\n",
       "      <td>-</td>\n",
       "      <td>-</td>\n",
       "      <td>-</td>\n",
       "      <td>0</td>\n",
       "    </tr>\n",
       "    <tr>\n",
       "      <th>2</th>\n",
       "      <td>1554198359</td>\n",
       "      <td>192.168.1.152</td>\n",
       "      <td>1880</td>\n",
       "      <td>192.168.1.152</td>\n",
       "      <td>51782</td>\n",
       "      <td>tcp</td>\n",
       "      <td>-</td>\n",
       "      <td>0.000000</td>\n",
       "      <td>0</td>\n",
       "      <td>0</td>\n",
       "      <td>...</td>\n",
       "      <td>0</td>\n",
       "      <td>0</td>\n",
       "      <td>0</td>\n",
       "      <td>-</td>\n",
       "      <td>-</td>\n",
       "      <td>-</td>\n",
       "      <td>bad_TCP_checksum</td>\n",
       "      <td>-</td>\n",
       "      <td>F</td>\n",
       "      <td>0</td>\n",
       "    </tr>\n",
       "    <tr>\n",
       "      <th>3</th>\n",
       "      <td>1554198359</td>\n",
       "      <td>192.168.1.152</td>\n",
       "      <td>34296</td>\n",
       "      <td>192.168.1.152</td>\n",
       "      <td>10502</td>\n",
       "      <td>tcp</td>\n",
       "      <td>-</td>\n",
       "      <td>0.000000</td>\n",
       "      <td>0</td>\n",
       "      <td>0</td>\n",
       "      <td>...</td>\n",
       "      <td>0</td>\n",
       "      <td>0</td>\n",
       "      <td>0</td>\n",
       "      <td>-</td>\n",
       "      <td>-</td>\n",
       "      <td>-</td>\n",
       "      <td>-</td>\n",
       "      <td>-</td>\n",
       "      <td>-</td>\n",
       "      <td>0</td>\n",
       "    </tr>\n",
       "    <tr>\n",
       "      <th>4</th>\n",
       "      <td>1554198362</td>\n",
       "      <td>192.168.1.152</td>\n",
       "      <td>46608</td>\n",
       "      <td>192.168.1.190</td>\n",
       "      <td>53</td>\n",
       "      <td>udp</td>\n",
       "      <td>dns</td>\n",
       "      <td>0.000549</td>\n",
       "      <td>0</td>\n",
       "      <td>298</td>\n",
       "      <td>...</td>\n",
       "      <td>0</td>\n",
       "      <td>0</td>\n",
       "      <td>0</td>\n",
       "      <td>-</td>\n",
       "      <td>-</td>\n",
       "      <td>-</td>\n",
       "      <td>bad_UDP_checksum</td>\n",
       "      <td>-</td>\n",
       "      <td>F</td>\n",
       "      <td>0</td>\n",
       "    </tr>\n",
       "  </tbody>\n",
       "</table>\n",
       "<p>5 rows × 44 columns</p>\n",
       "</div>"
      ],
      "text/plain": [
       "           ts         src_ip  src_port         dst_ip  dst_port proto service  \\\n",
       "0  1554198358    3.122.49.24      1883  192.168.1.152     52976   tcp       -   \n",
       "1  1554198358   192.168.1.79     47260  192.168.1.255     15600   udp       -   \n",
       "2  1554198359  192.168.1.152      1880  192.168.1.152     51782   tcp       -   \n",
       "3  1554198359  192.168.1.152     34296  192.168.1.152     10502   tcp       -   \n",
       "4  1554198362  192.168.1.152     46608  192.168.1.190        53   udp     dns   \n",
       "\n",
       "       duration  src_bytes  dst_bytes  ... http_request_body_len  \\\n",
       "0  80549.530260    1762852   41933215  ...                     0   \n",
       "1      0.000000          0          0  ...                     0   \n",
       "2      0.000000          0          0  ...                     0   \n",
       "3      0.000000          0          0  ...                     0   \n",
       "4      0.000549          0        298  ...                     0   \n",
       "\n",
       "   http_response_body_len  http_status_code  http_user_agent  \\\n",
       "0                       0                 0                -   \n",
       "1                       0                 0                -   \n",
       "2                       0                 0                -   \n",
       "3                       0                 0                -   \n",
       "4                       0                 0                -   \n",
       "\n",
       "   http_orig_mime_types  http_resp_mime_types        weird_name  weird_addl  \\\n",
       "0                     -                     -  bad_TCP_checksum           -   \n",
       "1                     -                     -                 -           -   \n",
       "2                     -                     -  bad_TCP_checksum           -   \n",
       "3                     -                     -                 -           -   \n",
       "4                     -                     -  bad_UDP_checksum           -   \n",
       "\n",
       "   weird_notice  label  \n",
       "0             F      0  \n",
       "1             -      0  \n",
       "2             F      0  \n",
       "3             -      0  \n",
       "4             F      0  \n",
       "\n",
       "[5 rows x 44 columns]"
      ]
     },
     "execution_count": 55,
     "metadata": {},
     "output_type": "execute_result"
    }
   ],
   "source": [
    "df = pd.read_csv(\"../datasets/TON_IoT-Datasets/Train_Test_datasets/Train_Test_Network_dataset/Train_Test_Network.csv\")\n",
    "df.pop('type')\n",
    "df.head()\n",
    "\n",
    "#reduced_df = df[[\"src_port\", \"proto\", \"service\", \"dst_port\", \"duration\", \"label\"]]\n",
    "\n",
    "    #'proto', 'service', 'conn_state', 'dns_query', 'ssl_version',\n",
    "    # 'ssl_cipher', 'ssl_subject', 'ssl_issuer', 'http_method', 'http_uri',\n",
    "    # 'http_version', 'http_orig_mime_types', 'http_resp_mime_types',\n",
    "    # 'weird_name', 'weird_addl']]\n",
    "#df = reduced_df"
   ]
  },
  {
   "cell_type": "code",
   "execution_count": 56,
   "metadata": {},
   "outputs": [],
   "source": [
    "\n",
    "# transformer = make_column_transformer(\n",
    "#     (OneHotEncoder(), ['proto', 'service']),\n",
    "#     # 'ssl_cipher', 'ssl_subject', 'ssl_issuer', 'http_method', 'http_uri',\n",
    "#     # 'http_version', 'http_orig_mime_types', 'http_resp_mime_types',\n",
    "#     # 'weird_name', 'weird_addl']),\n",
    "#     remainder='passthrough')\n",
    "# \n",
    "# transformed = transformer.fit_transform(df)\n",
    "# transformed_df = pd.DataFrame(\n",
    "#     transformed, \n",
    "#     columns=transformer.get_feature_names_out()\n",
    "# )"
   ]
  },
  {
   "cell_type": "code",
   "execution_count": 57,
   "metadata": {},
   "outputs": [],
   "source": [
    "# df = transformed_df\n",
    "# transformed_df.shape"
   ]
  },
  {
   "cell_type": "code",
   "execution_count": 58,
   "metadata": {},
   "outputs": [
    {
     "name": "stdout",
     "output_type": "stream",
     "text": [
      "0.34930147513355586\n"
     ]
    }
   ],
   "source": [
    "# Percentage malware\n",
    "perc = len(df.loc[df['label']==1])/len(df)\n",
    "print(perc)"
   ]
  },
  {
   "cell_type": "code",
   "execution_count": 59,
   "metadata": {},
   "outputs": [],
   "source": [
    "# Balance dataset\n",
    "num_anom = len(df.loc[df['label']==1.])\n",
    "df_anom = df.loc[df['label']==1.]\n",
    "df_normal = df.loc[df['label']==0.]\n",
    "df_normal = df_normal.sample(num_anom, replace=False)\n",
    "df_concated = pd.concat([df_normal, df_anom])\n",
    "balanced_data = df_concated"
   ]
  },
  {
   "cell_type": "code",
   "execution_count": 60,
   "metadata": {},
   "outputs": [],
   "source": [
    "data = balanced_data.sample(4500, random_state=21)\n",
    "\n",
    "#train_data = data.sample(3000, random_state=21)\n",
    "#test_data = data.sample(1500, random_state=18)\n",
    "\n",
    "#train_data = data[0:3000]\n",
    "#test_data = data[3000:6000]\n",
    "\n",
    "labels = data.pop('label')\n",
    "train_labels = np.array(labels[0:1000])\n",
    "test_labels = np.array(labels[1000:4500])"
   ]
  },
  {
   "cell_type": "code",
   "execution_count": 61,
   "metadata": {},
   "outputs": [],
   "source": [
    "gower_mat = gower.gower_matrix(data)\n",
    "train_gower_mat = gower_mat[0:1000,0:1000]\n",
    "test_gower_mat = gower_mat[1000:4500,0:3000]"
   ]
  },
  {
   "cell_type": "code",
   "execution_count": 62,
   "metadata": {},
   "outputs": [
    {
     "name": "stdout",
     "output_type": "stream",
     "text": [
      "(1000, 1000)\n"
     ]
    }
   ],
   "source": [
    "print(train_gower_mat.shape)"
   ]
  },
  {
   "cell_type": "code",
   "execution_count": 63,
   "metadata": {},
   "outputs": [
    {
     "name": "stdout",
     "output_type": "stream",
     "text": [
      "(3500, 3000)\n"
     ]
    }
   ],
   "source": [
    "print(test_gower_mat.shape)"
   ]
  },
  {
   "cell_type": "code",
   "execution_count": 10,
   "metadata": {},
   "outputs": [],
   "source": [
    "# Unbalanced dataset\n",
    "\n",
    "# unbalanced_data = df.copy()\n",
    "# data = unbalanced_data.sample(6000, random_state=21)\n",
    "# train_data = data[0:3000]\n",
    "# test_data = data[3000:6000]\n",
    "# train_data.pop('type')\n",
    "# test_data.pop('type')\n",
    "# train_labels = train_data.pop('label')\n",
    "# test_labels = test_data.pop('label')\n",
    "# \n",
    "# train_gower_mat = gower.gower_dist.gower_matrix(train_data)\n",
    "# test_gower_mat = gower.gower_dist.gower_matrix(test_data)"
   ]
  },
  {
   "cell_type": "code",
   "execution_count": 11,
   "metadata": {},
   "outputs": [],
   "source": [
    "# data_scaled = data.copy()\n",
    "# min_max_scaler = MinMaxScaler()\n",
    "# #data_scaled[[\"src_port\", \"dst_port\", \"src_bytes\", \"dst_bytes\", \"missed_bytes\"]] = min_max_scaler.fit_transform(data_scaled[[\"src_port\", \"dst_port\", \"src_bytes\", \"dst_bytes\", \"missed_bytes\"]])\n",
    "# data_scaled[data_scaled.columns] = min_max_scaler.fit_transform(data_scaled[data_scaled.columns])\n",
    "# print(data_scaled.shape)"
   ]
  },
  {
   "cell_type": "code",
   "execution_count": 12,
   "metadata": {},
   "outputs": [],
   "source": [
    "# train_data, test_data, train_labels, test_labels = train_test_split(train_gower_mat, unbalanced_labels, test_size=0.33, random_state=21)"
   ]
  },
  {
   "cell_type": "code",
   "execution_count": 13,
   "metadata": {},
   "outputs": [],
   "source": [
    "# Separe normal and anomaly classes\n",
    "\n",
    "#train_labels = train_labels.astype(bool)\n",
    "#test_labels = test_labels.astype(bool)\n",
    "\n",
    "# normal_train_data = train_data[~train_labels]\n",
    "# normal_test_data = test_data[~test_labels]\n",
    "# \n",
    "# anomalous_train_data = train_data[train_labels]\n",
    "# anomalous_test_data = test_data[test_labels]"
   ]
  },
  {
   "cell_type": "code",
   "execution_count": 16,
   "metadata": {},
   "outputs": [],
   "source": [
    "# print(normal_train_data[0])"
   ]
  },
  {
   "cell_type": "code",
   "execution_count": 17,
   "metadata": {},
   "outputs": [],
   "source": [
    "# plt.plot(normal_train_data[0])\n",
    "# #plt.plot(normal_train_data[1])\n",
    "# #plt.plot(normal_train_data[2])\n",
    "# plt.title(\"Normal Data\")\n",
    "# plt.show()"
   ]
  },
  {
   "cell_type": "code",
   "execution_count": 18,
   "metadata": {},
   "outputs": [],
   "source": [
    "# plt.plot(anomalous_train_data[0])\n",
    "# #plt.plot(anomalous_train_data[1])\n",
    "# #plt.plot(anomalous_train_data[2])\n",
    "# plt.title(\"Anomaly Data\")\n",
    "# plt.show()"
   ]
  },
  {
   "cell_type": "code",
   "execution_count": 19,
   "metadata": {},
   "outputs": [],
   "source": [
    "# train_data = np.array(train_data)\n",
    "# normal_train_data = np.array(normal_train_data)\n",
    "# normal_test_data = np.array(normal_test_data)\n",
    "# anomalous_train_data = np.array(anomalous_train_data)\n",
    "# anomalous_test_data = np.array(anomalous_test_data)"
   ]
  },
  {
   "cell_type": "code",
   "execution_count": 20,
   "metadata": {},
   "outputs": [],
   "source": [
    "# class AutoEncoder(Model):\n",
    "#   def __init__(self):\n",
    "#     super(AutoEncoder, self).__init__()\n",
    "#     self.encoder = tf.keras.Sequential([\n",
    "#                   tf.keras.layers.Dense(64, activation=\"relu\"),\n",
    "#                   tf.keras.layers.Dense(32, activation=\"relu\"),\n",
    "#                   tf.keras.layers.Dense(16, activation=\"relu\"),\n",
    "#                   tf.keras.layers.Dense(8, activation=\"relu\")\n",
    "#               ])\n",
    "#     self.decoder = tf.keras.Sequential([\n",
    "#                   tf.keras.layers.Dense(16, activation=\"relu\"),\n",
    "#                   tf.keras.layers.Dense(32, activation=\"relu\"),\n",
    "#                   tf.keras.layers.Dense(64, activation=\"relu\"),\n",
    "#                   tf.keras.layers.Dense(16, activation=\"sigmoid\")\n",
    "#               ])\n",
    "#   def call(self, x):\n",
    "#     encoded = self.encoder(x)\n",
    "#     decoded = self.decoder(encoded)\n",
    "#     return decoded"
   ]
  },
  {
   "cell_type": "code",
   "execution_count": 44,
   "metadata": {},
   "outputs": [],
   "source": [
    "def create_keras_model():\n",
    "  return tf.keras.models.Sequential([\n",
    "      tf.keras.layers.Input(shape=(3000,)),\n",
    "      tf.keras.layers.Dense(1024, activation=\"relu\"),\n",
    "      tf.keras.layers.Dense(512, activation=\"relu\"),\n",
    "      tf.keras.layers.Dense(256, activation=\"relu\"),\n",
    "      #tf.keras.layers.Dense(256, activation=\"relu\"),\n",
    "      #tf.keras.layers.Dense(256, activation=\"relu\"),\n",
    "      #tf.keras.layers.Dense(256, activation=\"relu\"),\n",
    "      #tf.keras.layers.Dense(256, activation=\"relu\"),\n",
    "      #tf.keras.layers.Dense(256, activation=\"relu\"),\n",
    "      tf.keras.layers.Dense(128, activation=\"relu\"),\n",
    "      tf.keras.layers.Dense(2),\n",
    "      #tf.keras.layers.Dense(2, activation=\"relu\"),\n",
    "      #tf.keras.layers.Dense(32, activation=\"relu\"),\n",
    "      #tf.keras.layers.Dense(4, activation=\"relu\"),\n",
    "      #tf.keras.layers.Dense(1, activation=\"sigmoid\"),\n",
    "      tf.keras.layers.Softmax()\n",
    "  ])"
   ]
  },
  {
   "cell_type": "code",
   "execution_count": 45,
   "metadata": {},
   "outputs": [],
   "source": [
    "train_data = train_gower_mat"
   ]
  },
  {
   "cell_type": "code",
   "execution_count": 46,
   "metadata": {},
   "outputs": [],
   "source": [
    "model = create_keras_model()\n",
    "early_stopping = tf.keras.callbacks.EarlyStopping(monitor=\"val_loss\", patience=2, mode=\"min\")\n",
    "opt = tf.keras.optimizers.Adam(learning_rate=0.00005)\n",
    "metrics = [tf.keras.metrics.SparseCategoricalAccuracy()]\n",
    "loss = [tf.keras.losses.SparseCategoricalCrossentropy()]\n",
    "model.compile(optimizer=opt, loss=loss, metrics = metrics)"
   ]
  },
  {
   "cell_type": "code",
   "execution_count": 47,
   "metadata": {},
   "outputs": [
    {
     "name": "stdout",
     "output_type": "stream",
     "text": [
      "Epoch 1/300\n",
      "188/188 [==============================] - 3s 14ms/step - loss: 0.3838 - sparse_categorical_accuracy: 0.8683 - val_loss: 0.2288 - val_sparse_categorical_accuracy: 0.8947\n",
      "Epoch 2/300\n",
      "188/188 [==============================] - 2s 13ms/step - loss: 0.2281 - sparse_categorical_accuracy: 0.9153 - val_loss: 0.1746 - val_sparse_categorical_accuracy: 0.9537\n",
      "Epoch 3/300\n",
      "188/188 [==============================] - 2s 13ms/step - loss: 0.1748 - sparse_categorical_accuracy: 0.9383 - val_loss: 0.1687 - val_sparse_categorical_accuracy: 0.9543\n",
      "Epoch 4/300\n",
      "188/188 [==============================] - 2s 12ms/step - loss: 0.1541 - sparse_categorical_accuracy: 0.9443 - val_loss: 0.1279 - val_sparse_categorical_accuracy: 0.9557\n",
      "Epoch 5/300\n",
      "188/188 [==============================] - 2s 13ms/step - loss: 0.1245 - sparse_categorical_accuracy: 0.9503 - val_loss: 0.1243 - val_sparse_categorical_accuracy: 0.9553\n",
      "Epoch 6/300\n",
      "188/188 [==============================] - 2s 13ms/step - loss: 0.1097 - sparse_categorical_accuracy: 0.9583 - val_loss: 0.0958 - val_sparse_categorical_accuracy: 0.9640\n",
      "Epoch 7/300\n",
      "188/188 [==============================] - 2s 13ms/step - loss: 0.0959 - sparse_categorical_accuracy: 0.9620 - val_loss: 0.1495 - val_sparse_categorical_accuracy: 0.9513\n",
      "Epoch 8/300\n",
      "188/188 [==============================] - 2s 13ms/step - loss: 0.0949 - sparse_categorical_accuracy: 0.9633 - val_loss: 0.0581 - val_sparse_categorical_accuracy: 0.9757\n",
      "Epoch 9/300\n",
      "188/188 [==============================] - 3s 13ms/step - loss: 0.0619 - sparse_categorical_accuracy: 0.9763 - val_loss: 0.0584 - val_sparse_categorical_accuracy: 0.9670\n",
      "Epoch 10/300\n",
      "188/188 [==============================] - 2s 13ms/step - loss: 0.0654 - sparse_categorical_accuracy: 0.9770 - val_loss: 0.0353 - val_sparse_categorical_accuracy: 0.9890\n",
      "Epoch 11/300\n",
      "188/188 [==============================] - 2s 13ms/step - loss: 0.0464 - sparse_categorical_accuracy: 0.9867 - val_loss: 0.0455 - val_sparse_categorical_accuracy: 0.9930\n",
      "Epoch 12/300\n",
      "188/188 [==============================] - 3s 13ms/step - loss: 0.0439 - sparse_categorical_accuracy: 0.9843 - val_loss: 0.0460 - val_sparse_categorical_accuracy: 0.9910\n"
     ]
    }
   ],
   "source": [
    "history = model.fit(train_data, train_labels, epochs=300, batch_size=16,\n",
    "                    validation_data=(train_data, train_labels),\n",
    "                    shuffle=True,\n",
    "                    callbacks=[early_stopping]\n",
    "                    )"
   ]
  },
  {
   "cell_type": "code",
   "execution_count": 48,
   "metadata": {},
   "outputs": [
    {
     "data": {
      "text/plain": [
       "<matplotlib.legend.Legend at 0x7f65e2e83580>"
      ]
     },
     "execution_count": 48,
     "metadata": {},
     "output_type": "execute_result"
    },
    {
     "data": {
      "image/png": "[encoded data removed]",
      "text/plain": [
       "<Figure size 432x288 with 1 Axes>"
      ]
     },
     "metadata": {
      "needs_background": "light"
     },
     "output_type": "display_data"
    }
   ],
   "source": [
    "plt.plot(history.history[\"loss\"], label=\"Training Loss\")\n",
    "plt.plot(history.history[\"val_loss\"], label=\"Validation Loss\")\n",
    "plt.yscale('log')\n",
    "plt.legend()"
   ]
  },
  {
   "cell_type": "code",
   "execution_count": 49,
   "metadata": {},
   "outputs": [
    {
     "name": "stdout",
     "output_type": "stream",
     "text": [
      "47/47 [==============================] - 0s 3ms/step - loss: 0.0473 - sparse_categorical_accuracy: 0.9913\n",
      "test loss, test acc: [0.047336775809526443, 0.9913333058357239]\n"
     ]
    }
   ],
   "source": [
    "results = model.evaluate(test_gower_mat, test_labels)\n",
    "print(\"test loss, test acc:\", results)"
   ]
  },
  {
   "cell_type": "code",
   "execution_count": 50,
   "metadata": {},
   "outputs": [],
   "source": [
    "def print_stats(predictions, labels):\n",
    "  print(\"Accuracy = {}\".format(accuracy_score(labels, predictions)))\n",
    "  print(\"Precision = {}\".format(precision_score(labels, predictions)))\n",
    "  print(\"Recall = {}\".format(recall_score(labels, predictions))) #sensitivity\n",
    "  print(\"F1 = {}\".format(f1_score(labels, predictions)))\n",
    "  print(\"ROC_AUC = {}\".format(roc_auc_score(labels, predictions)))"
   ]
  },
  {
   "cell_type": "code",
   "execution_count": 51,
   "metadata": {},
   "outputs": [
    {
     "data": {
      "text/plain": [
       "3000"
      ]
     },
     "execution_count": 51,
     "metadata": {},
     "output_type": "execute_result"
    }
   ],
   "source": [
    "len(test_gower_mat[0])"
   ]
  },
  {
   "cell_type": "code",
   "execution_count": 52,
   "metadata": {},
   "outputs": [],
   "source": [
    "# Results dont make sense give more weight to anomaly class in the learning process\n",
    "preds = model.predict(test_gower_mat)\n",
    "#y_classes = preds.argmax(axis=-1)\n",
    "#print_stats(preds, test_labels)"
   ]
  },
  {
   "cell_type": "code",
   "execution_count": 53,
   "metadata": {},
   "outputs": [
    {
     "name": "stdout",
     "output_type": "stream",
     "text": [
      "Accuracy = 0.9913333333333333\n",
      "Precision = 1.0\n",
      "Recall = 0.9828042328042328\n",
      "F1 = 0.9913275517011341\n",
      "ROC_AUC = 0.9914021164021164\n"
     ]
    }
   ],
   "source": [
    "print_stats(np.round(preds[:,1], decimals=0), test_labels.astype(int))"
   ]
  },
  {
   "cell_type": "code",
   "execution_count": null,
   "metadata": {},
   "outputs": [],
   "source": []
  }
 ],
 "metadata": {
  "interpreter": {
   "hash": "a71c52cf81b3ce176a2dee7a24d4a513c23ffb6ff815f0de53fd7e035b7d8234"
  },
  "kernelspec": {
   "display_name": "Python 3.9.2 ('venv')",
   "language": "python",
   "name": "python3"
  },
  "language_info": {
   "codemirror_mode": {
    "name": "ipython",
    "version": 3
   },
   "file_extension": ".py",
   "mimetype": "text/x-python",
   "name": "python",
   "nbconvert_exporter": "python",
   "pygments_lexer": "ipython3",
   "version": "3.9.2"
  },
  "orig_nbformat": 4
 },
 "nbformat": 4,
 "nbformat_minor": 2
}
