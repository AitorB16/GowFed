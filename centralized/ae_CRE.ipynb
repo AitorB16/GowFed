{
 "cells": [
  {
   "cell_type": "code",
   "execution_count": 1,
   "metadata": {},
   "outputs": [
    {
     "name": "stderr",
     "output_type": "stream",
     "text": [
      "2022-05-27 04:59:03.715736: W tensorflow/stream_executor/platform/default/dso_loader.cc:64] Could not load dynamic library 'libcudart.so.11.0'; dlerror: libcudart.so.11.0: cannot open shared object file: No such file or directory\n",
      "2022-05-27 04:59:03.715764: I tensorflow/stream_executor/cuda/cudart_stub.cc:29] Ignore above cudart dlerror if you do not have a GPU set up on your machine.\n"
     ]
    }
   ],
   "source": [
    "import matplotlib.pyplot as plt\n",
    "import numpy as np\n",
    "import pandas as pd\n",
    "import tensorflow as tf\n",
    "\n",
    "from sklearn.metrics import accuracy_score, precision_score, recall_score, f1_score, roc_auc_score\n",
    "from sklearn.model_selection import train_test_split\n",
    "from tensorflow.keras import layers, losses\n",
    "#from tensorflow.keras.datasets import fashion_mnist\n",
    "from tensorflow.keras.models import Model\n"
   ]
  },
  {
   "cell_type": "code",
   "execution_count": 2,
   "metadata": {},
   "outputs": [],
   "source": [
    "dataframe1 = pd.read_csv(\"../datasets/TON_IoT-Datasets/Train_Test_datasets/Train_Test_IoT_dataset/Train_Test_IoT_Modbus.csv\")\n",
    "#dataframe2 = pd.read_csv(\"./datasets/TON_IoT-Datasets/Train_Test_datasets/Train_Test_IoT_dataset/Train_Test_IoT_Weather.csv\")\n",
    "raw_data1 = dataframe1.values\n",
    "#raw_data2 = dataframe2.values"
   ]
  },
  {
   "cell_type": "code",
   "execution_count": 3,
   "metadata": {},
   "outputs": [],
   "source": [
    "data = raw_data1[:, 3:6]\n",
    "labels = raw_data1[:, -2]\n",
    "\n",
    "#data = raw_data2[:, 3:5]\n",
    "#labels = raw_data2[:, -2]\n",
    "\n",
    "train_data, test_data, train_labels, test_labels = train_test_split(data, labels, test_size=0.33, random_state=21)"
   ]
  },
  {
   "cell_type": "code",
   "execution_count": 4,
   "metadata": {},
   "outputs": [],
   "source": [
    "# len(labels[labels>0]) #16106\n",
    "# len(labels[labels==0]) #35000\n"
   ]
  },
  {
   "cell_type": "markdown",
   "metadata": {},
   "source": [
    "Normalize:"
   ]
  },
  {
   "cell_type": "code",
   "execution_count": 5,
   "metadata": {},
   "outputs": [
    {
     "name": "stderr",
     "output_type": "stream",
     "text": [
      "2022-05-27 04:59:05.147672: W tensorflow/stream_executor/platform/default/dso_loader.cc:64] Could not load dynamic library 'libcuda.so.1'; dlerror: libcuda.so.1: cannot open shared object file: No such file or directory\n",
      "2022-05-27 04:59:05.147704: W tensorflow/stream_executor/cuda/cuda_driver.cc:269] failed call to cuInit: UNKNOWN ERROR (303)\n",
      "2022-05-27 04:59:05.147719: I tensorflow/stream_executor/cuda/cuda_diagnostics.cc:156] kernel driver does not appear to be running on this host (debian): /proc/driver/nvidia/version does not exist\n",
      "2022-05-27 04:59:05.147952: I tensorflow/core/platform/cpu_feature_guard.cc:151] This TensorFlow binary is optimized with oneAPI Deep Neural Network Library (oneDNN) to use the following CPU instructions in performance-critical operations:  AVX2 FMA\n",
      "To enable them in other operations, rebuild TensorFlow with the appropriate compiler flags.\n"
     ]
    }
   ],
   "source": [
    "train_data = train_data.astype('float32')\n",
    "test_data = test_data.astype('float32')\n",
    "\n",
    "min_val = tf.reduce_min(train_data)\n",
    "max_val = tf.reduce_max(train_data)\n",
    "\n",
    "train_data = (train_data - min_val) / (max_val - min_val)\n",
    "test_data = (test_data - min_val) / (max_val - min_val)\n",
    "\n",
    "train_data = tf.cast(train_data, tf.float32)\n",
    "test_data = tf.cast(test_data, tf.float32)\n"
   ]
  },
  {
   "cell_type": "markdown",
   "metadata": {},
   "source": [
    "Separate normal and abnormal classes"
   ]
  },
  {
   "cell_type": "code",
   "execution_count": 6,
   "metadata": {},
   "outputs": [],
   "source": [
    "train_labels = train_labels.astype(bool)\n",
    "test_labels = test_labels.astype(bool)\n",
    "\n",
    "#normal_train_data = train_data[~train_labels]\n",
    "#normal_test_data = test_data[~test_labels]\n",
    "\n",
    "#anomalous_train_data = train_data[train_labels]\n",
    "#anomalous_test_data = test_data[test_labels]\n"
   ]
  },
  {
   "cell_type": "markdown",
   "metadata": {},
   "source": [
    "Build the model - OVERCOMPLETE AE"
   ]
  },
  {
   "cell_type": "code",
   "execution_count": 7,
   "metadata": {},
   "outputs": [],
   "source": [
    "class AnomalyDetector(Model):\n",
    "  def __init__(self):\n",
    "    super(AnomalyDetector, self).__init__()\n",
    "    self.encoder = tf.keras.Sequential([\n",
    "      layers.Dense(64, activation=\"relu\"),\n",
    "      layers.Dense(32, activation=\"relu\"),\n",
    "      layers.Dense(16, activation=\"relu\"),\n",
    "      layers.Dense(8, activation=\"relu\")])\n",
    "\n",
    "    self.decoder = tf.keras.Sequential([\n",
    "      layers.Dense(16, activation=\"relu\"),\n",
    "      layers.Dense(32, activation=\"relu\"),\n",
    "      layers.Dense(64, activation=\"relu\"),\n",
    "      layers.Softmax()])\n",
    "      #layers.Dense(3, activation=\"sigmoid\")])\n",
    "\n",
    "  def call(self, x):\n",
    "    encoded = self.encoder(x)\n",
    "    decoded = self.decoder(encoded)\n",
    "    return decoded\n",
    "\n",
    "autoencoder = AnomalyDetector()\n"
   ]
  },
  {
   "cell_type": "markdown",
   "metadata": {},
   "source": [
    "Dont use mean squared error in classification; cross entropy yes. However, training the AE with just normal data is not a classification task"
   ]
  },
  {
   "cell_type": "code",
   "execution_count": 8,
   "metadata": {},
   "outputs": [],
   "source": [
    "autoencoder.compile(optimizer='adam', loss='SparseCategoricalCrossentropy', metrics=[tf.keras.metrics.BinaryAccuracy()])"
   ]
  },
  {
   "cell_type": "markdown",
   "metadata": {},
   "source": [
    "### Regular training with all training instances"
   ]
  },
  {
   "cell_type": "code",
   "execution_count": 9,
   "metadata": {},
   "outputs": [
    {
     "name": "stdout",
     "output_type": "stream",
     "text": [
      "Epoch 1/50\n",
      "4281/4281 [==============================] - 5s 1ms/step - loss: 0.6731 - binary_accuracy: 0.6801\n",
      "Epoch 2/50\n",
      "4281/4281 [==============================] - 5s 1ms/step - loss: 0.6299 - binary_accuracy: 0.6800\n",
      "Epoch 3/50\n",
      "4281/4281 [==============================] - 5s 1ms/step - loss: 0.6286 - binary_accuracy: 0.6800\n",
      "Epoch 4/50\n",
      "4281/4281 [==============================] - 5s 1ms/step - loss: 0.6278 - binary_accuracy: 0.6800\n",
      "Epoch 5/50\n",
      "4281/4281 [==============================] - 5s 1ms/step - loss: 0.6278 - binary_accuracy: 0.6800\n",
      "Epoch 6/50\n",
      "4281/4281 [==============================] - 5s 1ms/step - loss: 0.6272 - binary_accuracy: 0.6800\n",
      "Epoch 7/50\n",
      "4281/4281 [==============================] - 5s 1ms/step - loss: 0.6264 - binary_accuracy: 0.6800\n",
      "Epoch 8/50\n",
      "4281/4281 [==============================] - 5s 1ms/step - loss: 0.6270 - binary_accuracy: 0.6800\n",
      "Epoch 9/50\n",
      "4281/4281 [==============================] - 5s 1ms/step - loss: 0.6267 - binary_accuracy: 0.6800\n",
      "Epoch 10/50\n",
      "4281/4281 [==============================] - 5s 1ms/step - loss: 0.6264 - binary_accuracy: 0.6800\n",
      "Epoch 11/50\n",
      "4281/4281 [==============================] - 5s 1ms/step - loss: 0.6261 - binary_accuracy: 0.6800\n",
      "Epoch 12/50\n",
      "4281/4281 [==============================] - 5s 1ms/step - loss: 0.6259 - binary_accuracy: 0.6800\n",
      "Epoch 13/50\n",
      "4281/4281 [==============================] - 5s 1ms/step - loss: 0.6262 - binary_accuracy: 0.6800\n",
      "Epoch 14/50\n",
      "4281/4281 [==============================] - 5s 1ms/step - loss: 0.6258 - binary_accuracy: 0.6800\n",
      "Epoch 15/50\n",
      "4281/4281 [==============================] - 5s 1ms/step - loss: 0.6255 - binary_accuracy: 0.6800\n",
      "Epoch 16/50\n",
      "4281/4281 [==============================] - 5s 1ms/step - loss: 0.6254 - binary_accuracy: 0.6800\n",
      "Epoch 17/50\n",
      "4281/4281 [==============================] - 5s 1ms/step - loss: 0.6257 - binary_accuracy: 0.6800\n",
      "Epoch 18/50\n",
      "4281/4281 [==============================] - 5s 1ms/step - loss: 0.6251 - binary_accuracy: 0.6800\n",
      "Epoch 19/50\n",
      "4281/4281 [==============================] - 5s 1ms/step - loss: 0.6260 - binary_accuracy: 0.6800\n",
      "Epoch 20/50\n",
      "4281/4281 [==============================] - 5s 1ms/step - loss: 0.6257 - binary_accuracy: 0.6800\n",
      "Epoch 21/50\n",
      "4281/4281 [==============================] - 5s 1ms/step - loss: 0.6252 - binary_accuracy: 0.6800\n",
      "Epoch 22/50\n",
      "4281/4281 [==============================] - 5s 1ms/step - loss: 0.6253 - binary_accuracy: 0.6800\n",
      "Epoch 23/50\n",
      "4281/4281 [==============================] - 5s 1ms/step - loss: 0.6254 - binary_accuracy: 0.6800\n",
      "Epoch 24/50\n",
      "4281/4281 [==============================] - 5s 1ms/step - loss: 0.6254 - binary_accuracy: 0.6800\n",
      "Epoch 25/50\n",
      "4281/4281 [==============================] - 5s 1ms/step - loss: 0.6250 - binary_accuracy: 0.6800\n",
      "Epoch 26/50\n",
      "4281/4281 [==============================] - 5s 1ms/step - loss: 0.6250 - binary_accuracy: 0.6800\n",
      "Epoch 27/50\n",
      "4281/4281 [==============================] - 5s 1ms/step - loss: 0.6252 - binary_accuracy: 0.6800\n",
      "Epoch 28/50\n",
      "4281/4281 [==============================] - 5s 1ms/step - loss: 0.6251 - binary_accuracy: 0.6800\n",
      "Epoch 29/50\n",
      "4281/4281 [==============================] - 5s 1ms/step - loss: 0.6250 - binary_accuracy: 0.6800\n",
      "Epoch 30/50\n",
      "4281/4281 [==============================] - 5s 1ms/step - loss: 0.6253 - binary_accuracy: 0.6800\n",
      "Epoch 31/50\n",
      "4281/4281 [==============================] - 5s 1ms/step - loss: 0.6250 - binary_accuracy: 0.6800\n",
      "Epoch 32/50\n",
      "4281/4281 [==============================] - 5s 1ms/step - loss: 0.6250 - binary_accuracy: 0.6800\n",
      "Epoch 33/50\n",
      "4281/4281 [==============================] - 5s 1ms/step - loss: 0.6248 - binary_accuracy: 0.6800\n",
      "Epoch 34/50\n",
      "4281/4281 [==============================] - 5s 1ms/step - loss: 0.6247 - binary_accuracy: 0.6800\n",
      "Epoch 35/50\n",
      "4281/4281 [==============================] - 5s 1ms/step - loss: 0.6247 - binary_accuracy: 0.6800\n",
      "Epoch 36/50\n",
      "4281/4281 [==============================] - 5s 1ms/step - loss: 0.6246 - binary_accuracy: 0.6800\n",
      "Epoch 37/50\n",
      "4281/4281 [==============================] - 5s 1ms/step - loss: 0.6249 - binary_accuracy: 0.6800\n",
      "Epoch 38/50\n",
      "4281/4281 [==============================] - 5s 1ms/step - loss: 0.6247 - binary_accuracy: 0.6800\n",
      "Epoch 39/50\n",
      "4281/4281 [==============================] - 5s 1ms/step - loss: 0.6245 - binary_accuracy: 0.6800\n",
      "Epoch 40/50\n",
      "4281/4281 [==============================] - 5s 1ms/step - loss: 0.6247 - binary_accuracy: 0.6800\n",
      "Epoch 41/50\n",
      "4281/4281 [==============================] - 5s 1ms/step - loss: 0.6248 - binary_accuracy: 0.6800\n",
      "Epoch 42/50\n",
      "4281/4281 [==============================] - 5s 1ms/step - loss: 0.6248 - binary_accuracy: 0.6800\n",
      "Epoch 43/50\n",
      "4281/4281 [==============================] - 5s 1ms/step - loss: 0.6245 - binary_accuracy: 0.6800\n",
      "Epoch 44/50\n",
      "4281/4281 [==============================] - 5s 1ms/step - loss: 0.6244 - binary_accuracy: 0.6800\n",
      "Epoch 45/50\n",
      "4281/4281 [==============================] - 5s 1ms/step - loss: 0.6245 - binary_accuracy: 0.6800\n",
      "Epoch 46/50\n",
      "4281/4281 [==============================] - 5s 1ms/step - loss: 0.6242 - binary_accuracy: 0.6800\n",
      "Epoch 47/50\n",
      "4281/4281 [==============================] - 5s 1ms/step - loss: 0.6247 - binary_accuracy: 0.6800\n",
      "Epoch 48/50\n",
      "4281/4281 [==============================] - 5s 1ms/step - loss: 0.6242 - binary_accuracy: 0.6800\n",
      "Epoch 49/50\n",
      "4281/4281 [==============================] - 5s 1ms/step - loss: 0.6245 - binary_accuracy: 0.6800\n",
      "Epoch 50/50\n",
      "4281/4281 [==============================] - 5s 1ms/step - loss: 0.6242 - binary_accuracy: 0.6800\n"
     ]
    }
   ],
   "source": [
    "history = autoencoder.fit(train_data, train_labels, \n",
    "          epochs=50, \n",
    "          batch_size=8,\n",
    "          #validation_data=(test_data, test_labels),\n",
    "          shuffle=True)\n"
   ]
  },
  {
   "cell_type": "code",
   "execution_count": 10,
   "metadata": {},
   "outputs": [
    {
     "name": "stdout",
     "output_type": "stream",
     "text": [
      "528/528 [==============================] - 1s 801us/step - loss: 0.6339 - binary_accuracy: 0.6771\n",
      "test loss, test acc: [0.633924126625061, 0.6771206855773926]\n"
     ]
    }
   ],
   "source": [
    "results = autoencoder.evaluate(test_data, test_labels)\n",
    "print(\"test loss, test acc:\", results)"
   ]
  }
 ],
 "metadata": {
  "interpreter": {
   "hash": "a71c52cf81b3ce176a2dee7a24d4a513c23ffb6ff815f0de53fd7e035b7d8234"
  },
  "kernelspec": {
   "display_name": "Python 3.9.2 ('venv')",
   "language": "python",
   "name": "python3"
  },
  "language_info": {
   "codemirror_mode": {
    "name": "ipython",
    "version": 3
   },
   "file_extension": ".py",
   "mimetype": "text/x-python",
   "name": "python",
   "nbconvert_exporter": "python",
   "pygments_lexer": "ipython3",
   "version": "3.9.2"
  },
  "orig_nbformat": 4
 },
 "nbformat": 4,
 "nbformat_minor": 2
}
