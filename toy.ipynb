{
 "cells": [
  {
   "cell_type": "code",
   "execution_count": 1,
   "metadata": {},
   "outputs": [
    {
     "name": "stderr",
     "output_type": "stream",
     "text": [
      "2022-09-16 12:31:32.660221: I tensorflow/core/platform/cpu_feature_guard.cc:193] This TensorFlow binary is optimized with oneAPI Deep Neural Network Library (oneDNN) to use the following CPU instructions in performance-critical operations:  AVX2 AVX512F FMA\n",
      "To enable them in other operations, rebuild TensorFlow with the appropriate compiler flags.\n",
      "2022-09-16 12:31:32.799217: E tensorflow/stream_executor/cuda/cuda_blas.cc:2981] Unable to register cuBLAS factory: Attempting to register factory for plugin cuBLAS when one has already been registered\n",
      "2022-09-16 12:31:33.336942: W tensorflow/stream_executor/platform/default/dso_loader.cc:64] Could not load dynamic library 'libnvinfer.so.7'; dlerror: libnvinfer.so.7: cannot open shared object file: No such file or directory\n",
      "2022-09-16 12:31:33.336987: W tensorflow/stream_executor/platform/default/dso_loader.cc:64] Could not load dynamic library 'libnvinfer_plugin.so.7'; dlerror: libnvinfer_plugin.so.7: cannot open shared object file: No such file or directory\n",
      "2022-09-16 12:31:33.336992: W tensorflow/compiler/tf2tensorrt/utils/py_utils.cc:38] TF-TRT Warning: Cannot dlopen some TensorRT libraries. If you would like to use Nvidia GPU with TensorRT, please make sure the missing libraries mentioned above are installed properly.\n"
     ]
    }
   ],
   "source": [
    "import tensorflow as tf\n",
    "import numpy as np\n",
    "import pandas as pd\n",
    "from sklearn import model_selection\n",
    "from sklearn.preprocessing import LabelEncoder\n",
    "from matplotlib import pyplot as plt"
   ]
  },
  {
   "cell_type": "code",
   "execution_count": 2,
   "metadata": {},
   "outputs": [],
   "source": [
    "from sklearn.metrics import accuracy_score, precision_score, recall_score, f1_score, roc_auc_score"
   ]
  },
  {
   "cell_type": "code",
   "execution_count": 3,
   "metadata": {},
   "outputs": [],
   "source": [
    "data = pd.read_csv(\"../../datasets/TON_IoT-Datasets/Train_Test_datasets/Train_Test_Network_dataset/Train_Test_Network.csv\")"
   ]
  },
  {
   "cell_type": "code",
   "execution_count": 4,
   "metadata": {},
   "outputs": [],
   "source": [
    "data.pop('type')\n",
    "data.pop('ts')\n",
    "data_labels = data.pop('label')"
   ]
  },
  {
   "cell_type": "code",
   "execution_count": 5,
   "metadata": {},
   "outputs": [],
   "source": [
    "#cat_indexs = [0, 1, 2, 3, 4, 5, 9, 15, 16, 17, 18, 19, 20, 21, 22, 23, 24, 25, 26, 27, 28, 29, 30, 31, 32, 35, 36, 37, 38, 39, 40, 41]\n",
    "num_indexs = [6, 7, 8, 10, 11, 12, 13, 14, 33, 34]\n",
    "#col_names = np.array(data.columns[cat_indexs])"
   ]
  },
  {
   "cell_type": "code",
   "execution_count": 6,
   "metadata": {},
   "outputs": [],
   "source": [
    "data_features = data.iloc[:,num_indexs]\n",
    "#data_features = pd.get_dummies(data, columns = col_names)"
   ]
  },
  {
   "cell_type": "code",
   "execution_count": 7,
   "metadata": {},
   "outputs": [],
   "source": [
    "X_train, X_test, y_train, y_test = model_selection.train_test_split(data_features, data_labels, test_size=0.33)"
   ]
  },
  {
   "cell_type": "code",
   "execution_count": 8,
   "metadata": {},
   "outputs": [],
   "source": [
    "def create_keras_model():\n",
    "  initializer=tf.keras.initializers.GlorotUniform(seed= 16)\n",
    "  return tf.keras.models.Sequential([\n",
    "      tf.keras.layers.Input(shape=(len(data_features.columns),)),\n",
    "      tf.keras.layers.Dense(128, activation=\"relu\", kernel_initializer=initializer),\n",
    "      tf.keras.layers.Dense(64, activation=\"relu\", kernel_initializer=initializer),\n",
    "      tf.keras.layers.Dense(64, activation=\"relu\", kernel_initializer=initializer),\n",
    "      tf.keras.layers.Dense(32, activation=\"relu\", kernel_initializer=initializer),\n",
    "      #tf.keras.layers.Dense(256, activation=\"relu\"),\n",
    "      #tf.keras.layers.Dense(256, activation=\"relu\"),\n",
    "      #tf.keras.layers.Dense(256, activation=\"relu\"),\n",
    "      tf.keras.layers.Dropout(0.15),\n",
    "      #tf.keras.layers.Dense(256, activation=\"relu\"),\n",
    "      tf.keras.layers.Dense(32, activation=\"relu\", kernel_initializer=initializer),\n",
    "      tf.keras.layers.Dense(2, activation=\"relu\", kernel_initializer=initializer),\n",
    "      #tf.keras.layers.Dense(2, activation=\"relu\"),\n",
    "      #tf.keras.layers.Dense(32, activation=\"relu\"),\n",
    "      #tf.keras.layers.Dense(4, activation=\"relu\"),\n",
    "      tf.keras.layers.Dense(1, activation=\"sigmoid\", kernel_initializer=initializer)\n",
    "      #tf.keras.layers.Softmax()\n",
    "  ])\n",
    "\n"
   ]
  },
  {
   "cell_type": "code",
   "execution_count": 9,
   "metadata": {},
   "outputs": [
    {
     "name": "stdout",
     "output_type": "stream",
     "text": [
      "Epoch 1/100\n"
     ]
    },
    {
     "name": "stderr",
     "output_type": "stream",
     "text": [
      "2022-09-16 12:31:35.989094: I tensorflow/core/platform/cpu_feature_guard.cc:193] This TensorFlow binary is optimized with oneAPI Deep Neural Network Library (oneDNN) to use the following CPU instructions in performance-critical operations:  AVX2 AVX512F FMA\n",
      "To enable them in other operations, rebuild TensorFlow with the appropriate compiler flags.\n",
      "2022-09-16 12:31:36.819098: I tensorflow/core/common_runtime/gpu/gpu_device.cc:1616] Created device /job:localhost/replica:0/task:0/device:GPU:0 with 9633 MB memory:  -> device: 0, name: NVIDIA GeForce RTX 2080 Ti, pci bus id: 0000:17:00.0, compute capability: 7.5\n",
      "2022-09-16 12:31:36.819746: I tensorflow/core/common_runtime/gpu/gpu_device.cc:1616] Created device /job:localhost/replica:0/task:0/device:GPU:1 with 9293 MB memory:  -> device: 1, name: NVIDIA GeForce RTX 2080 Ti, pci bus id: 0000:65:00.0, compute capability: 7.5\n"
     ]
    },
    {
     "name": "stdout",
     "output_type": "stream",
     "text": [
      "2414/2414 [==============================] - 6s 2ms/step - loss: 0.7169 - binary_accuracy: 0.6525 - val_loss: 0.6671 - val_binary_accuracy: 0.6495\n",
      "Epoch 2/100\n",
      "2414/2414 [==============================] - 5s 2ms/step - loss: 0.6528 - binary_accuracy: 0.7200 - val_loss: 0.5399 - val_binary_accuracy: 0.7777\n",
      "Epoch 3/100\n",
      "2414/2414 [==============================] - 5s 2ms/step - loss: 0.5233 - binary_accuracy: 0.7851 - val_loss: 0.4991 - val_binary_accuracy: 0.8156\n",
      "Epoch 4/100\n",
      "2414/2414 [==============================] - 5s 2ms/step - loss: 0.4894 - binary_accuracy: 0.8054 - val_loss: 0.4760 - val_binary_accuracy: 0.8161\n",
      "Epoch 5/100\n",
      "2414/2414 [==============================] - 5s 2ms/step - loss: 0.4680 - binary_accuracy: 0.8140 - val_loss: 0.4494 - val_binary_accuracy: 0.8154\n",
      "Epoch 6/100\n",
      "2414/2414 [==============================] - 5s 2ms/step - loss: 0.4432 - binary_accuracy: 0.8256 - val_loss: 0.4320 - val_binary_accuracy: 0.8353\n",
      "Epoch 7/100\n",
      "2414/2414 [==============================] - 5s 2ms/step - loss: 0.4278 - binary_accuracy: 0.8329 - val_loss: 0.4163 - val_binary_accuracy: 0.8362\n",
      "Epoch 8/100\n",
      "2414/2414 [==============================] - 5s 2ms/step - loss: 0.4267 - binary_accuracy: 0.8337 - val_loss: 0.4189 - val_binary_accuracy: 0.8355\n",
      "Epoch 9/100\n",
      "2414/2414 [==============================] - 5s 2ms/step - loss: 0.4184 - binary_accuracy: 0.8352 - val_loss: 0.4154 - val_binary_accuracy: 0.8363\n",
      "Epoch 10/100\n",
      "2414/2414 [==============================] - 5s 2ms/step - loss: 0.4184 - binary_accuracy: 0.8355 - val_loss: 0.4151 - val_binary_accuracy: 0.8363\n",
      "Epoch 11/100\n",
      "2414/2414 [==============================] - 5s 2ms/step - loss: 0.4156 - binary_accuracy: 0.8365 - val_loss: 0.4132 - val_binary_accuracy: 0.8362\n",
      "Epoch 12/100\n",
      "2414/2414 [==============================] - 5s 2ms/step - loss: 0.4149 - binary_accuracy: 0.8368 - val_loss: 0.4152 - val_binary_accuracy: 0.8367\n",
      "Epoch 13/100\n",
      "2414/2414 [==============================] - 5s 2ms/step - loss: 0.4142 - binary_accuracy: 0.8371 - val_loss: 0.4226 - val_binary_accuracy: 0.8369\n"
     ]
    }
   ],
   "source": [
    "model = create_keras_model()\n",
    "early_stopping = tf.keras.callbacks.EarlyStopping(monitor=\"val_loss\", patience=2, mode=\"min\")\n",
    "opt = tf.keras.optimizers.Adam(learning_rate=0.0001)\n",
    "metrics = [tf.keras.metrics.BinaryAccuracy()]\n",
    "loss = [tf.keras.losses.BinaryCrossentropy()]\n",
    "model.compile(optimizer=opt, loss=loss, metrics = metrics)\n",
    "\n",
    "history = model.fit(X_train, y_train, epochs=100, batch_size=128,\n",
    "                    validation_data=(X_test, y_test),\n",
    "                    shuffle=True,\n",
    "                    callbacks=[early_stopping], verbose=True\n",
    "                    )"
   ]
  },
  {
   "cell_type": "code",
   "execution_count": 10,
   "metadata": {},
   "outputs": [],
   "source": [
    "def save_stats(predictions, labels, print_sc=False):\n",
    "\n",
    "  acc = \"{:.4f}\".format(accuracy_score(labels, predictions))\n",
    "  prec = \"{:.4f}\".format(precision_score(labels, predictions, zero_division=0))\n",
    "  rcl = \"{:.4f}\".format(recall_score(labels, predictions, zero_division=0))\n",
    "  f1 = \"{:.4f}\".format(f1_score(labels, predictions, zero_division=0))\n",
    "  roc = \"{:.4f}\".format(roc_auc_score(labels, predictions))\n",
    "\n",
    "  if print_sc:\n",
    "    print(\"Accuracy = \" + acc)\n",
    "    print(\"Precision = \" + prec)\n",
    "    print(\"Recall = \" + rcl) #sensitivity\n",
    "    print(\"F1 = \" + f1)\n",
    "    print(\"ROC_AUC = \" + roc)\n",
    "\n",
    "  return (acc + \" \" + prec + \" \" + rcl + \" \" + f1 + \" \" + roc)"
   ]
  },
  {
   "cell_type": "code",
   "execution_count": 11,
   "metadata": {},
   "outputs": [
    {
     "name": "stdout",
     "output_type": "stream",
     "text": [
      "4755/4755 [==============================] - 4s 785us/step\n",
      "Accuracy = 0.8369\n",
      "Precision = 0.9847\n",
      "Recall = 0.5431\n",
      "F1 = 0.7000\n",
      "ROC_AUC = 0.7693\n"
     ]
    }
   ],
   "source": [
    "preds = model.predict(X_test)\n",
    "out = save_stats(np.round(preds, decimals=0), y_test.astype(int), True)"
   ]
  },
  {
   "cell_type": "code",
   "execution_count": 12,
   "metadata": {},
   "outputs": [],
   "source": [
    "prec = precision_score(y_test.astype(int), np.round(preds, decimals=0), zero_division=0)\n",
    "rcl = recall_score(y_test.astype(int), np.round(preds, decimals=0), zero_division=0)"
   ]
  },
  {
   "cell_type": "code",
   "execution_count": 35,
   "metadata": {},
   "outputs": [
    {
     "name": "stderr",
     "output_type": "stream",
     "text": [
      "The PostScript backend does not support transparency; partially transparent artists will be rendered opaque.\n",
      "The PostScript backend does not support transparency; partially transparent artists will be rendered opaque.\n"
     ]
    },
    {
     "data": {
      "image/png": "[encoded data removed]",
      "text/plain": [
       "<Figure size 640x480 with 2 Axes>"
      ]
     },
     "metadata": {},
     "output_type": "display_data"
    }
   ],
   "source": [
    "'''PR CURVE'''\n",
    "\n",
    "figure, axis = plt.subplots(1, 2)\n",
    "\n",
    "'''PLOT 1'''\n",
    "axis[0].plot(history.history['loss'])\n",
    "axis[0].plot(history.history['val_loss'])\n",
    "axis[0].legend([\"Trn\", \"Vldt\"], loc='upper right')\n",
    "axis[0].set_xlabel(\"Number of rounds\")\n",
    "axis[0].set_ylabel(\"Loss\")\n",
    "axis[0].set_ylim(0, 1)\n",
    "\n",
    "\n",
    "\n",
    "'''PLOT 2'''\n",
    "axis[1].plot(rcl, prec, marker=\"p\", markersize=12, markeredgecolor=\"black\", markerfacecolor=\"coral\")\n",
    "axis[1].set_ylabel('Precision')\n",
    "axis[1].set_xlabel('Recall')\n",
    "axis[1].set_xlim(0, 1)\n",
    "axis[1].set_ylim(0, 1)\n",
    "axis[1].grid()\n",
    "\n",
    "\n",
    "plt.subplots_adjust(left=0.1,\n",
    "                    bottom=0.1,\n",
    "                    right=0.9,\n",
    "                    top=0.6,\n",
    "                    wspace=0.4,\n",
    "                    hspace=0.4)\n",
    "\n",
    "plt.savefig('toy_results.eps', format='eps')\n",
    "plt.show()"
   ]
  },
  {
   "cell_type": "code",
   "execution_count": 38,
   "metadata": {},
   "outputs": [
    {
     "name": "stderr",
     "output_type": "stream",
     "text": [
      "The PostScript backend does not support transparency; partially transparent artists will be rendered opaque.\n",
      "The PostScript backend does not support transparency; partially transparent artists will be rendered opaque.\n"
     ]
    },
    {
     "data": {
      "image/png": "[encoded data removed]",
      "text/plain": [
       "<Figure size 640x480 with 1 Axes>"
      ]
     },
     "metadata": {},
     "output_type": "display_data"
    }
   ],
   "source": [
    "plt.plot(history.history['loss'])\n",
    "plt.plot(history.history['val_loss'])\n",
    "plt.ylabel('Loss')\n",
    "plt.xlabel('Number of epochs')\n",
    "plt.legend(['Trn', 'Vldt'], loc='upper left')\n",
    "plt.ylim(0,1)\n",
    "\n",
    "\n",
    "\n",
    "plt.savefig('toy_loss.eps', format='eps')\n",
    "plt.show()"
   ]
  },
  {
   "cell_type": "code",
   "execution_count": 37,
   "metadata": {},
   "outputs": [
    {
     "data": {
      "image/png": "[encoded data removed]",
      "text/plain": [
       "<Figure size 640x480 with 1 Axes>"
      ]
     },
     "metadata": {},
     "output_type": "display_data"
    }
   ],
   "source": [
    "    '''PLOT PR'''\n",
    "    plt.xlim(0, 1)\n",
    "    plt.ylim(0, 1)\n",
    "    plt.grid()\n",
    "    plt.plot(rcl, prec, marker=\"p\", markersize=12, markeredgecolor=\"black\", markerfacecolor=\"coral\")\n",
    "    plt.ylabel('Precision')\n",
    "    plt.xlabel('Recall')\n",
    "    plt.savefig('toy_pr.eps', format='eps')\n",
    "    plt.show()"
   ]
  },
  {
   "cell_type": "code",
   "execution_count": null,
   "metadata": {},
   "outputs": [],
   "source": []
  }
 ],
 "metadata": {
  "interpreter": {
   "hash": "a71c52cf81b3ce176a2dee7a24d4a513c23ffb6ff815f0de53fd7e035b7d8234"
  },
  "kernelspec": {
   "display_name": "venv",
   "language": "python",
   "name": "venv"
  },
  "language_info": {
   "codemirror_mode": {
    "name": "ipython",
    "version": 3
   },
   "file_extension": ".py",
   "mimetype": "text/x-python",
   "name": "python",
   "nbconvert_exporter": "python",
   "pygments_lexer": "ipython3",
   "version": "3.9.5"
  }
 },
 "nbformat": 4,
 "nbformat_minor": 2
}
