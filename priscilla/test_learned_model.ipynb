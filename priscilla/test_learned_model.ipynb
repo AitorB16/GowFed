{
 "cells": [
  {
   "cell_type": "code",
   "execution_count": 12,
   "metadata": {},
   "outputs": [],
   "source": [
    "import matplotlib.pyplot as plt\n",
    "import numpy as np\n",
    "import pandas as pd\n",
    "import tensorflow as tf\n",
    "import tensorflow_federated as tff\n",
    "\n",
    "#from absl import app\n",
    "#import nest_asyncio\n",
    "#nest_asyncio.apply()\n",
    "\n",
    "#from sklearn.model_selection import train_test_split\n",
    "\n",
    "from sklearn.metrics import accuracy_score, precision_score, recall_score, f1_score, roc_auc_score\n",
    "\n",
    "from sklearn.preprocessing import MinMaxScaler, StandardScaler, OneHotEncoder\n",
    "\n",
    "import gower as gd\n",
    "\n",
    "#import sys\n",
    "#sys.path.append(\"/home/tester/Desktop/TF/federated/tensorflow_federated/examples/simple_fedavg\")\n",
    "#sys.path.append(\"/home/tester/Desktop/TF/gower/gower\")\n",
    "#import simple_fedavg_tff\n",
    "#import gower_dist as gd\n"
   ]
  },
  {
   "cell_type": "code",
   "execution_count": 13,
   "metadata": {},
   "outputs": [],
   "source": [
    "RUN_NAME = 'F2'\n",
    "PRINT_SCR = True\n",
    "BALANCE_DATA = False\n",
    "SAMPLE_SIZE = 5000\n",
    "TEST_SIZE = 475"
   ]
  },
  {
   "cell_type": "code",
   "execution_count": 14,
   "metadata": {},
   "outputs": [
    {
     "name": "stdout",
     "output_type": "stream",
     "text": [
      "WARNING:tensorflow:No training configuration found in the save file, so the model was *not* compiled. Compile it manually.\n"
     ]
    }
   ],
   "source": [
    "#Load model\n",
    "model = tf.keras.models.load_model('results/fl/' + RUN_NAME + '/model.h5')"
   ]
  },
  {
   "cell_type": "code",
   "execution_count": 15,
   "metadata": {},
   "outputs": [
    {
     "data": {
      "text/html": [
       "<div>\n",
       "<style scoped>\n",
       "    .dataframe tbody tr th:only-of-type {\n",
       "        vertical-align: middle;\n",
       "    }\n",
       "\n",
       "    .dataframe tbody tr th {\n",
       "        vertical-align: top;\n",
       "    }\n",
       "\n",
       "    .dataframe thead th {\n",
       "        text-align: right;\n",
       "    }\n",
       "</style>\n",
       "<table border=\"1\" class=\"dataframe\">\n",
       "  <thead>\n",
       "    <tr style=\"text-align: right;\">\n",
       "      <th></th>\n",
       "      <th>src_ip</th>\n",
       "      <th>src_port</th>\n",
       "      <th>dst_ip</th>\n",
       "      <th>dst_port</th>\n",
       "      <th>proto</th>\n",
       "      <th>service</th>\n",
       "      <th>duration</th>\n",
       "      <th>src_bytes</th>\n",
       "      <th>dst_bytes</th>\n",
       "      <th>conn_state</th>\n",
       "      <th>...</th>\n",
       "      <th>http_request_body_len</th>\n",
       "      <th>http_response_body_len</th>\n",
       "      <th>http_status_code</th>\n",
       "      <th>http_user_agent</th>\n",
       "      <th>http_orig_mime_types</th>\n",
       "      <th>http_resp_mime_types</th>\n",
       "      <th>weird_name</th>\n",
       "      <th>weird_addl</th>\n",
       "      <th>weird_notice</th>\n",
       "      <th>label</th>\n",
       "    </tr>\n",
       "  </thead>\n",
       "  <tbody>\n",
       "    <tr>\n",
       "      <th>0</th>\n",
       "      <td>3.122.49.24</td>\n",
       "      <td>1883</td>\n",
       "      <td>192.168.1.152</td>\n",
       "      <td>52976</td>\n",
       "      <td>tcp</td>\n",
       "      <td>-</td>\n",
       "      <td>80549.530260</td>\n",
       "      <td>1762852</td>\n",
       "      <td>41933215</td>\n",
       "      <td>OTH</td>\n",
       "      <td>...</td>\n",
       "      <td>0</td>\n",
       "      <td>0</td>\n",
       "      <td>0</td>\n",
       "      <td>-</td>\n",
       "      <td>-</td>\n",
       "      <td>-</td>\n",
       "      <td>bad_TCP_checksum</td>\n",
       "      <td>-</td>\n",
       "      <td>F</td>\n",
       "      <td>0</td>\n",
       "    </tr>\n",
       "    <tr>\n",
       "      <th>1</th>\n",
       "      <td>192.168.1.79</td>\n",
       "      <td>47260</td>\n",
       "      <td>192.168.1.255</td>\n",
       "      <td>15600</td>\n",
       "      <td>udp</td>\n",
       "      <td>-</td>\n",
       "      <td>0.000000</td>\n",
       "      <td>0</td>\n",
       "      <td>0</td>\n",
       "      <td>S0</td>\n",
       "      <td>...</td>\n",
       "      <td>0</td>\n",
       "      <td>0</td>\n",
       "      <td>0</td>\n",
       "      <td>-</td>\n",
       "      <td>-</td>\n",
       "      <td>-</td>\n",
       "      <td>-</td>\n",
       "      <td>-</td>\n",
       "      <td>-</td>\n",
       "      <td>0</td>\n",
       "    </tr>\n",
       "    <tr>\n",
       "      <th>2</th>\n",
       "      <td>192.168.1.152</td>\n",
       "      <td>1880</td>\n",
       "      <td>192.168.1.152</td>\n",
       "      <td>51782</td>\n",
       "      <td>tcp</td>\n",
       "      <td>-</td>\n",
       "      <td>0.000000</td>\n",
       "      <td>0</td>\n",
       "      <td>0</td>\n",
       "      <td>OTH</td>\n",
       "      <td>...</td>\n",
       "      <td>0</td>\n",
       "      <td>0</td>\n",
       "      <td>0</td>\n",
       "      <td>-</td>\n",
       "      <td>-</td>\n",
       "      <td>-</td>\n",
       "      <td>bad_TCP_checksum</td>\n",
       "      <td>-</td>\n",
       "      <td>F</td>\n",
       "      <td>0</td>\n",
       "    </tr>\n",
       "    <tr>\n",
       "      <th>3</th>\n",
       "      <td>192.168.1.152</td>\n",
       "      <td>34296</td>\n",
       "      <td>192.168.1.152</td>\n",
       "      <td>10502</td>\n",
       "      <td>tcp</td>\n",
       "      <td>-</td>\n",
       "      <td>0.000000</td>\n",
       "      <td>0</td>\n",
       "      <td>0</td>\n",
       "      <td>OTH</td>\n",
       "      <td>...</td>\n",
       "      <td>0</td>\n",
       "      <td>0</td>\n",
       "      <td>0</td>\n",
       "      <td>-</td>\n",
       "      <td>-</td>\n",
       "      <td>-</td>\n",
       "      <td>-</td>\n",
       "      <td>-</td>\n",
       "      <td>-</td>\n",
       "      <td>0</td>\n",
       "    </tr>\n",
       "    <tr>\n",
       "      <th>4</th>\n",
       "      <td>192.168.1.152</td>\n",
       "      <td>46608</td>\n",
       "      <td>192.168.1.190</td>\n",
       "      <td>53</td>\n",
       "      <td>udp</td>\n",
       "      <td>dns</td>\n",
       "      <td>0.000549</td>\n",
       "      <td>0</td>\n",
       "      <td>298</td>\n",
       "      <td>SHR</td>\n",
       "      <td>...</td>\n",
       "      <td>0</td>\n",
       "      <td>0</td>\n",
       "      <td>0</td>\n",
       "      <td>-</td>\n",
       "      <td>-</td>\n",
       "      <td>-</td>\n",
       "      <td>bad_UDP_checksum</td>\n",
       "      <td>-</td>\n",
       "      <td>F</td>\n",
       "      <td>0</td>\n",
       "    </tr>\n",
       "  </tbody>\n",
       "</table>\n",
       "<p>5 rows × 43 columns</p>\n",
       "</div>"
      ],
      "text/plain": [
       "          src_ip  src_port         dst_ip  dst_port proto service  \\\n",
       "0    3.122.49.24      1883  192.168.1.152     52976   tcp       -   \n",
       "1   192.168.1.79     47260  192.168.1.255     15600   udp       -   \n",
       "2  192.168.1.152      1880  192.168.1.152     51782   tcp       -   \n",
       "3  192.168.1.152     34296  192.168.1.152     10502   tcp       -   \n",
       "4  192.168.1.152     46608  192.168.1.190        53   udp     dns   \n",
       "\n",
       "       duration  src_bytes  dst_bytes conn_state  ...  http_request_body_len  \\\n",
       "0  80549.530260    1762852   41933215        OTH  ...                      0   \n",
       "1      0.000000          0          0         S0  ...                      0   \n",
       "2      0.000000          0          0        OTH  ...                      0   \n",
       "3      0.000000          0          0        OTH  ...                      0   \n",
       "4      0.000549          0        298        SHR  ...                      0   \n",
       "\n",
       "   http_response_body_len  http_status_code  http_user_agent  \\\n",
       "0                       0                 0                -   \n",
       "1                       0                 0                -   \n",
       "2                       0                 0                -   \n",
       "3                       0                 0                -   \n",
       "4                       0                 0                -   \n",
       "\n",
       "   http_orig_mime_types http_resp_mime_types        weird_name  weird_addl  \\\n",
       "0                     -                    -  bad_TCP_checksum           -   \n",
       "1                     -                    -                 -           -   \n",
       "2                     -                    -  bad_TCP_checksum           -   \n",
       "3                     -                    -                 -           -   \n",
       "4                     -                    -  bad_UDP_checksum           -   \n",
       "\n",
       "   weird_notice label  \n",
       "0             F     0  \n",
       "1             -     0  \n",
       "2             F     0  \n",
       "3             -     0  \n",
       "4             F     0  \n",
       "\n",
       "[5 rows x 43 columns]"
      ]
     },
     "execution_count": 15,
     "metadata": {},
     "output_type": "execute_result"
    }
   ],
   "source": [
    "df = pd.read_csv(\"../datasets/TON_IoT-Datasets/Train_Test_datasets/Train_Test_Network_dataset/Train_Test_Network.csv\")\n",
    "df.pop('type')\n",
    "df.pop('ts')\n",
    "df.head()"
   ]
  },
  {
   "cell_type": "code",
   "execution_count": 16,
   "metadata": {},
   "outputs": [],
   "source": [
    "cat_indexs = [0, 1, 2, 3, 4, 5, 9, 15, 16, 17, 18, 19, 20, 21, 22, 23, 24, 25, 26, 27, 28, 29, 30, 31, 32, 35, 36, 37, 38, 39, 40, 41]\n",
    "num_indexs = [6, 7, 8, 10, 11, 12, 13, 14, 33, 34]\n",
    "#bool_indexs = []\n"
   ]
  },
  {
   "cell_type": "code",
   "execution_count": 17,
   "metadata": {},
   "outputs": [],
   "source": [
    "# Which cols are categorical\n",
    "cat_index_bool = [False] * 42\n",
    "for e in cat_indexs:\n",
    "    cat_index_bool[e] = True"
   ]
  },
  {
   "cell_type": "code",
   "execution_count": 18,
   "metadata": {},
   "outputs": [
    {
     "name": "stdout",
     "output_type": "stream",
     "text": [
      "0.34930147513355586\n"
     ]
    }
   ],
   "source": [
    "# # Percentage malware\n",
    "perc = len(df.loc[df['label']==1])/len(df)\n",
    "if PRINT_SCR:\n",
    "    print(perc)\n",
    "\n",
    "# Balance dataset\n",
    "if BALANCE_DATA:\n",
    "    num_anom = len(df.loc[df['label']==1])\n",
    "    df_anom = df.loc[df['label']==1]\n",
    "    df_balance = df.loc[df['label']==0]\n",
    "    df_balance = df_balance.sample(num_anom, replace=False)\n",
    "    df_concated = pd.concat([df_balance, df_anom])\n",
    "    balanced_data = df_concated\n",
    "    df = balanced_data\n"
   ]
  },
  {
   "cell_type": "code",
   "execution_count": 19,
   "metadata": {},
   "outputs": [],
   "source": [
    "test_data = df.sample(SAMPLE_SIZE, random_state=2)\n",
    "test_labels = test_data.pop('label')"
   ]
  },
  {
   "cell_type": "code",
   "execution_count": 20,
   "metadata": {},
   "outputs": [],
   "source": [
    "# Need train partition to compute test matrix\n",
    "test_gower_mat = gd.gower_matrix_limit_cols(test_data,TEST_SIZE,cat_features=cat_index_bool)"
   ]
  },
  {
   "cell_type": "code",
   "execution_count": 21,
   "metadata": {},
   "outputs": [],
   "source": [
    "def predict(model, data):\n",
    "  reconstructions = model(data)\n",
    "  return reconstructions\n",
    "\n",
    "def save_stats(predictions, labels, print_scr=True):\n",
    "\n",
    "  acc = \"{:.4f}\".format(accuracy_score(labels, predictions))\n",
    "  prec = \"{:.4f}\".format(precision_score(labels, predictions, zero_division=0))\n",
    "  rcl = \"{:.4f}\".format(recall_score(labels, predictions, zero_division=0))\n",
    "  f1 = \"{:.4f}\".format(f1_score(labels, predictions, zero_division=0))\n",
    "  roc = \"{:.4f}\".format(roc_auc_score(labels, predictions))\n",
    "\n",
    "  if print_scr:\n",
    "    print(\"Accuracy = \" + acc)\n",
    "    print(\"Precision = \" + prec)\n",
    "    print(\"Recall = \" + rcl) #sensitivity\n",
    "    print(\"F1 = \" + f1)\n",
    "    print(\"ROC_AUC = \" + roc)\n",
    "\n",
    "  return (acc + \" \" + prec + \" \" + rcl + \" \" + f1 + \" \" + roc)\n"
   ]
  },
  {
   "cell_type": "code",
   "execution_count": 22,
   "metadata": {},
   "outputs": [
    {
     "name": "stdout",
     "output_type": "stream",
     "text": [
      "Accuracy = 0.6476\n",
      "Precision = 0.0000\n",
      "Recall = 0.0000\n",
      "F1 = 0.0000\n",
      "ROC_AUC = 0.5000\n"
     ]
    }
   ],
   "source": [
    "#test = pd.DataFrame.from_dict(test_cl_dict[str(np.random.randint(0,NUM_CLIENTS-1))]).copy()\n",
    "#labs = test.pop('label')\n",
    "preds = predict(model, np.array(test_gower_mat))\n",
    "a = save_stats(np.round(preds[:,1], decimals=0), test_labels.astype(int), PRINT_SCR)"
   ]
  },
  {
   "cell_type": "code",
   "execution_count": 23,
   "metadata": {},
   "outputs": [
    {
     "name": "stdout",
     "output_type": "stream",
     "text": [
      "[[-0.0795357  -0.04372541 -0.11215445 ... -0.03973442 -0.06170009\n",
      "  -0.02951626]\n",
      " [-0.01693022 -0.08426588 -0.08953209 ...  0.00368234  0.00227912\n",
      "  -0.08559938]\n",
      " [ 0.00039241  0.09665311 -0.03616171 ... -0.10342579  0.01036007\n",
      "   0.0136985 ]\n",
      " ...\n",
      " [ 0.01536194 -0.03581058  0.1203389  ... -0.01302702 -0.01485945\n",
      "  -0.03442252]\n",
      " [ 0.0404333   0.09487855 -0.02929065 ... -0.06922565  0.03077221\n",
      "  -0.04699507]\n",
      " [-0.05709641 -0.02988226  0.0511932  ... -0.07617711 -0.12072495\n",
      "  -0.0644127 ]]\n"
     ]
    }
   ],
   "source": [
    "#first_layer_weights = model.layers[0].get_weights()[0]\n",
    "#print(first_layer_weights)"
   ]
  }
 ],
 "metadata": {
  "interpreter": {
   "hash": "a71c52cf81b3ce176a2dee7a24d4a513c23ffb6ff815f0de53fd7e035b7d8234"
  },
  "kernelspec": {
   "display_name": "Python 3.9.2 ('venv')",
   "language": "python",
   "name": "python3"
  },
  "language_info": {
   "codemirror_mode": {
    "name": "ipython",
    "version": 3
   },
   "file_extension": ".py",
   "mimetype": "text/x-python",
   "name": "python",
   "nbconvert_exporter": "python",
   "pygments_lexer": "ipython3",
   "version": "3.9.2"
  },
  "orig_nbformat": 4
 },
 "nbformat": 4,
 "nbformat_minor": 2
}
